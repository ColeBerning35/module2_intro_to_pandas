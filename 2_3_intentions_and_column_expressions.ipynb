{
  "cells": [
    {
      "cell_type": "markdown",
      "metadata": {
        "id": "view-in-github",
        "colab_type": "text"
      },
      "source": [
        "<a href=\"https://colab.research.google.com/github/ColeBerning35/module2_intro_to_pandas/blob/main/2_3_intentions_and_column_expressions.ipynb\" target=\"_parent\"><img src=\"https://colab.research.google.com/assets/colab-badge.svg\" alt=\"Open In Colab\"/></a>"
      ]
    },
    {
      "cell_type": "markdown",
      "metadata": {
        "id": "DvsoZQKly94z"
      },
      "source": [
        "# More on Intentions and Column Expressions"
      ]
    },
    {
      "cell_type": "code",
      "source": [
        "!pip install dfply"
      ],
      "metadata": {
        "id": "mSehkrFTzgV4",
        "outputId": "67c4726d-091c-45c1-85a6-40972d09f4d5",
        "colab": {
          "base_uri": "https://localhost:8080/"
        }
      },
      "execution_count": 2,
      "outputs": [
        {
          "output_type": "stream",
          "name": "stdout",
          "text": [
            "Looking in indexes: https://pypi.org/simple, https://us-python.pkg.dev/colab-wheels/public/simple/\n",
            "Collecting dfply\n",
            "  Downloading dfply-0.3.3-py3-none-any.whl (612 kB)\n",
            "\u001b[K     |████████████████████████████████| 612 kB 4.8 MB/s \n",
            "\u001b[?25hRequirement already satisfied: numpy in /usr/local/lib/python3.7/dist-packages (from dfply) (1.21.6)\n",
            "Requirement already satisfied: pandas in /usr/local/lib/python3.7/dist-packages (from dfply) (1.3.5)\n",
            "Requirement already satisfied: python-dateutil>=2.7.3 in /usr/local/lib/python3.7/dist-packages (from pandas->dfply) (2.8.2)\n",
            "Requirement already satisfied: pytz>=2017.3 in /usr/local/lib/python3.7/dist-packages (from pandas->dfply) (2022.2.1)\n",
            "Requirement already satisfied: six>=1.5 in /usr/local/lib/python3.7/dist-packages (from python-dateutil>=2.7.3->pandas->dfply) (1.15.0)\n",
            "Installing collected packages: dfply\n",
            "Successfully installed dfply-0.3.3\n"
          ]
        }
      ]
    },
    {
      "cell_type": "code",
      "execution_count": 3,
      "metadata": {
        "id": "AesXcmGvy941"
      },
      "outputs": [],
      "source": [
        "import pandas as pd\n",
        "from dfply import *\n",
        "import matplotlib.pylab as plt\n",
        "%matplotlib inline"
      ]
    },
    {
      "cell_type": "code",
      "execution_count": 4,
      "metadata": {
        "id": "DHfW8TYgy942",
        "outputId": "a92a01e5-79a7-4d2c-80dd-a8033e1d96ed",
        "colab": {
          "base_uri": "https://localhost:8080/",
          "height": 206
        }
      },
      "outputs": [
        {
          "output_type": "execute_result",
          "data": {
            "text/plain": [
              "   ConstituentID      DisplayName            ArtistBio Nationality Gender  \\\n",
              "0              1   Robert Arneson  American, 1930–1992    American   Male   \n",
              "1              2   Doroteo Arnaiz   Spanish, born 1936     Spanish   Male   \n",
              "2              3      Bill Arnold  American, born 1941    American   Male   \n",
              "3              4  Charles Arnoldi  American, born 1946    American   Male   \n",
              "4              5      Per Arnoldi    Danish, born 1941      Danish   Male   \n",
              "\n",
              "   BeginDate  EndDate  Wiki QID         ULAN  \n",
              "0       1930     1992       NaN          NaN  \n",
              "1       1936        0       NaN          NaN  \n",
              "2       1941        0       NaN          NaN  \n",
              "3       1946        0  Q1063584  500027998.0  \n",
              "4       1941        0       NaN          NaN  "
            ],
            "text/html": [
              "\n",
              "  <div id=\"df-831052c8-e3be-40c1-979a-dc9b1a3bb84f\">\n",
              "    <div class=\"colab-df-container\">\n",
              "      <div>\n",
              "<style scoped>\n",
              "    .dataframe tbody tr th:only-of-type {\n",
              "        vertical-align: middle;\n",
              "    }\n",
              "\n",
              "    .dataframe tbody tr th {\n",
              "        vertical-align: top;\n",
              "    }\n",
              "\n",
              "    .dataframe thead th {\n",
              "        text-align: right;\n",
              "    }\n",
              "</style>\n",
              "<table border=\"1\" class=\"dataframe\">\n",
              "  <thead>\n",
              "    <tr style=\"text-align: right;\">\n",
              "      <th></th>\n",
              "      <th>ConstituentID</th>\n",
              "      <th>DisplayName</th>\n",
              "      <th>ArtistBio</th>\n",
              "      <th>Nationality</th>\n",
              "      <th>Gender</th>\n",
              "      <th>BeginDate</th>\n",
              "      <th>EndDate</th>\n",
              "      <th>Wiki QID</th>\n",
              "      <th>ULAN</th>\n",
              "    </tr>\n",
              "  </thead>\n",
              "  <tbody>\n",
              "    <tr>\n",
              "      <th>0</th>\n",
              "      <td>1</td>\n",
              "      <td>Robert Arneson</td>\n",
              "      <td>American, 1930–1992</td>\n",
              "      <td>American</td>\n",
              "      <td>Male</td>\n",
              "      <td>1930</td>\n",
              "      <td>1992</td>\n",
              "      <td>NaN</td>\n",
              "      <td>NaN</td>\n",
              "    </tr>\n",
              "    <tr>\n",
              "      <th>1</th>\n",
              "      <td>2</td>\n",
              "      <td>Doroteo Arnaiz</td>\n",
              "      <td>Spanish, born 1936</td>\n",
              "      <td>Spanish</td>\n",
              "      <td>Male</td>\n",
              "      <td>1936</td>\n",
              "      <td>0</td>\n",
              "      <td>NaN</td>\n",
              "      <td>NaN</td>\n",
              "    </tr>\n",
              "    <tr>\n",
              "      <th>2</th>\n",
              "      <td>3</td>\n",
              "      <td>Bill Arnold</td>\n",
              "      <td>American, born 1941</td>\n",
              "      <td>American</td>\n",
              "      <td>Male</td>\n",
              "      <td>1941</td>\n",
              "      <td>0</td>\n",
              "      <td>NaN</td>\n",
              "      <td>NaN</td>\n",
              "    </tr>\n",
              "    <tr>\n",
              "      <th>3</th>\n",
              "      <td>4</td>\n",
              "      <td>Charles Arnoldi</td>\n",
              "      <td>American, born 1946</td>\n",
              "      <td>American</td>\n",
              "      <td>Male</td>\n",
              "      <td>1946</td>\n",
              "      <td>0</td>\n",
              "      <td>Q1063584</td>\n",
              "      <td>500027998.0</td>\n",
              "    </tr>\n",
              "    <tr>\n",
              "      <th>4</th>\n",
              "      <td>5</td>\n",
              "      <td>Per Arnoldi</td>\n",
              "      <td>Danish, born 1941</td>\n",
              "      <td>Danish</td>\n",
              "      <td>Male</td>\n",
              "      <td>1941</td>\n",
              "      <td>0</td>\n",
              "      <td>NaN</td>\n",
              "      <td>NaN</td>\n",
              "    </tr>\n",
              "  </tbody>\n",
              "</table>\n",
              "</div>\n",
              "      <button class=\"colab-df-convert\" onclick=\"convertToInteractive('df-831052c8-e3be-40c1-979a-dc9b1a3bb84f')\"\n",
              "              title=\"Convert this dataframe to an interactive table.\"\n",
              "              style=\"display:none;\">\n",
              "        \n",
              "  <svg xmlns=\"http://www.w3.org/2000/svg\" height=\"24px\"viewBox=\"0 0 24 24\"\n",
              "       width=\"24px\">\n",
              "    <path d=\"M0 0h24v24H0V0z\" fill=\"none\"/>\n",
              "    <path d=\"M18.56 5.44l.94 2.06.94-2.06 2.06-.94-2.06-.94-.94-2.06-.94 2.06-2.06.94zm-11 1L8.5 8.5l.94-2.06 2.06-.94-2.06-.94L8.5 2.5l-.94 2.06-2.06.94zm10 10l.94 2.06.94-2.06 2.06-.94-2.06-.94-.94-2.06-.94 2.06-2.06.94z\"/><path d=\"M17.41 7.96l-1.37-1.37c-.4-.4-.92-.59-1.43-.59-.52 0-1.04.2-1.43.59L10.3 9.45l-7.72 7.72c-.78.78-.78 2.05 0 2.83L4 21.41c.39.39.9.59 1.41.59.51 0 1.02-.2 1.41-.59l7.78-7.78 2.81-2.81c.8-.78.8-2.07 0-2.86zM5.41 20L4 18.59l7.72-7.72 1.47 1.35L5.41 20z\"/>\n",
              "  </svg>\n",
              "      </button>\n",
              "      \n",
              "  <style>\n",
              "    .colab-df-container {\n",
              "      display:flex;\n",
              "      flex-wrap:wrap;\n",
              "      gap: 12px;\n",
              "    }\n",
              "\n",
              "    .colab-df-convert {\n",
              "      background-color: #E8F0FE;\n",
              "      border: none;\n",
              "      border-radius: 50%;\n",
              "      cursor: pointer;\n",
              "      display: none;\n",
              "      fill: #1967D2;\n",
              "      height: 32px;\n",
              "      padding: 0 0 0 0;\n",
              "      width: 32px;\n",
              "    }\n",
              "\n",
              "    .colab-df-convert:hover {\n",
              "      background-color: #E2EBFA;\n",
              "      box-shadow: 0px 1px 2px rgba(60, 64, 67, 0.3), 0px 1px 3px 1px rgba(60, 64, 67, 0.15);\n",
              "      fill: #174EA6;\n",
              "    }\n",
              "\n",
              "    [theme=dark] .colab-df-convert {\n",
              "      background-color: #3B4455;\n",
              "      fill: #D2E3FC;\n",
              "    }\n",
              "\n",
              "    [theme=dark] .colab-df-convert:hover {\n",
              "      background-color: #434B5C;\n",
              "      box-shadow: 0px 1px 3px 1px rgba(0, 0, 0, 0.15);\n",
              "      filter: drop-shadow(0px 1px 2px rgba(0, 0, 0, 0.3));\n",
              "      fill: #FFFFFF;\n",
              "    }\n",
              "  </style>\n",
              "\n",
              "      <script>\n",
              "        const buttonEl =\n",
              "          document.querySelector('#df-831052c8-e3be-40c1-979a-dc9b1a3bb84f button.colab-df-convert');\n",
              "        buttonEl.style.display =\n",
              "          google.colab.kernel.accessAllowed ? 'block' : 'none';\n",
              "\n",
              "        async function convertToInteractive(key) {\n",
              "          const element = document.querySelector('#df-831052c8-e3be-40c1-979a-dc9b1a3bb84f');\n",
              "          const dataTable =\n",
              "            await google.colab.kernel.invokeFunction('convertToInteractive',\n",
              "                                                     [key], {});\n",
              "          if (!dataTable) return;\n",
              "\n",
              "          const docLinkHtml = 'Like what you see? Visit the ' +\n",
              "            '<a target=\"_blank\" href=https://colab.research.google.com/notebooks/data_table.ipynb>data table notebook</a>'\n",
              "            + ' to learn more about interactive tables.';\n",
              "          element.innerHTML = '';\n",
              "          dataTable['output_type'] = 'display_data';\n",
              "          await google.colab.output.renderOutput(dataTable, element);\n",
              "          const docLink = document.createElement('div');\n",
              "          docLink.innerHTML = docLinkHtml;\n",
              "          element.appendChild(docLink);\n",
              "        }\n",
              "      </script>\n",
              "    </div>\n",
              "  </div>\n",
              "  "
            ]
          },
          "metadata": {},
          "execution_count": 4
        }
      ],
      "source": [
        "artist_url = \"https://github.com/MuseumofModernArt/collection/raw/master/Artists.csv\"\n",
        "artists =  pd.read_csv(artist_url)\n",
        "artists.head()"
      ]
    },
    {
      "cell_type": "code",
      "execution_count": 5,
      "metadata": {
        "id": "x_f1ZBXCy942",
        "outputId": "5c5cc6d1-4c94-478f-cfc4-67491f3a3635",
        "colab": {
          "base_uri": "https://localhost:8080/",
          "height": 664
        }
      },
      "outputs": [
        {
          "output_type": "execute_result",
          "data": {
            "text/plain": [
              "                                               Title  \\\n",
              "0  Ferdinandsbrücke Project, Vienna, Austria (Ele...   \n",
              "1  City of Music, National Superior Conservatory ...   \n",
              "2  Villa near Vienna Project, Outside Vienna, Aus...   \n",
              "3  The Manhattan Transcripts Project, New York, N...   \n",
              "4  Villa, project, outside Vienna, Austria, Exter...   \n",
              "\n",
              "                     Artist ConstituentID  \\\n",
              "0               Otto Wagner          6210   \n",
              "1  Christian de Portzamparc          7470   \n",
              "2                Emil Hoppe          7605   \n",
              "3           Bernard Tschumi          7056   \n",
              "4                Emil Hoppe          7605   \n",
              "\n",
              "                                   ArtistBio Nationality BeginDate EndDate  \\\n",
              "0                      (Austrian, 1841–1918)  (Austrian)    (1841)  (1918)   \n",
              "1                        (French, born 1944)    (French)    (1944)     (0)   \n",
              "2                      (Austrian, 1876–1957)  (Austrian)    (1876)  (1957)   \n",
              "3  (French and Swiss, born Switzerland 1944)          ()    (1944)     (0)   \n",
              "4                      (Austrian, 1876–1957)  (Austrian)    (1876)  (1957)   \n",
              "\n",
              "   Gender  Date                                             Medium  ...  \\\n",
              "0  (Male)  1896      Ink and cut-and-pasted painted pages on paper  ...   \n",
              "1  (Male)  1987                  Paint and colored pencil on print  ...   \n",
              "2  (Male)  1903  Graphite, pen, color pencil, ink, and gouache ...  ...   \n",
              "3  (Male)  1980  Photographic reproduction with colored synthet...  ...   \n",
              "4  (Male)  1903  Graphite, color pencil, ink, and gouache on tr...  ...   \n",
              "\n",
              "                                        ThumbnailURL Circumference (cm)  \\\n",
              "0  http://www.moma.org/media/W1siZiIsIjU5NDA1Il0s...                NaN   \n",
              "1  http://www.moma.org/media/W1siZiIsIjk3Il0sWyJw...                NaN   \n",
              "2  http://www.moma.org/media/W1siZiIsIjk4Il0sWyJw...                NaN   \n",
              "3  http://www.moma.org/media/W1siZiIsIjEyNCJdLFsi...                NaN   \n",
              "4  http://www.moma.org/media/W1siZiIsIjEyNiJdLFsi...                NaN   \n",
              "\n",
              "  Depth (cm) Diameter (cm) Height (cm) Length (cm) Weight (kg)  Width (cm)  \\\n",
              "0        NaN           NaN     48.6000         NaN         NaN    168.9000   \n",
              "1        NaN           NaN     40.6401         NaN         NaN     29.8451   \n",
              "2        NaN           NaN     34.3000         NaN         NaN     31.8000   \n",
              "3        NaN           NaN     50.8000         NaN         NaN     50.8000   \n",
              "4        NaN           NaN     38.4000         NaN         NaN     19.1000   \n",
              "\n",
              "  Seat Height (cm) Duration (sec.)  \n",
              "0              NaN             NaN  \n",
              "1              NaN             NaN  \n",
              "2              NaN             NaN  \n",
              "3              NaN             NaN  \n",
              "4              NaN             NaN  \n",
              "\n",
              "[5 rows x 29 columns]"
            ],
            "text/html": [
              "\n",
              "  <div id=\"df-57e61bb8-f406-4e06-9134-4db7de523cb5\">\n",
              "    <div class=\"colab-df-container\">\n",
              "      <div>\n",
              "<style scoped>\n",
              "    .dataframe tbody tr th:only-of-type {\n",
              "        vertical-align: middle;\n",
              "    }\n",
              "\n",
              "    .dataframe tbody tr th {\n",
              "        vertical-align: top;\n",
              "    }\n",
              "\n",
              "    .dataframe thead th {\n",
              "        text-align: right;\n",
              "    }\n",
              "</style>\n",
              "<table border=\"1\" class=\"dataframe\">\n",
              "  <thead>\n",
              "    <tr style=\"text-align: right;\">\n",
              "      <th></th>\n",
              "      <th>Title</th>\n",
              "      <th>Artist</th>\n",
              "      <th>ConstituentID</th>\n",
              "      <th>ArtistBio</th>\n",
              "      <th>Nationality</th>\n",
              "      <th>BeginDate</th>\n",
              "      <th>EndDate</th>\n",
              "      <th>Gender</th>\n",
              "      <th>Date</th>\n",
              "      <th>Medium</th>\n",
              "      <th>...</th>\n",
              "      <th>ThumbnailURL</th>\n",
              "      <th>Circumference (cm)</th>\n",
              "      <th>Depth (cm)</th>\n",
              "      <th>Diameter (cm)</th>\n",
              "      <th>Height (cm)</th>\n",
              "      <th>Length (cm)</th>\n",
              "      <th>Weight (kg)</th>\n",
              "      <th>Width (cm)</th>\n",
              "      <th>Seat Height (cm)</th>\n",
              "      <th>Duration (sec.)</th>\n",
              "    </tr>\n",
              "  </thead>\n",
              "  <tbody>\n",
              "    <tr>\n",
              "      <th>0</th>\n",
              "      <td>Ferdinandsbrücke Project, Vienna, Austria (Ele...</td>\n",
              "      <td>Otto Wagner</td>\n",
              "      <td>6210</td>\n",
              "      <td>(Austrian, 1841–1918)</td>\n",
              "      <td>(Austrian)</td>\n",
              "      <td>(1841)</td>\n",
              "      <td>(1918)</td>\n",
              "      <td>(Male)</td>\n",
              "      <td>1896</td>\n",
              "      <td>Ink and cut-and-pasted painted pages on paper</td>\n",
              "      <td>...</td>\n",
              "      <td>http://www.moma.org/media/W1siZiIsIjU5NDA1Il0s...</td>\n",
              "      <td>NaN</td>\n",
              "      <td>NaN</td>\n",
              "      <td>NaN</td>\n",
              "      <td>48.6000</td>\n",
              "      <td>NaN</td>\n",
              "      <td>NaN</td>\n",
              "      <td>168.9000</td>\n",
              "      <td>NaN</td>\n",
              "      <td>NaN</td>\n",
              "    </tr>\n",
              "    <tr>\n",
              "      <th>1</th>\n",
              "      <td>City of Music, National Superior Conservatory ...</td>\n",
              "      <td>Christian de Portzamparc</td>\n",
              "      <td>7470</td>\n",
              "      <td>(French, born 1944)</td>\n",
              "      <td>(French)</td>\n",
              "      <td>(1944)</td>\n",
              "      <td>(0)</td>\n",
              "      <td>(Male)</td>\n",
              "      <td>1987</td>\n",
              "      <td>Paint and colored pencil on print</td>\n",
              "      <td>...</td>\n",
              "      <td>http://www.moma.org/media/W1siZiIsIjk3Il0sWyJw...</td>\n",
              "      <td>NaN</td>\n",
              "      <td>NaN</td>\n",
              "      <td>NaN</td>\n",
              "      <td>40.6401</td>\n",
              "      <td>NaN</td>\n",
              "      <td>NaN</td>\n",
              "      <td>29.8451</td>\n",
              "      <td>NaN</td>\n",
              "      <td>NaN</td>\n",
              "    </tr>\n",
              "    <tr>\n",
              "      <th>2</th>\n",
              "      <td>Villa near Vienna Project, Outside Vienna, Aus...</td>\n",
              "      <td>Emil Hoppe</td>\n",
              "      <td>7605</td>\n",
              "      <td>(Austrian, 1876–1957)</td>\n",
              "      <td>(Austrian)</td>\n",
              "      <td>(1876)</td>\n",
              "      <td>(1957)</td>\n",
              "      <td>(Male)</td>\n",
              "      <td>1903</td>\n",
              "      <td>Graphite, pen, color pencil, ink, and gouache ...</td>\n",
              "      <td>...</td>\n",
              "      <td>http://www.moma.org/media/W1siZiIsIjk4Il0sWyJw...</td>\n",
              "      <td>NaN</td>\n",
              "      <td>NaN</td>\n",
              "      <td>NaN</td>\n",
              "      <td>34.3000</td>\n",
              "      <td>NaN</td>\n",
              "      <td>NaN</td>\n",
              "      <td>31.8000</td>\n",
              "      <td>NaN</td>\n",
              "      <td>NaN</td>\n",
              "    </tr>\n",
              "    <tr>\n",
              "      <th>3</th>\n",
              "      <td>The Manhattan Transcripts Project, New York, N...</td>\n",
              "      <td>Bernard Tschumi</td>\n",
              "      <td>7056</td>\n",
              "      <td>(French and Swiss, born Switzerland 1944)</td>\n",
              "      <td>()</td>\n",
              "      <td>(1944)</td>\n",
              "      <td>(0)</td>\n",
              "      <td>(Male)</td>\n",
              "      <td>1980</td>\n",
              "      <td>Photographic reproduction with colored synthet...</td>\n",
              "      <td>...</td>\n",
              "      <td>http://www.moma.org/media/W1siZiIsIjEyNCJdLFsi...</td>\n",
              "      <td>NaN</td>\n",
              "      <td>NaN</td>\n",
              "      <td>NaN</td>\n",
              "      <td>50.8000</td>\n",
              "      <td>NaN</td>\n",
              "      <td>NaN</td>\n",
              "      <td>50.8000</td>\n",
              "      <td>NaN</td>\n",
              "      <td>NaN</td>\n",
              "    </tr>\n",
              "    <tr>\n",
              "      <th>4</th>\n",
              "      <td>Villa, project, outside Vienna, Austria, Exter...</td>\n",
              "      <td>Emil Hoppe</td>\n",
              "      <td>7605</td>\n",
              "      <td>(Austrian, 1876–1957)</td>\n",
              "      <td>(Austrian)</td>\n",
              "      <td>(1876)</td>\n",
              "      <td>(1957)</td>\n",
              "      <td>(Male)</td>\n",
              "      <td>1903</td>\n",
              "      <td>Graphite, color pencil, ink, and gouache on tr...</td>\n",
              "      <td>...</td>\n",
              "      <td>http://www.moma.org/media/W1siZiIsIjEyNiJdLFsi...</td>\n",
              "      <td>NaN</td>\n",
              "      <td>NaN</td>\n",
              "      <td>NaN</td>\n",
              "      <td>38.4000</td>\n",
              "      <td>NaN</td>\n",
              "      <td>NaN</td>\n",
              "      <td>19.1000</td>\n",
              "      <td>NaN</td>\n",
              "      <td>NaN</td>\n",
              "    </tr>\n",
              "  </tbody>\n",
              "</table>\n",
              "<p>5 rows × 29 columns</p>\n",
              "</div>\n",
              "      <button class=\"colab-df-convert\" onclick=\"convertToInteractive('df-57e61bb8-f406-4e06-9134-4db7de523cb5')\"\n",
              "              title=\"Convert this dataframe to an interactive table.\"\n",
              "              style=\"display:none;\">\n",
              "        \n",
              "  <svg xmlns=\"http://www.w3.org/2000/svg\" height=\"24px\"viewBox=\"0 0 24 24\"\n",
              "       width=\"24px\">\n",
              "    <path d=\"M0 0h24v24H0V0z\" fill=\"none\"/>\n",
              "    <path d=\"M18.56 5.44l.94 2.06.94-2.06 2.06-.94-2.06-.94-.94-2.06-.94 2.06-2.06.94zm-11 1L8.5 8.5l.94-2.06 2.06-.94-2.06-.94L8.5 2.5l-.94 2.06-2.06.94zm10 10l.94 2.06.94-2.06 2.06-.94-2.06-.94-.94-2.06-.94 2.06-2.06.94z\"/><path d=\"M17.41 7.96l-1.37-1.37c-.4-.4-.92-.59-1.43-.59-.52 0-1.04.2-1.43.59L10.3 9.45l-7.72 7.72c-.78.78-.78 2.05 0 2.83L4 21.41c.39.39.9.59 1.41.59.51 0 1.02-.2 1.41-.59l7.78-7.78 2.81-2.81c.8-.78.8-2.07 0-2.86zM5.41 20L4 18.59l7.72-7.72 1.47 1.35L5.41 20z\"/>\n",
              "  </svg>\n",
              "      </button>\n",
              "      \n",
              "  <style>\n",
              "    .colab-df-container {\n",
              "      display:flex;\n",
              "      flex-wrap:wrap;\n",
              "      gap: 12px;\n",
              "    }\n",
              "\n",
              "    .colab-df-convert {\n",
              "      background-color: #E8F0FE;\n",
              "      border: none;\n",
              "      border-radius: 50%;\n",
              "      cursor: pointer;\n",
              "      display: none;\n",
              "      fill: #1967D2;\n",
              "      height: 32px;\n",
              "      padding: 0 0 0 0;\n",
              "      width: 32px;\n",
              "    }\n",
              "\n",
              "    .colab-df-convert:hover {\n",
              "      background-color: #E2EBFA;\n",
              "      box-shadow: 0px 1px 2px rgba(60, 64, 67, 0.3), 0px 1px 3px 1px rgba(60, 64, 67, 0.15);\n",
              "      fill: #174EA6;\n",
              "    }\n",
              "\n",
              "    [theme=dark] .colab-df-convert {\n",
              "      background-color: #3B4455;\n",
              "      fill: #D2E3FC;\n",
              "    }\n",
              "\n",
              "    [theme=dark] .colab-df-convert:hover {\n",
              "      background-color: #434B5C;\n",
              "      box-shadow: 0px 1px 3px 1px rgba(0, 0, 0, 0.15);\n",
              "      filter: drop-shadow(0px 1px 2px rgba(0, 0, 0, 0.3));\n",
              "      fill: #FFFFFF;\n",
              "    }\n",
              "  </style>\n",
              "\n",
              "      <script>\n",
              "        const buttonEl =\n",
              "          document.querySelector('#df-57e61bb8-f406-4e06-9134-4db7de523cb5 button.colab-df-convert');\n",
              "        buttonEl.style.display =\n",
              "          google.colab.kernel.accessAllowed ? 'block' : 'none';\n",
              "\n",
              "        async function convertToInteractive(key) {\n",
              "          const element = document.querySelector('#df-57e61bb8-f406-4e06-9134-4db7de523cb5');\n",
              "          const dataTable =\n",
              "            await google.colab.kernel.invokeFunction('convertToInteractive',\n",
              "                                                     [key], {});\n",
              "          if (!dataTable) return;\n",
              "\n",
              "          const docLinkHtml = 'Like what you see? Visit the ' +\n",
              "            '<a target=\"_blank\" href=https://colab.research.google.com/notebooks/data_table.ipynb>data table notebook</a>'\n",
              "            + ' to learn more about interactive tables.';\n",
              "          element.innerHTML = '';\n",
              "          dataTable['output_type'] = 'display_data';\n",
              "          await google.colab.output.renderOutput(dataTable, element);\n",
              "          const docLink = document.createElement('div');\n",
              "          docLink.innerHTML = docLinkHtml;\n",
              "          element.appendChild(docLink);\n",
              "        }\n",
              "      </script>\n",
              "    </div>\n",
              "  </div>\n",
              "  "
            ]
          },
          "metadata": {},
          "execution_count": 5
        }
      ],
      "source": [
        "artwork_url = \"https://github.com/MuseumofModernArt/collection/raw/master/Artworks.csv\"\n",
        "artwork = pd.read_csv(artwork_url) # Big file, be patient\n",
        "artwork.head()"
      ]
    },
    {
      "cell_type": "markdown",
      "metadata": {
        "id": "swxGAeBey943"
      },
      "source": [
        "## `X` is an `Intention`\n",
        "\n",
        "<img src=\"https://github.com/ColeBerning35/module2_intro_to_pandas/blob/main/img/dfply_X_intention_1.png?raw=1\" width = 800>\n",
        "\n",
        "Think of it as recording an expression for later evaluation"
      ]
    },
    {
      "cell_type": "code",
      "execution_count": 6,
      "metadata": {
        "id": "1GJ-t5vLy943",
        "outputId": "924127e3-5c68-4133-91f8-f48ac1cd59b5",
        "colab": {
          "base_uri": "https://localhost:8080/"
        }
      },
      "outputs": [
        {
          "output_type": "execute_result",
          "data": {
            "text/plain": [
              "<dfply.base.Intention at 0x7fb900257110>"
            ]
          },
          "metadata": {},
          "execution_count": 6
        }
      ],
      "source": [
        "expr = X.BeginDate.head()\n",
        "expr"
      ]
    },
    {
      "cell_type": "markdown",
      "metadata": {
        "id": "ct_Ts2vjy944"
      },
      "source": [
        "## Use `evaluate` to apply the expression\n",
        "\n",
        "We can apply an expression *later* using `evaluate` with a dataframe."
      ]
    },
    {
      "cell_type": "code",
      "execution_count": 7,
      "metadata": {
        "id": "ZZtfcowpy944",
        "outputId": "8697d0a1-36de-4032-8a9e-ae8b78817553",
        "colab": {
          "base_uri": "https://localhost:8080/"
        }
      },
      "outputs": [
        {
          "output_type": "execute_result",
          "data": {
            "text/plain": [
              "0    1930\n",
              "1    1936\n",
              "2    1941\n",
              "3    1946\n",
              "4    1941\n",
              "Name: BeginDate, dtype: int64"
            ]
          },
          "metadata": {},
          "execution_count": 7
        }
      ],
      "source": [
        "expr.evaluate(artists)"
      ]
    },
    {
      "cell_type": "markdown",
      "metadata": {
        "id": "vI03e0mIy945"
      },
      "source": [
        "## Intention expressions are reusable!"
      ]
    },
    {
      "cell_type": "code",
      "execution_count": 8,
      "metadata": {
        "id": "T0oqLrRly945",
        "outputId": "46b71afb-6100-4a59-cc82-c581482f950c",
        "colab": {
          "base_uri": "https://localhost:8080/"
        }
      },
      "outputs": [
        {
          "output_type": "execute_result",
          "data": {
            "text/plain": [
              "0    (1841)\n",
              "1    (1944)\n",
              "2    (1876)\n",
              "3    (1944)\n",
              "4    (1876)\n",
              "Name: BeginDate, dtype: object"
            ]
          },
          "metadata": {},
          "execution_count": 8
        }
      ],
      "source": [
        "# Reusable!\n",
        "expr.evaluate(artwork)"
      ]
    },
    {
      "cell_type": "markdown",
      "metadata": {
        "id": "sKhWqJVhy946"
      },
      "source": [
        "## <font color=\"red\"> Exercise 2.3.1 </font>\n",
        "    \n",
        "**Tasks:**\n",
        "\n",
        "1. Create and evaluate a column expression, saved as `my_expr`, that checks that the `Height` column is larger than 40. **Hint:** The space and `()` in the column name requires you to use `X['col name']` format.\n",
        "2. Evaluate that column expression to the `Artist` and `Artwork` data frame, that is evaluate `my_expr.evaluate(df)`.\n",
        "3. Use the expression object in filter, e.g. `filter(my_expr)` on the `Artwork` data set \n",
        "4. Now try to perform the filter with a pipe and no expression, e.g. `filter_by(artwork['Height cm' > 40)`.  Why does this still work?  When might we run into trouble?\n",
        "5. Write a paragraph that summarizes how this all works."
      ]
    },
    {
      "cell_type": "code",
      "execution_count": 13,
      "metadata": {
        "id": "xie9vpbLy946",
        "outputId": "54227400-a921-43c4-c4f5-d1e75219b7b1",
        "colab": {
          "base_uri": "https://localhost:8080/"
        }
      },
      "outputs": [
        {
          "output_type": "execute_result",
          "data": {
            "text/plain": [
              "0          True\n",
              "1          True\n",
              "2         False\n",
              "3          True\n",
              "4         False\n",
              "          ...  \n",
              "139932    False\n",
              "139933    False\n",
              "139934    False\n",
              "139935    False\n",
              "139936    False\n",
              "Name: Height (cm), Length: 139937, dtype: bool"
            ]
          },
          "metadata": {},
          "execution_count": 13
        }
      ],
      "source": [
        "# Code for Task 1\n",
        "my_expr = X['Height (cm)'] > 40\n",
        "my_expr.evaluate(artwork)"
      ]
    },
    {
      "cell_type": "code",
      "execution_count": 22,
      "metadata": {
        "id": "5beS4tGmy946",
        "outputId": "3c543e86-7543-4353-e36c-d1aebbfcd65a",
        "colab": {
          "base_uri": "https://localhost:8080/"
        }
      },
      "outputs": [
        {
          "output_type": "execute_result",
          "data": {
            "text/plain": [
              "<filter at 0x7fb8fc1e9b90>"
            ]
          },
          "metadata": {},
          "execution_count": 22
        }
      ],
      "source": [
        "# Code for Task 2\n",
        "filter(my_expr,artwork)\n"
      ]
    },
    {
      "cell_type": "code",
      "execution_count": 24,
      "metadata": {
        "id": "9zGTaTjuy946",
        "outputId": "f2128368-be3a-4129-8a3a-8d9558d4ba4c",
        "colab": {
          "base_uri": "https://localhost:8080/",
          "height": 664
        }
      },
      "outputs": [
        {
          "output_type": "execute_result",
          "data": {
            "text/plain": [
              "                                                Title  \\\n",
              "0   Ferdinandsbrücke Project, Vienna, Austria (Ele...   \n",
              "1   City of Music, National Superior Conservatory ...   \n",
              "3   The Manhattan Transcripts Project, New York, N...   \n",
              "30  Memorial to the Six Million Jewish Martyrs, pr...   \n",
              "31  The Manhattan Transcripts Project, New York, N...   \n",
              "\n",
              "                      Artist ConstituentID  \\\n",
              "0                Otto Wagner          6210   \n",
              "1   Christian de Portzamparc          7470   \n",
              "3            Bernard Tschumi          7056   \n",
              "30             Louis I. Kahn          2964   \n",
              "31           Bernard Tschumi          7056   \n",
              "\n",
              "                                    ArtistBio Nationality BeginDate EndDate  \\\n",
              "0                       (Austrian, 1841–1918)  (Austrian)    (1841)  (1918)   \n",
              "1                         (French, born 1944)    (French)    (1944)     (0)   \n",
              "3   (French and Swiss, born Switzerland 1944)          ()    (1944)     (0)   \n",
              "30        (American, born Estonia. 1901–1974)  (American)    (1901)  (1974)   \n",
              "31  (French and Swiss, born Switzerland 1944)          ()    (1944)     (0)   \n",
              "\n",
              "    Gender  Date                                             Medium  ...  \\\n",
              "0   (Male)  1896      Ink and cut-and-pasted painted pages on paper  ...   \n",
              "1   (Male)  1987                  Paint and colored pencil on print  ...   \n",
              "3   (Male)  1980  Photographic reproduction with colored synthet...  ...   \n",
              "30  (Male)  1968             Charcoal and graphite on tracing paper  ...   \n",
              "31  (Male)  1980  Photographic reproduction with colored synthet...  ...   \n",
              "\n",
              "                                         ThumbnailURL Circumference (cm)  \\\n",
              "0   http://www.moma.org/media/W1siZiIsIjU5NDA1Il0s...                NaN   \n",
              "1   http://www.moma.org/media/W1siZiIsIjk3Il0sWyJw...                NaN   \n",
              "3   http://www.moma.org/media/W1siZiIsIjEyNCJdLFsi...                NaN   \n",
              "30  http://www.moma.org/media/W1siZiIsIjE3MyJdLFsi...                NaN   \n",
              "31  http://www.moma.org/media/W1siZiIsIjIwMCJdLFsi...                NaN   \n",
              "\n",
              "   Depth (cm) Diameter (cm) Height (cm) Length (cm) Weight (kg)  Width (cm)  \\\n",
              "0         NaN           NaN     48.6000         NaN         NaN    168.9000   \n",
              "1         NaN           NaN     40.6401         NaN         NaN     29.8451   \n",
              "3         NaN           NaN     50.8000         NaN         NaN     50.8000   \n",
              "30        NaN           NaN    113.0000         NaN         NaN    167.6000   \n",
              "31        NaN           NaN     50.8000         NaN         NaN     50.8000   \n",
              "\n",
              "   Seat Height (cm) Duration (sec.)  \n",
              "0               NaN             NaN  \n",
              "1               NaN             NaN  \n",
              "3               NaN             NaN  \n",
              "30              NaN             NaN  \n",
              "31              NaN             NaN  \n",
              "\n",
              "[5 rows x 29 columns]"
            ],
            "text/html": [
              "\n",
              "  <div id=\"df-fc4f2518-1a38-4e49-997d-34fdf5b4cb2d\">\n",
              "    <div class=\"colab-df-container\">\n",
              "      <div>\n",
              "<style scoped>\n",
              "    .dataframe tbody tr th:only-of-type {\n",
              "        vertical-align: middle;\n",
              "    }\n",
              "\n",
              "    .dataframe tbody tr th {\n",
              "        vertical-align: top;\n",
              "    }\n",
              "\n",
              "    .dataframe thead th {\n",
              "        text-align: right;\n",
              "    }\n",
              "</style>\n",
              "<table border=\"1\" class=\"dataframe\">\n",
              "  <thead>\n",
              "    <tr style=\"text-align: right;\">\n",
              "      <th></th>\n",
              "      <th>Title</th>\n",
              "      <th>Artist</th>\n",
              "      <th>ConstituentID</th>\n",
              "      <th>ArtistBio</th>\n",
              "      <th>Nationality</th>\n",
              "      <th>BeginDate</th>\n",
              "      <th>EndDate</th>\n",
              "      <th>Gender</th>\n",
              "      <th>Date</th>\n",
              "      <th>Medium</th>\n",
              "      <th>...</th>\n",
              "      <th>ThumbnailURL</th>\n",
              "      <th>Circumference (cm)</th>\n",
              "      <th>Depth (cm)</th>\n",
              "      <th>Diameter (cm)</th>\n",
              "      <th>Height (cm)</th>\n",
              "      <th>Length (cm)</th>\n",
              "      <th>Weight (kg)</th>\n",
              "      <th>Width (cm)</th>\n",
              "      <th>Seat Height (cm)</th>\n",
              "      <th>Duration (sec.)</th>\n",
              "    </tr>\n",
              "  </thead>\n",
              "  <tbody>\n",
              "    <tr>\n",
              "      <th>0</th>\n",
              "      <td>Ferdinandsbrücke Project, Vienna, Austria (Ele...</td>\n",
              "      <td>Otto Wagner</td>\n",
              "      <td>6210</td>\n",
              "      <td>(Austrian, 1841–1918)</td>\n",
              "      <td>(Austrian)</td>\n",
              "      <td>(1841)</td>\n",
              "      <td>(1918)</td>\n",
              "      <td>(Male)</td>\n",
              "      <td>1896</td>\n",
              "      <td>Ink and cut-and-pasted painted pages on paper</td>\n",
              "      <td>...</td>\n",
              "      <td>http://www.moma.org/media/W1siZiIsIjU5NDA1Il0s...</td>\n",
              "      <td>NaN</td>\n",
              "      <td>NaN</td>\n",
              "      <td>NaN</td>\n",
              "      <td>48.6000</td>\n",
              "      <td>NaN</td>\n",
              "      <td>NaN</td>\n",
              "      <td>168.9000</td>\n",
              "      <td>NaN</td>\n",
              "      <td>NaN</td>\n",
              "    </tr>\n",
              "    <tr>\n",
              "      <th>1</th>\n",
              "      <td>City of Music, National Superior Conservatory ...</td>\n",
              "      <td>Christian de Portzamparc</td>\n",
              "      <td>7470</td>\n",
              "      <td>(French, born 1944)</td>\n",
              "      <td>(French)</td>\n",
              "      <td>(1944)</td>\n",
              "      <td>(0)</td>\n",
              "      <td>(Male)</td>\n",
              "      <td>1987</td>\n",
              "      <td>Paint and colored pencil on print</td>\n",
              "      <td>...</td>\n",
              "      <td>http://www.moma.org/media/W1siZiIsIjk3Il0sWyJw...</td>\n",
              "      <td>NaN</td>\n",
              "      <td>NaN</td>\n",
              "      <td>NaN</td>\n",
              "      <td>40.6401</td>\n",
              "      <td>NaN</td>\n",
              "      <td>NaN</td>\n",
              "      <td>29.8451</td>\n",
              "      <td>NaN</td>\n",
              "      <td>NaN</td>\n",
              "    </tr>\n",
              "    <tr>\n",
              "      <th>3</th>\n",
              "      <td>The Manhattan Transcripts Project, New York, N...</td>\n",
              "      <td>Bernard Tschumi</td>\n",
              "      <td>7056</td>\n",
              "      <td>(French and Swiss, born Switzerland 1944)</td>\n",
              "      <td>()</td>\n",
              "      <td>(1944)</td>\n",
              "      <td>(0)</td>\n",
              "      <td>(Male)</td>\n",
              "      <td>1980</td>\n",
              "      <td>Photographic reproduction with colored synthet...</td>\n",
              "      <td>...</td>\n",
              "      <td>http://www.moma.org/media/W1siZiIsIjEyNCJdLFsi...</td>\n",
              "      <td>NaN</td>\n",
              "      <td>NaN</td>\n",
              "      <td>NaN</td>\n",
              "      <td>50.8000</td>\n",
              "      <td>NaN</td>\n",
              "      <td>NaN</td>\n",
              "      <td>50.8000</td>\n",
              "      <td>NaN</td>\n",
              "      <td>NaN</td>\n",
              "    </tr>\n",
              "    <tr>\n",
              "      <th>30</th>\n",
              "      <td>Memorial to the Six Million Jewish Martyrs, pr...</td>\n",
              "      <td>Louis I. Kahn</td>\n",
              "      <td>2964</td>\n",
              "      <td>(American, born Estonia. 1901–1974)</td>\n",
              "      <td>(American)</td>\n",
              "      <td>(1901)</td>\n",
              "      <td>(1974)</td>\n",
              "      <td>(Male)</td>\n",
              "      <td>1968</td>\n",
              "      <td>Charcoal and graphite on tracing paper</td>\n",
              "      <td>...</td>\n",
              "      <td>http://www.moma.org/media/W1siZiIsIjE3MyJdLFsi...</td>\n",
              "      <td>NaN</td>\n",
              "      <td>NaN</td>\n",
              "      <td>NaN</td>\n",
              "      <td>113.0000</td>\n",
              "      <td>NaN</td>\n",
              "      <td>NaN</td>\n",
              "      <td>167.6000</td>\n",
              "      <td>NaN</td>\n",
              "      <td>NaN</td>\n",
              "    </tr>\n",
              "    <tr>\n",
              "      <th>31</th>\n",
              "      <td>The Manhattan Transcripts Project, New York, N...</td>\n",
              "      <td>Bernard Tschumi</td>\n",
              "      <td>7056</td>\n",
              "      <td>(French and Swiss, born Switzerland 1944)</td>\n",
              "      <td>()</td>\n",
              "      <td>(1944)</td>\n",
              "      <td>(0)</td>\n",
              "      <td>(Male)</td>\n",
              "      <td>1980</td>\n",
              "      <td>Photographic reproduction with colored synthet...</td>\n",
              "      <td>...</td>\n",
              "      <td>http://www.moma.org/media/W1siZiIsIjIwMCJdLFsi...</td>\n",
              "      <td>NaN</td>\n",
              "      <td>NaN</td>\n",
              "      <td>NaN</td>\n",
              "      <td>50.8000</td>\n",
              "      <td>NaN</td>\n",
              "      <td>NaN</td>\n",
              "      <td>50.8000</td>\n",
              "      <td>NaN</td>\n",
              "      <td>NaN</td>\n",
              "    </tr>\n",
              "  </tbody>\n",
              "</table>\n",
              "<p>5 rows × 29 columns</p>\n",
              "</div>\n",
              "      <button class=\"colab-df-convert\" onclick=\"convertToInteractive('df-fc4f2518-1a38-4e49-997d-34fdf5b4cb2d')\"\n",
              "              title=\"Convert this dataframe to an interactive table.\"\n",
              "              style=\"display:none;\">\n",
              "        \n",
              "  <svg xmlns=\"http://www.w3.org/2000/svg\" height=\"24px\"viewBox=\"0 0 24 24\"\n",
              "       width=\"24px\">\n",
              "    <path d=\"M0 0h24v24H0V0z\" fill=\"none\"/>\n",
              "    <path d=\"M18.56 5.44l.94 2.06.94-2.06 2.06-.94-2.06-.94-.94-2.06-.94 2.06-2.06.94zm-11 1L8.5 8.5l.94-2.06 2.06-.94-2.06-.94L8.5 2.5l-.94 2.06-2.06.94zm10 10l.94 2.06.94-2.06 2.06-.94-2.06-.94-.94-2.06-.94 2.06-2.06.94z\"/><path d=\"M17.41 7.96l-1.37-1.37c-.4-.4-.92-.59-1.43-.59-.52 0-1.04.2-1.43.59L10.3 9.45l-7.72 7.72c-.78.78-.78 2.05 0 2.83L4 21.41c.39.39.9.59 1.41.59.51 0 1.02-.2 1.41-.59l7.78-7.78 2.81-2.81c.8-.78.8-2.07 0-2.86zM5.41 20L4 18.59l7.72-7.72 1.47 1.35L5.41 20z\"/>\n",
              "  </svg>\n",
              "      </button>\n",
              "      \n",
              "  <style>\n",
              "    .colab-df-container {\n",
              "      display:flex;\n",
              "      flex-wrap:wrap;\n",
              "      gap: 12px;\n",
              "    }\n",
              "\n",
              "    .colab-df-convert {\n",
              "      background-color: #E8F0FE;\n",
              "      border: none;\n",
              "      border-radius: 50%;\n",
              "      cursor: pointer;\n",
              "      display: none;\n",
              "      fill: #1967D2;\n",
              "      height: 32px;\n",
              "      padding: 0 0 0 0;\n",
              "      width: 32px;\n",
              "    }\n",
              "\n",
              "    .colab-df-convert:hover {\n",
              "      background-color: #E2EBFA;\n",
              "      box-shadow: 0px 1px 2px rgba(60, 64, 67, 0.3), 0px 1px 3px 1px rgba(60, 64, 67, 0.15);\n",
              "      fill: #174EA6;\n",
              "    }\n",
              "\n",
              "    [theme=dark] .colab-df-convert {\n",
              "      background-color: #3B4455;\n",
              "      fill: #D2E3FC;\n",
              "    }\n",
              "\n",
              "    [theme=dark] .colab-df-convert:hover {\n",
              "      background-color: #434B5C;\n",
              "      box-shadow: 0px 1px 3px 1px rgba(0, 0, 0, 0.15);\n",
              "      filter: drop-shadow(0px 1px 2px rgba(0, 0, 0, 0.3));\n",
              "      fill: #FFFFFF;\n",
              "    }\n",
              "  </style>\n",
              "\n",
              "      <script>\n",
              "        const buttonEl =\n",
              "          document.querySelector('#df-fc4f2518-1a38-4e49-997d-34fdf5b4cb2d button.colab-df-convert');\n",
              "        buttonEl.style.display =\n",
              "          google.colab.kernel.accessAllowed ? 'block' : 'none';\n",
              "\n",
              "        async function convertToInteractive(key) {\n",
              "          const element = document.querySelector('#df-fc4f2518-1a38-4e49-997d-34fdf5b4cb2d');\n",
              "          const dataTable =\n",
              "            await google.colab.kernel.invokeFunction('convertToInteractive',\n",
              "                                                     [key], {});\n",
              "          if (!dataTable) return;\n",
              "\n",
              "          const docLinkHtml = 'Like what you see? Visit the ' +\n",
              "            '<a target=\"_blank\" href=https://colab.research.google.com/notebooks/data_table.ipynb>data table notebook</a>'\n",
              "            + ' to learn more about interactive tables.';\n",
              "          element.innerHTML = '';\n",
              "          dataTable['output_type'] = 'display_data';\n",
              "          await google.colab.output.renderOutput(dataTable, element);\n",
              "          const docLink = document.createElement('div');\n",
              "          docLink.innerHTML = docLinkHtml;\n",
              "          element.appendChild(docLink);\n",
              "        }\n",
              "      </script>\n",
              "    </div>\n",
              "  </div>\n",
              "  "
            ]
          },
          "metadata": {},
          "execution_count": 24
        }
      ],
      "source": [
        "# Code for Task 3\n",
        "(artwork >>\n",
        "    filter_by(artwork['Height (cm)'] > 40) >>\n",
        "    head\n",
        ")"
      ]
    },
    {
      "cell_type": "markdown",
      "metadata": {
        "id": "l_RVP6nzy947"
      },
      "source": [
        "The piping still works because you are passing your data frame through the same expression. We might run into trouble if our column name has a space in it because then we have to be careful and use the bracket notation with the quotes to keep it together. This function takes the data frame and filters only the rows that contain Height (cm) higher than 40 using piping,so after one things is applied to the data it takes the result of that and pipes it into the next function."
      ]
    },
    {
      "cell_type": "markdown",
      "metadata": {
        "id": "iJJjmqOBy947"
      },
      "source": [
        "## Not just for data frames ... works for any* expression"
      ]
    },
    {
      "cell_type": "code",
      "execution_count": null,
      "metadata": {
        "id": "IxAW07S-y947"
      },
      "outputs": [],
      "source": [
        "double, line = 2*X, 3*X + 5"
      ]
    },
    {
      "cell_type": "code",
      "execution_count": null,
      "metadata": {
        "id": "HNdMHikDy947",
        "outputId": "3ad1eaae-6c31-4499-8e47-eecd87d3fa5b"
      },
      "outputs": [
        {
          "data": {
            "text/plain": [
              "(6, 23)"
            ]
          },
          "execution_count": 11,
          "metadata": {},
          "output_type": "execute_result"
        }
      ],
      "source": [
        "double.evaluate(3), line.evaluate(6)"
      ]
    },
    {
      "cell_type": "markdown",
      "metadata": {
        "id": "Mu21lq4Gy947"
      },
      "source": [
        "## We can make functions lazy too!\n",
        "\n",
        "Decorate a function with `make_symbolic` to allow lazy evaluation of `Intention` objects"
      ]
    },
    {
      "cell_type": "code",
      "execution_count": null,
      "metadata": {
        "id": "MGBk8IM2y948"
      },
      "outputs": [],
      "source": [
        "from math import log\n",
        "log = make_symbolic(log)"
      ]
    },
    {
      "cell_type": "code",
      "execution_count": null,
      "metadata": {
        "id": "vxs8ZlgAy948",
        "outputId": "634f65c0-abd6-4d33-ebea-30d0e890184a"
      },
      "outputs": [
        {
          "data": {
            "text/plain": [
              "3.0"
            ]
          },
          "execution_count": 13,
          "metadata": {},
          "output_type": "execute_result"
        }
      ],
      "source": [
        "log(8, 2) # Works as expected with numbers"
      ]
    },
    {
      "cell_type": "markdown",
      "metadata": {
        "id": "7IhakTdgy948"
      },
      "source": [
        "## Passing in `X` now makes a `log` expression"
      ]
    },
    {
      "cell_type": "code",
      "execution_count": null,
      "metadata": {
        "id": "B0GjxLNEy948",
        "outputId": "31c5c932-e655-4928-b307-0f9e34e07947"
      },
      "outputs": [
        {
          "data": {
            "text/plain": [
              "<dfply.base.Intention at 0x13612ef10>"
            ]
          },
          "execution_count": 14,
          "metadata": {},
          "output_type": "execute_result"
        }
      ],
      "source": [
        "expr = log(X, 2) # Passing in X makes it lazy/symbolic\n",
        "expr"
      ]
    },
    {
      "cell_type": "code",
      "execution_count": null,
      "metadata": {
        "scrolled": true,
        "id": "rwpJGZGWy948",
        "outputId": "47e11641-150e-4cad-ff11-8e956b35f368"
      },
      "outputs": [
        {
          "data": {
            "text/plain": [
              "4.0"
            ]
          },
          "execution_count": 15,
          "metadata": {},
          "output_type": "execute_result"
        }
      ],
      "source": [
        "expr.evaluate(16) # Evaluate later"
      ]
    }
  ],
  "metadata": {
    "celltoolbar": "Slideshow",
    "kernelspec": {
      "display_name": "Python 3 (ipykernel)",
      "language": "python",
      "name": "python3"
    },
    "language_info": {
      "codemirror_mode": {
        "name": "ipython",
        "version": 3
      },
      "file_extension": ".py",
      "mimetype": "text/x-python",
      "name": "python",
      "nbconvert_exporter": "python",
      "pygments_lexer": "ipython3",
      "version": "3.9.12"
    },
    "varInspector": {
      "cols": {
        "lenName": 16,
        "lenType": 16,
        "lenVar": 40
      },
      "kernels_config": {
        "python": {
          "delete_cmd_postfix": "",
          "delete_cmd_prefix": "del ",
          "library": "var_list.py",
          "varRefreshCmd": "print(var_dic_list())"
        },
        "r": {
          "delete_cmd_postfix": ") ",
          "delete_cmd_prefix": "rm(",
          "library": "var_list.r",
          "varRefreshCmd": "cat(var_dic_list()) "
        }
      },
      "types_to_exclude": [
        "module",
        "function",
        "builtin_function_or_method",
        "instance",
        "_Feature"
      ],
      "window_display": false
    },
    "colab": {
      "provenance": [],
      "include_colab_link": true
    }
  },
  "nbformat": 4,
  "nbformat_minor": 0
}