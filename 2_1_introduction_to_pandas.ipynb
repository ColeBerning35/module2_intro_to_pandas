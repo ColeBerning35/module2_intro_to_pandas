{
  "cells": [
    {
      "cell_type": "markdown",
      "metadata": {
        "id": "view-in-github",
        "colab_type": "text"
      },
      "source": [
        "<a href=\"https://colab.research.google.com/github/ColeBerning35/module2_intro_to_pandas/blob/main/2_1_introduction_to_pandas.ipynb\" target=\"_parent\"><img src=\"https://colab.research.google.com/assets/colab-badge.svg\" alt=\"Open In Colab\"/></a>"
      ]
    },
    {
      "cell_type": "markdown",
      "metadata": {
        "id": "jkeoyl9KbCct"
      },
      "source": [
        "# Introduction to Pandas"
      ]
    },
    {
      "cell_type": "markdown",
      "metadata": {
        "id": "UGmkywNVbCcw"
      },
      "source": [
        "## Pandas provides Python data frames\n",
        "\n",
        "* Popular and established\n",
        "* Inspired by R dataframes\n",
        "* Built on `numpy` for fast computation"
      ]
    },
    {
      "cell_type": "code",
      "execution_count": 1,
      "metadata": {
        "id": "7LHO6KKRbCcx"
      },
      "outputs": [],
      "source": [
        "import pandas as pd"
      ]
    },
    {
      "cell_type": "markdown",
      "metadata": {
        "id": "94-5d2mJbCcz"
      },
      "source": [
        "## Our first dataframe"
      ]
    },
    {
      "cell_type": "code",
      "execution_count": 2,
      "metadata": {
        "scrolled": true,
        "id": "AlxYgRVIbCc0",
        "outputId": "aef7a956-f71b-41db-a698-272edbdcccf4",
        "colab": {
          "base_uri": "https://localhost:8080/",
          "height": 143
        }
      },
      "outputs": [
        {
          "output_type": "execute_result",
          "data": {
            "text/plain": [
              "     Names  Python_mastery  Love_of_R  years_at_wsu\n",
              "0  Iverson            10.0          2             4\n",
              "1   Malone             5.0          5            17\n",
              "2   Bergen             1.0         11             5"
            ],
            "text/html": [
              "\n",
              "  <div id=\"df-bd6219b4-4fb3-4389-8c2c-9706d959cfae\">\n",
              "    <div class=\"colab-df-container\">\n",
              "      <div>\n",
              "<style scoped>\n",
              "    .dataframe tbody tr th:only-of-type {\n",
              "        vertical-align: middle;\n",
              "    }\n",
              "\n",
              "    .dataframe tbody tr th {\n",
              "        vertical-align: top;\n",
              "    }\n",
              "\n",
              "    .dataframe thead th {\n",
              "        text-align: right;\n",
              "    }\n",
              "</style>\n",
              "<table border=\"1\" class=\"dataframe\">\n",
              "  <thead>\n",
              "    <tr style=\"text-align: right;\">\n",
              "      <th></th>\n",
              "      <th>Names</th>\n",
              "      <th>Python_mastery</th>\n",
              "      <th>Love_of_R</th>\n",
              "      <th>years_at_wsu</th>\n",
              "    </tr>\n",
              "  </thead>\n",
              "  <tbody>\n",
              "    <tr>\n",
              "      <th>0</th>\n",
              "      <td>Iverson</td>\n",
              "      <td>10.0</td>\n",
              "      <td>2</td>\n",
              "      <td>4</td>\n",
              "    </tr>\n",
              "    <tr>\n",
              "      <th>1</th>\n",
              "      <td>Malone</td>\n",
              "      <td>5.0</td>\n",
              "      <td>5</td>\n",
              "      <td>17</td>\n",
              "    </tr>\n",
              "    <tr>\n",
              "      <th>2</th>\n",
              "      <td>Bergen</td>\n",
              "      <td>1.0</td>\n",
              "      <td>11</td>\n",
              "      <td>5</td>\n",
              "    </tr>\n",
              "  </tbody>\n",
              "</table>\n",
              "</div>\n",
              "      <button class=\"colab-df-convert\" onclick=\"convertToInteractive('df-bd6219b4-4fb3-4389-8c2c-9706d959cfae')\"\n",
              "              title=\"Convert this dataframe to an interactive table.\"\n",
              "              style=\"display:none;\">\n",
              "        \n",
              "  <svg xmlns=\"http://www.w3.org/2000/svg\" height=\"24px\"viewBox=\"0 0 24 24\"\n",
              "       width=\"24px\">\n",
              "    <path d=\"M0 0h24v24H0V0z\" fill=\"none\"/>\n",
              "    <path d=\"M18.56 5.44l.94 2.06.94-2.06 2.06-.94-2.06-.94-.94-2.06-.94 2.06-2.06.94zm-11 1L8.5 8.5l.94-2.06 2.06-.94-2.06-.94L8.5 2.5l-.94 2.06-2.06.94zm10 10l.94 2.06.94-2.06 2.06-.94-2.06-.94-.94-2.06-.94 2.06-2.06.94z\"/><path d=\"M17.41 7.96l-1.37-1.37c-.4-.4-.92-.59-1.43-.59-.52 0-1.04.2-1.43.59L10.3 9.45l-7.72 7.72c-.78.78-.78 2.05 0 2.83L4 21.41c.39.39.9.59 1.41.59.51 0 1.02-.2 1.41-.59l7.78-7.78 2.81-2.81c.8-.78.8-2.07 0-2.86zM5.41 20L4 18.59l7.72-7.72 1.47 1.35L5.41 20z\"/>\n",
              "  </svg>\n",
              "      </button>\n",
              "      \n",
              "  <style>\n",
              "    .colab-df-container {\n",
              "      display:flex;\n",
              "      flex-wrap:wrap;\n",
              "      gap: 12px;\n",
              "    }\n",
              "\n",
              "    .colab-df-convert {\n",
              "      background-color: #E8F0FE;\n",
              "      border: none;\n",
              "      border-radius: 50%;\n",
              "      cursor: pointer;\n",
              "      display: none;\n",
              "      fill: #1967D2;\n",
              "      height: 32px;\n",
              "      padding: 0 0 0 0;\n",
              "      width: 32px;\n",
              "    }\n",
              "\n",
              "    .colab-df-convert:hover {\n",
              "      background-color: #E2EBFA;\n",
              "      box-shadow: 0px 1px 2px rgba(60, 64, 67, 0.3), 0px 1px 3px 1px rgba(60, 64, 67, 0.15);\n",
              "      fill: #174EA6;\n",
              "    }\n",
              "\n",
              "    [theme=dark] .colab-df-convert {\n",
              "      background-color: #3B4455;\n",
              "      fill: #D2E3FC;\n",
              "    }\n",
              "\n",
              "    [theme=dark] .colab-df-convert:hover {\n",
              "      background-color: #434B5C;\n",
              "      box-shadow: 0px 1px 3px 1px rgba(0, 0, 0, 0.15);\n",
              "      filter: drop-shadow(0px 1px 2px rgba(0, 0, 0, 0.3));\n",
              "      fill: #FFFFFF;\n",
              "    }\n",
              "  </style>\n",
              "\n",
              "      <script>\n",
              "        const buttonEl =\n",
              "          document.querySelector('#df-bd6219b4-4fb3-4389-8c2c-9706d959cfae button.colab-df-convert');\n",
              "        buttonEl.style.display =\n",
              "          google.colab.kernel.accessAllowed ? 'block' : 'none';\n",
              "\n",
              "        async function convertToInteractive(key) {\n",
              "          const element = document.querySelector('#df-bd6219b4-4fb3-4389-8c2c-9706d959cfae');\n",
              "          const dataTable =\n",
              "            await google.colab.kernel.invokeFunction('convertToInteractive',\n",
              "                                                     [key], {});\n",
              "          if (!dataTable) return;\n",
              "\n",
              "          const docLinkHtml = 'Like what you see? Visit the ' +\n",
              "            '<a target=\"_blank\" href=https://colab.research.google.com/notebooks/data_table.ipynb>data table notebook</a>'\n",
              "            + ' to learn more about interactive tables.';\n",
              "          element.innerHTML = '';\n",
              "          dataTable['output_type'] = 'display_data';\n",
              "          await google.colab.output.renderOutput(dataTable, element);\n",
              "          const docLink = document.createElement('div');\n",
              "          docLink.innerHTML = docLinkHtml;\n",
              "          element.appendChild(docLink);\n",
              "        }\n",
              "      </script>\n",
              "    </div>\n",
              "  </div>\n",
              "  "
            ]
          },
          "metadata": {},
          "execution_count": 2
        }
      ],
      "source": [
        "df = pd.DataFrame({\"Names\": [\"Iverson\", \"Malone\", \"Bergen\"],\n",
        "                   \"Python_mastery\": [10, 5, 1.0],\n",
        "                   \"Love_of_R\": [2, 5, 11],\n",
        "                   \"years_at_wsu\": [4, 17, 5]})\n",
        "df.head()"
      ]
    },
    {
      "cell_type": "markdown",
      "metadata": {
        "id": "IO70BG__bCc1"
      },
      "source": [
        "## Reading from a csv\n",
        "\n",
        "* Most data sets will be read in from a csv or JSON data file\n",
        "* `Pandas` provides `read_csv` and `read_json`"
      ]
    },
    {
      "cell_type": "markdown",
      "metadata": {
        "id": "k5uVuuMlbCc1"
      },
      "source": [
        "### Open a local file w/ relative path"
      ]
    },
    {
      "cell_type": "code",
      "execution_count": 3,
      "metadata": {
        "id": "IoS24wxlbCc2",
        "outputId": "9584ed10-ec62-4d5d-eec0-71a4e24ccefd",
        "colab": {
          "base_uri": "https://localhost:8080/",
          "height": 363
        }
      },
      "outputs": [
        {
          "output_type": "error",
          "ename": "FileNotFoundError",
          "evalue": "ignored",
          "traceback": [
            "\u001b[0;31m---------------------------------------------------------------------------\u001b[0m",
            "\u001b[0;31mFileNotFoundError\u001b[0m                         Traceback (most recent call last)",
            "\u001b[0;32m<ipython-input-3-94030e05ce39>\u001b[0m in \u001b[0;36m<module>\u001b[0;34m\u001b[0m\n\u001b[1;32m      1\u001b[0m \u001b[0;31m# Won't work in colab\u001b[0m\u001b[0;34m\u001b[0m\u001b[0;34m\u001b[0m\u001b[0;34m\u001b[0m\u001b[0m\n\u001b[0;32m----> 2\u001b[0;31m \u001b[0martists\u001b[0m \u001b[0;34m=\u001b[0m \u001b[0mpd\u001b[0m\u001b[0;34m.\u001b[0m\u001b[0mread_csv\u001b[0m\u001b[0;34m(\u001b[0m\u001b[0;34m'./data/Artists.csv'\u001b[0m\u001b[0;34m)\u001b[0m\u001b[0;34m\u001b[0m\u001b[0;34m\u001b[0m\u001b[0m\n\u001b[0m\u001b[1;32m      3\u001b[0m \u001b[0martists\u001b[0m\u001b[0;34m.\u001b[0m\u001b[0mhead\u001b[0m\u001b[0;34m(\u001b[0m\u001b[0;34m)\u001b[0m\u001b[0;34m\u001b[0m\u001b[0;34m\u001b[0m\u001b[0m\n",
            "\u001b[0;32m/usr/local/lib/python3.7/dist-packages/pandas/util/_decorators.py\u001b[0m in \u001b[0;36mwrapper\u001b[0;34m(*args, **kwargs)\u001b[0m\n\u001b[1;32m    309\u001b[0m                     \u001b[0mstacklevel\u001b[0m\u001b[0;34m=\u001b[0m\u001b[0mstacklevel\u001b[0m\u001b[0;34m,\u001b[0m\u001b[0;34m\u001b[0m\u001b[0;34m\u001b[0m\u001b[0m\n\u001b[1;32m    310\u001b[0m                 )\n\u001b[0;32m--> 311\u001b[0;31m             \u001b[0;32mreturn\u001b[0m \u001b[0mfunc\u001b[0m\u001b[0;34m(\u001b[0m\u001b[0;34m*\u001b[0m\u001b[0margs\u001b[0m\u001b[0;34m,\u001b[0m \u001b[0;34m**\u001b[0m\u001b[0mkwargs\u001b[0m\u001b[0;34m)\u001b[0m\u001b[0;34m\u001b[0m\u001b[0;34m\u001b[0m\u001b[0m\n\u001b[0m\u001b[1;32m    312\u001b[0m \u001b[0;34m\u001b[0m\u001b[0m\n\u001b[1;32m    313\u001b[0m         \u001b[0;32mreturn\u001b[0m \u001b[0mwrapper\u001b[0m\u001b[0;34m\u001b[0m\u001b[0;34m\u001b[0m\u001b[0m\n",
            "\u001b[0;32m/usr/local/lib/python3.7/dist-packages/pandas/io/parsers/readers.py\u001b[0m in \u001b[0;36mread_csv\u001b[0;34m(filepath_or_buffer, sep, delimiter, header, names, index_col, usecols, squeeze, prefix, mangle_dupe_cols, dtype, engine, converters, true_values, false_values, skipinitialspace, skiprows, skipfooter, nrows, na_values, keep_default_na, na_filter, verbose, skip_blank_lines, parse_dates, infer_datetime_format, keep_date_col, date_parser, dayfirst, cache_dates, iterator, chunksize, compression, thousands, decimal, lineterminator, quotechar, quoting, doublequote, escapechar, comment, encoding, encoding_errors, dialect, error_bad_lines, warn_bad_lines, on_bad_lines, delim_whitespace, low_memory, memory_map, float_precision, storage_options)\u001b[0m\n\u001b[1;32m    584\u001b[0m     \u001b[0mkwds\u001b[0m\u001b[0;34m.\u001b[0m\u001b[0mupdate\u001b[0m\u001b[0;34m(\u001b[0m\u001b[0mkwds_defaults\u001b[0m\u001b[0;34m)\u001b[0m\u001b[0;34m\u001b[0m\u001b[0;34m\u001b[0m\u001b[0m\n\u001b[1;32m    585\u001b[0m \u001b[0;34m\u001b[0m\u001b[0m\n\u001b[0;32m--> 586\u001b[0;31m     \u001b[0;32mreturn\u001b[0m \u001b[0m_read\u001b[0m\u001b[0;34m(\u001b[0m\u001b[0mfilepath_or_buffer\u001b[0m\u001b[0;34m,\u001b[0m \u001b[0mkwds\u001b[0m\u001b[0;34m)\u001b[0m\u001b[0;34m\u001b[0m\u001b[0;34m\u001b[0m\u001b[0m\n\u001b[0m\u001b[1;32m    587\u001b[0m \u001b[0;34m\u001b[0m\u001b[0m\n\u001b[1;32m    588\u001b[0m \u001b[0;34m\u001b[0m\u001b[0m\n",
            "\u001b[0;32m/usr/local/lib/python3.7/dist-packages/pandas/io/parsers/readers.py\u001b[0m in \u001b[0;36m_read\u001b[0;34m(filepath_or_buffer, kwds)\u001b[0m\n\u001b[1;32m    480\u001b[0m \u001b[0;34m\u001b[0m\u001b[0m\n\u001b[1;32m    481\u001b[0m     \u001b[0;31m# Create the parser.\u001b[0m\u001b[0;34m\u001b[0m\u001b[0;34m\u001b[0m\u001b[0;34m\u001b[0m\u001b[0m\n\u001b[0;32m--> 482\u001b[0;31m     \u001b[0mparser\u001b[0m \u001b[0;34m=\u001b[0m \u001b[0mTextFileReader\u001b[0m\u001b[0;34m(\u001b[0m\u001b[0mfilepath_or_buffer\u001b[0m\u001b[0;34m,\u001b[0m \u001b[0;34m**\u001b[0m\u001b[0mkwds\u001b[0m\u001b[0;34m)\u001b[0m\u001b[0;34m\u001b[0m\u001b[0;34m\u001b[0m\u001b[0m\n\u001b[0m\u001b[1;32m    483\u001b[0m \u001b[0;34m\u001b[0m\u001b[0m\n\u001b[1;32m    484\u001b[0m     \u001b[0;32mif\u001b[0m \u001b[0mchunksize\u001b[0m \u001b[0;32mor\u001b[0m \u001b[0miterator\u001b[0m\u001b[0;34m:\u001b[0m\u001b[0;34m\u001b[0m\u001b[0;34m\u001b[0m\u001b[0m\n",
            "\u001b[0;32m/usr/local/lib/python3.7/dist-packages/pandas/io/parsers/readers.py\u001b[0m in \u001b[0;36m__init__\u001b[0;34m(self, f, engine, **kwds)\u001b[0m\n\u001b[1;32m    809\u001b[0m             \u001b[0mself\u001b[0m\u001b[0;34m.\u001b[0m\u001b[0moptions\u001b[0m\u001b[0;34m[\u001b[0m\u001b[0;34m\"has_index_names\"\u001b[0m\u001b[0;34m]\u001b[0m \u001b[0;34m=\u001b[0m \u001b[0mkwds\u001b[0m\u001b[0;34m[\u001b[0m\u001b[0;34m\"has_index_names\"\u001b[0m\u001b[0;34m]\u001b[0m\u001b[0;34m\u001b[0m\u001b[0;34m\u001b[0m\u001b[0m\n\u001b[1;32m    810\u001b[0m \u001b[0;34m\u001b[0m\u001b[0m\n\u001b[0;32m--> 811\u001b[0;31m         \u001b[0mself\u001b[0m\u001b[0;34m.\u001b[0m\u001b[0m_engine\u001b[0m \u001b[0;34m=\u001b[0m \u001b[0mself\u001b[0m\u001b[0;34m.\u001b[0m\u001b[0m_make_engine\u001b[0m\u001b[0;34m(\u001b[0m\u001b[0mself\u001b[0m\u001b[0;34m.\u001b[0m\u001b[0mengine\u001b[0m\u001b[0;34m)\u001b[0m\u001b[0;34m\u001b[0m\u001b[0;34m\u001b[0m\u001b[0m\n\u001b[0m\u001b[1;32m    812\u001b[0m \u001b[0;34m\u001b[0m\u001b[0m\n\u001b[1;32m    813\u001b[0m     \u001b[0;32mdef\u001b[0m \u001b[0mclose\u001b[0m\u001b[0;34m(\u001b[0m\u001b[0mself\u001b[0m\u001b[0;34m)\u001b[0m\u001b[0;34m:\u001b[0m\u001b[0;34m\u001b[0m\u001b[0;34m\u001b[0m\u001b[0m\n",
            "\u001b[0;32m/usr/local/lib/python3.7/dist-packages/pandas/io/parsers/readers.py\u001b[0m in \u001b[0;36m_make_engine\u001b[0;34m(self, engine)\u001b[0m\n\u001b[1;32m   1038\u001b[0m             )\n\u001b[1;32m   1039\u001b[0m         \u001b[0;31m# error: Too many arguments for \"ParserBase\"\u001b[0m\u001b[0;34m\u001b[0m\u001b[0;34m\u001b[0m\u001b[0;34m\u001b[0m\u001b[0m\n\u001b[0;32m-> 1040\u001b[0;31m         \u001b[0;32mreturn\u001b[0m \u001b[0mmapping\u001b[0m\u001b[0;34m[\u001b[0m\u001b[0mengine\u001b[0m\u001b[0;34m]\u001b[0m\u001b[0;34m(\u001b[0m\u001b[0mself\u001b[0m\u001b[0;34m.\u001b[0m\u001b[0mf\u001b[0m\u001b[0;34m,\u001b[0m \u001b[0;34m**\u001b[0m\u001b[0mself\u001b[0m\u001b[0;34m.\u001b[0m\u001b[0moptions\u001b[0m\u001b[0;34m)\u001b[0m  \u001b[0;31m# type: ignore[call-arg]\u001b[0m\u001b[0;34m\u001b[0m\u001b[0;34m\u001b[0m\u001b[0m\n\u001b[0m\u001b[1;32m   1041\u001b[0m \u001b[0;34m\u001b[0m\u001b[0m\n\u001b[1;32m   1042\u001b[0m     \u001b[0;32mdef\u001b[0m \u001b[0m_failover_to_python\u001b[0m\u001b[0;34m(\u001b[0m\u001b[0mself\u001b[0m\u001b[0;34m)\u001b[0m\u001b[0;34m:\u001b[0m\u001b[0;34m\u001b[0m\u001b[0;34m\u001b[0m\u001b[0m\n",
            "\u001b[0;32m/usr/local/lib/python3.7/dist-packages/pandas/io/parsers/c_parser_wrapper.py\u001b[0m in \u001b[0;36m__init__\u001b[0;34m(self, src, **kwds)\u001b[0m\n\u001b[1;32m     49\u001b[0m \u001b[0;34m\u001b[0m\u001b[0m\n\u001b[1;32m     50\u001b[0m         \u001b[0;31m# open handles\u001b[0m\u001b[0;34m\u001b[0m\u001b[0;34m\u001b[0m\u001b[0;34m\u001b[0m\u001b[0m\n\u001b[0;32m---> 51\u001b[0;31m         \u001b[0mself\u001b[0m\u001b[0;34m.\u001b[0m\u001b[0m_open_handles\u001b[0m\u001b[0;34m(\u001b[0m\u001b[0msrc\u001b[0m\u001b[0;34m,\u001b[0m \u001b[0mkwds\u001b[0m\u001b[0;34m)\u001b[0m\u001b[0;34m\u001b[0m\u001b[0;34m\u001b[0m\u001b[0m\n\u001b[0m\u001b[1;32m     52\u001b[0m         \u001b[0;32massert\u001b[0m \u001b[0mself\u001b[0m\u001b[0;34m.\u001b[0m\u001b[0mhandles\u001b[0m \u001b[0;32mis\u001b[0m \u001b[0;32mnot\u001b[0m \u001b[0;32mNone\u001b[0m\u001b[0;34m\u001b[0m\u001b[0;34m\u001b[0m\u001b[0m\n\u001b[1;32m     53\u001b[0m \u001b[0;34m\u001b[0m\u001b[0m\n",
            "\u001b[0;32m/usr/local/lib/python3.7/dist-packages/pandas/io/parsers/base_parser.py\u001b[0m in \u001b[0;36m_open_handles\u001b[0;34m(self, src, kwds)\u001b[0m\n\u001b[1;32m    227\u001b[0m             \u001b[0mmemory_map\u001b[0m\u001b[0;34m=\u001b[0m\u001b[0mkwds\u001b[0m\u001b[0;34m.\u001b[0m\u001b[0mget\u001b[0m\u001b[0;34m(\u001b[0m\u001b[0;34m\"memory_map\"\u001b[0m\u001b[0;34m,\u001b[0m \u001b[0;32mFalse\u001b[0m\u001b[0;34m)\u001b[0m\u001b[0;34m,\u001b[0m\u001b[0;34m\u001b[0m\u001b[0;34m\u001b[0m\u001b[0m\n\u001b[1;32m    228\u001b[0m             \u001b[0mstorage_options\u001b[0m\u001b[0;34m=\u001b[0m\u001b[0mkwds\u001b[0m\u001b[0;34m.\u001b[0m\u001b[0mget\u001b[0m\u001b[0;34m(\u001b[0m\u001b[0;34m\"storage_options\"\u001b[0m\u001b[0;34m,\u001b[0m \u001b[0;32mNone\u001b[0m\u001b[0;34m)\u001b[0m\u001b[0;34m,\u001b[0m\u001b[0;34m\u001b[0m\u001b[0;34m\u001b[0m\u001b[0m\n\u001b[0;32m--> 229\u001b[0;31m             \u001b[0merrors\u001b[0m\u001b[0;34m=\u001b[0m\u001b[0mkwds\u001b[0m\u001b[0;34m.\u001b[0m\u001b[0mget\u001b[0m\u001b[0;34m(\u001b[0m\u001b[0;34m\"encoding_errors\"\u001b[0m\u001b[0;34m,\u001b[0m \u001b[0;34m\"strict\"\u001b[0m\u001b[0;34m)\u001b[0m\u001b[0;34m,\u001b[0m\u001b[0;34m\u001b[0m\u001b[0;34m\u001b[0m\u001b[0m\n\u001b[0m\u001b[1;32m    230\u001b[0m         )\n\u001b[1;32m    231\u001b[0m \u001b[0;34m\u001b[0m\u001b[0m\n",
            "\u001b[0;32m/usr/local/lib/python3.7/dist-packages/pandas/io/common.py\u001b[0m in \u001b[0;36mget_handle\u001b[0;34m(path_or_buf, mode, encoding, compression, memory_map, is_text, errors, storage_options)\u001b[0m\n\u001b[1;32m    705\u001b[0m                 \u001b[0mencoding\u001b[0m\u001b[0;34m=\u001b[0m\u001b[0mioargs\u001b[0m\u001b[0;34m.\u001b[0m\u001b[0mencoding\u001b[0m\u001b[0;34m,\u001b[0m\u001b[0;34m\u001b[0m\u001b[0;34m\u001b[0m\u001b[0m\n\u001b[1;32m    706\u001b[0m                 \u001b[0merrors\u001b[0m\u001b[0;34m=\u001b[0m\u001b[0merrors\u001b[0m\u001b[0;34m,\u001b[0m\u001b[0;34m\u001b[0m\u001b[0;34m\u001b[0m\u001b[0m\n\u001b[0;32m--> 707\u001b[0;31m                 \u001b[0mnewline\u001b[0m\u001b[0;34m=\u001b[0m\u001b[0;34m\"\"\u001b[0m\u001b[0;34m,\u001b[0m\u001b[0;34m\u001b[0m\u001b[0;34m\u001b[0m\u001b[0m\n\u001b[0m\u001b[1;32m    708\u001b[0m             )\n\u001b[1;32m    709\u001b[0m         \u001b[0;32melse\u001b[0m\u001b[0;34m:\u001b[0m\u001b[0;34m\u001b[0m\u001b[0;34m\u001b[0m\u001b[0m\n",
            "\u001b[0;31mFileNotFoundError\u001b[0m: [Errno 2] No such file or directory: './data/Artists.csv'"
          ]
        }
      ],
      "source": [
        "# Won't work in colab\n",
        "artists = pd.read_csv('./data/Artists.csv')\n",
        "artists.head()"
      ]
    },
    {
      "cell_type": "markdown",
      "metadata": {
        "id": "UdAWVmJ9bCc3"
      },
      "source": [
        "### Open a web address"
      ]
    },
    {
      "cell_type": "code",
      "execution_count": 4,
      "metadata": {
        "id": "HblZG_G2bCc3",
        "outputId": "727c0cdc-0a11-470f-b857-c53b747a50ad",
        "colab": {
          "base_uri": "https://localhost:8080/",
          "height": 206
        }
      },
      "outputs": [
        {
          "output_type": "execute_result",
          "data": {
            "text/plain": [
              "   ConstituentID      DisplayName            ArtistBio Nationality Gender  \\\n",
              "0              1   Robert Arneson  American, 1930–1992    American   Male   \n",
              "1              2   Doroteo Arnaiz   Spanish, born 1936     Spanish   Male   \n",
              "2              3      Bill Arnold  American, born 1941    American   Male   \n",
              "3              4  Charles Arnoldi  American, born 1946    American   Male   \n",
              "4              5      Per Arnoldi    Danish, born 1941      Danish   Male   \n",
              "\n",
              "   BeginDate  EndDate  Wiki QID         ULAN  \n",
              "0       1930     1992       NaN          NaN  \n",
              "1       1936        0       NaN          NaN  \n",
              "2       1941        0       NaN          NaN  \n",
              "3       1946        0  Q1063584  500027998.0  \n",
              "4       1941        0       NaN          NaN  "
            ],
            "text/html": [
              "\n",
              "  <div id=\"df-e22f533a-538c-412d-b652-d8580715cc50\">\n",
              "    <div class=\"colab-df-container\">\n",
              "      <div>\n",
              "<style scoped>\n",
              "    .dataframe tbody tr th:only-of-type {\n",
              "        vertical-align: middle;\n",
              "    }\n",
              "\n",
              "    .dataframe tbody tr th {\n",
              "        vertical-align: top;\n",
              "    }\n",
              "\n",
              "    .dataframe thead th {\n",
              "        text-align: right;\n",
              "    }\n",
              "</style>\n",
              "<table border=\"1\" class=\"dataframe\">\n",
              "  <thead>\n",
              "    <tr style=\"text-align: right;\">\n",
              "      <th></th>\n",
              "      <th>ConstituentID</th>\n",
              "      <th>DisplayName</th>\n",
              "      <th>ArtistBio</th>\n",
              "      <th>Nationality</th>\n",
              "      <th>Gender</th>\n",
              "      <th>BeginDate</th>\n",
              "      <th>EndDate</th>\n",
              "      <th>Wiki QID</th>\n",
              "      <th>ULAN</th>\n",
              "    </tr>\n",
              "  </thead>\n",
              "  <tbody>\n",
              "    <tr>\n",
              "      <th>0</th>\n",
              "      <td>1</td>\n",
              "      <td>Robert Arneson</td>\n",
              "      <td>American, 1930–1992</td>\n",
              "      <td>American</td>\n",
              "      <td>Male</td>\n",
              "      <td>1930</td>\n",
              "      <td>1992</td>\n",
              "      <td>NaN</td>\n",
              "      <td>NaN</td>\n",
              "    </tr>\n",
              "    <tr>\n",
              "      <th>1</th>\n",
              "      <td>2</td>\n",
              "      <td>Doroteo Arnaiz</td>\n",
              "      <td>Spanish, born 1936</td>\n",
              "      <td>Spanish</td>\n",
              "      <td>Male</td>\n",
              "      <td>1936</td>\n",
              "      <td>0</td>\n",
              "      <td>NaN</td>\n",
              "      <td>NaN</td>\n",
              "    </tr>\n",
              "    <tr>\n",
              "      <th>2</th>\n",
              "      <td>3</td>\n",
              "      <td>Bill Arnold</td>\n",
              "      <td>American, born 1941</td>\n",
              "      <td>American</td>\n",
              "      <td>Male</td>\n",
              "      <td>1941</td>\n",
              "      <td>0</td>\n",
              "      <td>NaN</td>\n",
              "      <td>NaN</td>\n",
              "    </tr>\n",
              "    <tr>\n",
              "      <th>3</th>\n",
              "      <td>4</td>\n",
              "      <td>Charles Arnoldi</td>\n",
              "      <td>American, born 1946</td>\n",
              "      <td>American</td>\n",
              "      <td>Male</td>\n",
              "      <td>1946</td>\n",
              "      <td>0</td>\n",
              "      <td>Q1063584</td>\n",
              "      <td>500027998.0</td>\n",
              "    </tr>\n",
              "    <tr>\n",
              "      <th>4</th>\n",
              "      <td>5</td>\n",
              "      <td>Per Arnoldi</td>\n",
              "      <td>Danish, born 1941</td>\n",
              "      <td>Danish</td>\n",
              "      <td>Male</td>\n",
              "      <td>1941</td>\n",
              "      <td>0</td>\n",
              "      <td>NaN</td>\n",
              "      <td>NaN</td>\n",
              "    </tr>\n",
              "  </tbody>\n",
              "</table>\n",
              "</div>\n",
              "      <button class=\"colab-df-convert\" onclick=\"convertToInteractive('df-e22f533a-538c-412d-b652-d8580715cc50')\"\n",
              "              title=\"Convert this dataframe to an interactive table.\"\n",
              "              style=\"display:none;\">\n",
              "        \n",
              "  <svg xmlns=\"http://www.w3.org/2000/svg\" height=\"24px\"viewBox=\"0 0 24 24\"\n",
              "       width=\"24px\">\n",
              "    <path d=\"M0 0h24v24H0V0z\" fill=\"none\"/>\n",
              "    <path d=\"M18.56 5.44l.94 2.06.94-2.06 2.06-.94-2.06-.94-.94-2.06-.94 2.06-2.06.94zm-11 1L8.5 8.5l.94-2.06 2.06-.94-2.06-.94L8.5 2.5l-.94 2.06-2.06.94zm10 10l.94 2.06.94-2.06 2.06-.94-2.06-.94-.94-2.06-.94 2.06-2.06.94z\"/><path d=\"M17.41 7.96l-1.37-1.37c-.4-.4-.92-.59-1.43-.59-.52 0-1.04.2-1.43.59L10.3 9.45l-7.72 7.72c-.78.78-.78 2.05 0 2.83L4 21.41c.39.39.9.59 1.41.59.51 0 1.02-.2 1.41-.59l7.78-7.78 2.81-2.81c.8-.78.8-2.07 0-2.86zM5.41 20L4 18.59l7.72-7.72 1.47 1.35L5.41 20z\"/>\n",
              "  </svg>\n",
              "      </button>\n",
              "      \n",
              "  <style>\n",
              "    .colab-df-container {\n",
              "      display:flex;\n",
              "      flex-wrap:wrap;\n",
              "      gap: 12px;\n",
              "    }\n",
              "\n",
              "    .colab-df-convert {\n",
              "      background-color: #E8F0FE;\n",
              "      border: none;\n",
              "      border-radius: 50%;\n",
              "      cursor: pointer;\n",
              "      display: none;\n",
              "      fill: #1967D2;\n",
              "      height: 32px;\n",
              "      padding: 0 0 0 0;\n",
              "      width: 32px;\n",
              "    }\n",
              "\n",
              "    .colab-df-convert:hover {\n",
              "      background-color: #E2EBFA;\n",
              "      box-shadow: 0px 1px 2px rgba(60, 64, 67, 0.3), 0px 1px 3px 1px rgba(60, 64, 67, 0.15);\n",
              "      fill: #174EA6;\n",
              "    }\n",
              "\n",
              "    [theme=dark] .colab-df-convert {\n",
              "      background-color: #3B4455;\n",
              "      fill: #D2E3FC;\n",
              "    }\n",
              "\n",
              "    [theme=dark] .colab-df-convert:hover {\n",
              "      background-color: #434B5C;\n",
              "      box-shadow: 0px 1px 3px 1px rgba(0, 0, 0, 0.15);\n",
              "      filter: drop-shadow(0px 1px 2px rgba(0, 0, 0, 0.3));\n",
              "      fill: #FFFFFF;\n",
              "    }\n",
              "  </style>\n",
              "\n",
              "      <script>\n",
              "        const buttonEl =\n",
              "          document.querySelector('#df-e22f533a-538c-412d-b652-d8580715cc50 button.colab-df-convert');\n",
              "        buttonEl.style.display =\n",
              "          google.colab.kernel.accessAllowed ? 'block' : 'none';\n",
              "\n",
              "        async function convertToInteractive(key) {\n",
              "          const element = document.querySelector('#df-e22f533a-538c-412d-b652-d8580715cc50');\n",
              "          const dataTable =\n",
              "            await google.colab.kernel.invokeFunction('convertToInteractive',\n",
              "                                                     [key], {});\n",
              "          if (!dataTable) return;\n",
              "\n",
              "          const docLinkHtml = 'Like what you see? Visit the ' +\n",
              "            '<a target=\"_blank\" href=https://colab.research.google.com/notebooks/data_table.ipynb>data table notebook</a>'\n",
              "            + ' to learn more about interactive tables.';\n",
              "          element.innerHTML = '';\n",
              "          dataTable['output_type'] = 'display_data';\n",
              "          await google.colab.output.renderOutput(dataTable, element);\n",
              "          const docLink = document.createElement('div');\n",
              "          docLink.innerHTML = docLinkHtml;\n",
              "          element.appendChild(docLink);\n",
              "        }\n",
              "      </script>\n",
              "    </div>\n",
              "  </div>\n",
              "  "
            ]
          },
          "metadata": {},
          "execution_count": 4
        }
      ],
      "source": [
        "url = \"https://github.com/MuseumofModernArt/collection/raw/master/Artists.csv\"\n",
        "artists =  pd.read_csv(url)\n",
        "artists.head()"
      ]
    },
    {
      "cell_type": "markdown",
      "metadata": {
        "id": "h1GnJkrGbCc4"
      },
      "source": [
        "# JSON data file\n",
        "\n",
        "* Another (more modern) storage\n",
        "* Here the data is stored in row `dict`"
      ]
    },
    {
      "cell_type": "markdown",
      "metadata": {
        "id": "xjVDZLl0bCc4"
      },
      "source": [
        "```{json}\n",
        "[\n",
        "{\n",
        "  \"ConstituentID\": 1,\n",
        "  \"DisplayName\": \"Robert Arneson\",\n",
        "  \"ArtistBio\": \"American, 1930–1992\",\n",
        "  \"Nationality\": \"American\",\n",
        "  \"Gender\": \"Male\",\n",
        "  \"BeginDate\": 1930,\n",
        "  \"EndDate\": 1992,\n",
        "  \"Wiki QID\": null,\n",
        "  \"ULAN\": null\n",
        "},\n",
        "{\n",
        "  \"ConstituentID\": 2,\n",
        "  \"DisplayName\": \"Doroteo Arnaiz\",\n",
        "  \"ArtistBio\": \"Spanish, born 1936\",\n",
        "  \"Nationality\": \"Spanish\",\n",
        "  \"Gender\": \"Male\",\n",
        "  \"BeginDate\": 1936,\n",
        "  \"EndDate\": 0,\n",
        "  \"Wiki QID\": null,\n",
        "  \"ULAN\": null\n",
        "},\n",
        "...\n",
        "```"
      ]
    },
    {
      "cell_type": "markdown",
      "metadata": {
        "id": "XcaTlErhbCdD"
      },
      "source": [
        "## `pandas` can read `json` data"
      ]
    },
    {
      "cell_type": "code",
      "execution_count": null,
      "metadata": {
        "id": "441IBHXbbCdE",
        "outputId": "2d061bff-60f0-441a-a126-0641ef34b9a4"
      },
      "outputs": [
        {
          "data": {
            "text/html": [
              "<div>\n",
              "<style scoped>\n",
              "    .dataframe tbody tr th:only-of-type {\n",
              "        vertical-align: middle;\n",
              "    }\n",
              "\n",
              "    .dataframe tbody tr th {\n",
              "        vertical-align: top;\n",
              "    }\n",
              "\n",
              "    .dataframe thead th {\n",
              "        text-align: right;\n",
              "    }\n",
              "</style>\n",
              "<table border=\"1\" class=\"dataframe\">\n",
              "  <thead>\n",
              "    <tr style=\"text-align: right;\">\n",
              "      <th></th>\n",
              "      <th>ConstituentID</th>\n",
              "      <th>DisplayName</th>\n",
              "      <th>ArtistBio</th>\n",
              "      <th>Nationality</th>\n",
              "      <th>Gender</th>\n",
              "      <th>BeginDate</th>\n",
              "      <th>EndDate</th>\n",
              "      <th>Wiki QID</th>\n",
              "      <th>ULAN</th>\n",
              "    </tr>\n",
              "  </thead>\n",
              "  <tbody>\n",
              "    <tr>\n",
              "      <th>0</th>\n",
              "      <td>1</td>\n",
              "      <td>Robert Arneson</td>\n",
              "      <td>American, 1930–1992</td>\n",
              "      <td>American</td>\n",
              "      <td>Male</td>\n",
              "      <td>1930</td>\n",
              "      <td>1992</td>\n",
              "      <td>None</td>\n",
              "      <td>NaN</td>\n",
              "    </tr>\n",
              "    <tr>\n",
              "      <th>1</th>\n",
              "      <td>2</td>\n",
              "      <td>Doroteo Arnaiz</td>\n",
              "      <td>Spanish, born 1936</td>\n",
              "      <td>Spanish</td>\n",
              "      <td>Male</td>\n",
              "      <td>1936</td>\n",
              "      <td>0</td>\n",
              "      <td>None</td>\n",
              "      <td>NaN</td>\n",
              "    </tr>\n",
              "    <tr>\n",
              "      <th>2</th>\n",
              "      <td>3</td>\n",
              "      <td>Bill Arnold</td>\n",
              "      <td>American, born 1941</td>\n",
              "      <td>American</td>\n",
              "      <td>Male</td>\n",
              "      <td>1941</td>\n",
              "      <td>0</td>\n",
              "      <td>None</td>\n",
              "      <td>NaN</td>\n",
              "    </tr>\n",
              "    <tr>\n",
              "      <th>3</th>\n",
              "      <td>4</td>\n",
              "      <td>Charles Arnoldi</td>\n",
              "      <td>American, born 1946</td>\n",
              "      <td>American</td>\n",
              "      <td>Male</td>\n",
              "      <td>1946</td>\n",
              "      <td>0</td>\n",
              "      <td>Q1063584</td>\n",
              "      <td>500027998.0</td>\n",
              "    </tr>\n",
              "    <tr>\n",
              "      <th>4</th>\n",
              "      <td>5</td>\n",
              "      <td>Per Arnoldi</td>\n",
              "      <td>Danish, born 1941</td>\n",
              "      <td>Danish</td>\n",
              "      <td>Male</td>\n",
              "      <td>1941</td>\n",
              "      <td>0</td>\n",
              "      <td>None</td>\n",
              "      <td>NaN</td>\n",
              "    </tr>\n",
              "  </tbody>\n",
              "</table>\n",
              "</div>"
            ],
            "text/plain": [
              "   ConstituentID      DisplayName            ArtistBio Nationality Gender  \\\n",
              "0              1   Robert Arneson  American, 1930–1992    American   Male   \n",
              "1              2   Doroteo Arnaiz   Spanish, born 1936     Spanish   Male   \n",
              "2              3      Bill Arnold  American, born 1941    American   Male   \n",
              "3              4  Charles Arnoldi  American, born 1946    American   Male   \n",
              "4              5      Per Arnoldi    Danish, born 1941      Danish   Male   \n",
              "\n",
              "   BeginDate  EndDate  Wiki QID         ULAN  \n",
              "0       1930     1992      None          NaN  \n",
              "1       1936        0      None          NaN  \n",
              "2       1941        0      None          NaN  \n",
              "3       1946        0  Q1063584  500027998.0  \n",
              "4       1941        0      None          NaN  "
            ]
          },
          "execution_count": 5,
          "metadata": {},
          "output_type": "execute_result"
        }
      ],
      "source": [
        "# Won't work in colab\n",
        "artists =  pd.read_json('./data/Artists.json')\n",
        "artists.head()"
      ]
    },
    {
      "cell_type": "code",
      "execution_count": 5,
      "metadata": {
        "id": "62MIYm9dbCdE",
        "outputId": "3b3bc103-3e98-4ad6-e5e7-cb7b02d53098",
        "colab": {
          "base_uri": "https://localhost:8080/",
          "height": 206
        }
      },
      "outputs": [
        {
          "output_type": "execute_result",
          "data": {
            "text/plain": [
              "   ConstituentID      DisplayName            ArtistBio Nationality Gender  \\\n",
              "0              1   Robert Arneson  American, 1930–1992    American   Male   \n",
              "1              2   Doroteo Arnaiz   Spanish, born 1936     Spanish   Male   \n",
              "2              3      Bill Arnold  American, born 1941    American   Male   \n",
              "3              4  Charles Arnoldi  American, born 1946    American   Male   \n",
              "4              5      Per Arnoldi    Danish, born 1941      Danish   Male   \n",
              "\n",
              "   BeginDate  EndDate  Wiki QID         ULAN  \n",
              "0       1930     1992      None          NaN  \n",
              "1       1936        0      None          NaN  \n",
              "2       1941        0      None          NaN  \n",
              "3       1946        0  Q1063584  500027998.0  \n",
              "4       1941        0      None          NaN  "
            ],
            "text/html": [
              "\n",
              "  <div id=\"df-e9f1bfbe-23bb-419f-8d3a-ea86b81e07e7\">\n",
              "    <div class=\"colab-df-container\">\n",
              "      <div>\n",
              "<style scoped>\n",
              "    .dataframe tbody tr th:only-of-type {\n",
              "        vertical-align: middle;\n",
              "    }\n",
              "\n",
              "    .dataframe tbody tr th {\n",
              "        vertical-align: top;\n",
              "    }\n",
              "\n",
              "    .dataframe thead th {\n",
              "        text-align: right;\n",
              "    }\n",
              "</style>\n",
              "<table border=\"1\" class=\"dataframe\">\n",
              "  <thead>\n",
              "    <tr style=\"text-align: right;\">\n",
              "      <th></th>\n",
              "      <th>ConstituentID</th>\n",
              "      <th>DisplayName</th>\n",
              "      <th>ArtistBio</th>\n",
              "      <th>Nationality</th>\n",
              "      <th>Gender</th>\n",
              "      <th>BeginDate</th>\n",
              "      <th>EndDate</th>\n",
              "      <th>Wiki QID</th>\n",
              "      <th>ULAN</th>\n",
              "    </tr>\n",
              "  </thead>\n",
              "  <tbody>\n",
              "    <tr>\n",
              "      <th>0</th>\n",
              "      <td>1</td>\n",
              "      <td>Robert Arneson</td>\n",
              "      <td>American, 1930–1992</td>\n",
              "      <td>American</td>\n",
              "      <td>Male</td>\n",
              "      <td>1930</td>\n",
              "      <td>1992</td>\n",
              "      <td>None</td>\n",
              "      <td>NaN</td>\n",
              "    </tr>\n",
              "    <tr>\n",
              "      <th>1</th>\n",
              "      <td>2</td>\n",
              "      <td>Doroteo Arnaiz</td>\n",
              "      <td>Spanish, born 1936</td>\n",
              "      <td>Spanish</td>\n",
              "      <td>Male</td>\n",
              "      <td>1936</td>\n",
              "      <td>0</td>\n",
              "      <td>None</td>\n",
              "      <td>NaN</td>\n",
              "    </tr>\n",
              "    <tr>\n",
              "      <th>2</th>\n",
              "      <td>3</td>\n",
              "      <td>Bill Arnold</td>\n",
              "      <td>American, born 1941</td>\n",
              "      <td>American</td>\n",
              "      <td>Male</td>\n",
              "      <td>1941</td>\n",
              "      <td>0</td>\n",
              "      <td>None</td>\n",
              "      <td>NaN</td>\n",
              "    </tr>\n",
              "    <tr>\n",
              "      <th>3</th>\n",
              "      <td>4</td>\n",
              "      <td>Charles Arnoldi</td>\n",
              "      <td>American, born 1946</td>\n",
              "      <td>American</td>\n",
              "      <td>Male</td>\n",
              "      <td>1946</td>\n",
              "      <td>0</td>\n",
              "      <td>Q1063584</td>\n",
              "      <td>500027998.0</td>\n",
              "    </tr>\n",
              "    <tr>\n",
              "      <th>4</th>\n",
              "      <td>5</td>\n",
              "      <td>Per Arnoldi</td>\n",
              "      <td>Danish, born 1941</td>\n",
              "      <td>Danish</td>\n",
              "      <td>Male</td>\n",
              "      <td>1941</td>\n",
              "      <td>0</td>\n",
              "      <td>None</td>\n",
              "      <td>NaN</td>\n",
              "    </tr>\n",
              "  </tbody>\n",
              "</table>\n",
              "</div>\n",
              "      <button class=\"colab-df-convert\" onclick=\"convertToInteractive('df-e9f1bfbe-23bb-419f-8d3a-ea86b81e07e7')\"\n",
              "              title=\"Convert this dataframe to an interactive table.\"\n",
              "              style=\"display:none;\">\n",
              "        \n",
              "  <svg xmlns=\"http://www.w3.org/2000/svg\" height=\"24px\"viewBox=\"0 0 24 24\"\n",
              "       width=\"24px\">\n",
              "    <path d=\"M0 0h24v24H0V0z\" fill=\"none\"/>\n",
              "    <path d=\"M18.56 5.44l.94 2.06.94-2.06 2.06-.94-2.06-.94-.94-2.06-.94 2.06-2.06.94zm-11 1L8.5 8.5l.94-2.06 2.06-.94-2.06-.94L8.5 2.5l-.94 2.06-2.06.94zm10 10l.94 2.06.94-2.06 2.06-.94-2.06-.94-.94-2.06-.94 2.06-2.06.94z\"/><path d=\"M17.41 7.96l-1.37-1.37c-.4-.4-.92-.59-1.43-.59-.52 0-1.04.2-1.43.59L10.3 9.45l-7.72 7.72c-.78.78-.78 2.05 0 2.83L4 21.41c.39.39.9.59 1.41.59.51 0 1.02-.2 1.41-.59l7.78-7.78 2.81-2.81c.8-.78.8-2.07 0-2.86zM5.41 20L4 18.59l7.72-7.72 1.47 1.35L5.41 20z\"/>\n",
              "  </svg>\n",
              "      </button>\n",
              "      \n",
              "  <style>\n",
              "    .colab-df-container {\n",
              "      display:flex;\n",
              "      flex-wrap:wrap;\n",
              "      gap: 12px;\n",
              "    }\n",
              "\n",
              "    .colab-df-convert {\n",
              "      background-color: #E8F0FE;\n",
              "      border: none;\n",
              "      border-radius: 50%;\n",
              "      cursor: pointer;\n",
              "      display: none;\n",
              "      fill: #1967D2;\n",
              "      height: 32px;\n",
              "      padding: 0 0 0 0;\n",
              "      width: 32px;\n",
              "    }\n",
              "\n",
              "    .colab-df-convert:hover {\n",
              "      background-color: #E2EBFA;\n",
              "      box-shadow: 0px 1px 2px rgba(60, 64, 67, 0.3), 0px 1px 3px 1px rgba(60, 64, 67, 0.15);\n",
              "      fill: #174EA6;\n",
              "    }\n",
              "\n",
              "    [theme=dark] .colab-df-convert {\n",
              "      background-color: #3B4455;\n",
              "      fill: #D2E3FC;\n",
              "    }\n",
              "\n",
              "    [theme=dark] .colab-df-convert:hover {\n",
              "      background-color: #434B5C;\n",
              "      box-shadow: 0px 1px 3px 1px rgba(0, 0, 0, 0.15);\n",
              "      filter: drop-shadow(0px 1px 2px rgba(0, 0, 0, 0.3));\n",
              "      fill: #FFFFFF;\n",
              "    }\n",
              "  </style>\n",
              "\n",
              "      <script>\n",
              "        const buttonEl =\n",
              "          document.querySelector('#df-e9f1bfbe-23bb-419f-8d3a-ea86b81e07e7 button.colab-df-convert');\n",
              "        buttonEl.style.display =\n",
              "          google.colab.kernel.accessAllowed ? 'block' : 'none';\n",
              "\n",
              "        async function convertToInteractive(key) {\n",
              "          const element = document.querySelector('#df-e9f1bfbe-23bb-419f-8d3a-ea86b81e07e7');\n",
              "          const dataTable =\n",
              "            await google.colab.kernel.invokeFunction('convertToInteractive',\n",
              "                                                     [key], {});\n",
              "          if (!dataTable) return;\n",
              "\n",
              "          const docLinkHtml = 'Like what you see? Visit the ' +\n",
              "            '<a target=\"_blank\" href=https://colab.research.google.com/notebooks/data_table.ipynb>data table notebook</a>'\n",
              "            + ' to learn more about interactive tables.';\n",
              "          element.innerHTML = '';\n",
              "          dataTable['output_type'] = 'display_data';\n",
              "          await google.colab.output.renderOutput(dataTable, element);\n",
              "          const docLink = document.createElement('div');\n",
              "          docLink.innerHTML = docLinkHtml;\n",
              "          element.appendChild(docLink);\n",
              "        }\n",
              "      </script>\n",
              "    </div>\n",
              "  </div>\n",
              "  "
            ]
          },
          "metadata": {},
          "execution_count": 5
        }
      ],
      "source": [
        "json_url = \"https://github.com/MuseumofModernArt/collection/raw/master/Artists.json\"\n",
        "artists =  pd.read_json(json_url)\n",
        "artists.head()"
      ]
    },
    {
      "cell_type": "markdown",
      "metadata": {
        "id": "z6Tpuzj9bCdE"
      },
      "source": [
        "## <font color=\"red\"> Exercise 2.1.2 </font>\n",
        "    \n",
        "Use tab-completion and `help` to discover and explore two more methods of reading a file into a `Pandas` dataframe.\n"
      ]
    },
    {
      "cell_type": "code",
      "execution_count": 9,
      "metadata": {
        "id": "1DE_db-lbCdF",
        "outputId": "10b32653-238e-4760-a243-615be6f01893",
        "colab": {
          "base_uri": "https://localhost:8080/"
        }
      },
      "outputs": [
        {
          "output_type": "stream",
          "name": "stdout",
          "text": [
            "Help on function read_excel in module pandas.io.excel._base:\n",
            "\n",
            "read_excel(io, sheet_name=0, header=0, names=None, index_col=None, usecols=None, squeeze=False, dtype: 'DtypeArg | None' = None, engine=None, converters=None, true_values=None, false_values=None, skiprows=None, nrows=None, na_values=None, keep_default_na=True, na_filter=True, verbose=False, parse_dates=False, date_parser=None, thousands=None, comment=None, skipfooter=0, convert_float=None, mangle_dupe_cols=True, storage_options: 'StorageOptions' = None)\n",
            "    Read an Excel file into a pandas DataFrame.\n",
            "    \n",
            "    Supports `xls`, `xlsx`, `xlsm`, `xlsb`, `odf`, `ods` and `odt` file extensions\n",
            "    read from a local filesystem or URL. Supports an option to read\n",
            "    a single sheet or a list of sheets.\n",
            "    \n",
            "    Parameters\n",
            "    ----------\n",
            "    io : str, bytes, ExcelFile, xlrd.Book, path object, or file-like object\n",
            "        Any valid string path is acceptable. The string could be a URL. Valid\n",
            "        URL schemes include http, ftp, s3, and file. For file URLs, a host is\n",
            "        expected. A local file could be: ``file://localhost/path/to/table.xlsx``.\n",
            "    \n",
            "        If you want to pass in a path object, pandas accepts any ``os.PathLike``.\n",
            "    \n",
            "        By file-like object, we refer to objects with a ``read()`` method,\n",
            "        such as a file handle (e.g. via builtin ``open`` function)\n",
            "        or ``StringIO``.\n",
            "    sheet_name : str, int, list, or None, default 0\n",
            "        Strings are used for sheet names. Integers are used in zero-indexed\n",
            "        sheet positions. Lists of strings/integers are used to request\n",
            "        multiple sheets. Specify None to get all sheets.\n",
            "    \n",
            "        Available cases:\n",
            "    \n",
            "        * Defaults to ``0``: 1st sheet as a `DataFrame`\n",
            "        * ``1``: 2nd sheet as a `DataFrame`\n",
            "        * ``\"Sheet1\"``: Load sheet with name \"Sheet1\"\n",
            "        * ``[0, 1, \"Sheet5\"]``: Load first, second and sheet named \"Sheet5\"\n",
            "          as a dict of `DataFrame`\n",
            "        * None: All sheets.\n",
            "    \n",
            "    header : int, list of int, default 0\n",
            "        Row (0-indexed) to use for the column labels of the parsed\n",
            "        DataFrame. If a list of integers is passed those row positions will\n",
            "        be combined into a ``MultiIndex``. Use None if there is no header.\n",
            "    names : array-like, default None\n",
            "        List of column names to use. If file contains no header row,\n",
            "        then you should explicitly pass header=None.\n",
            "    index_col : int, list of int, default None\n",
            "        Column (0-indexed) to use as the row labels of the DataFrame.\n",
            "        Pass None if there is no such column.  If a list is passed,\n",
            "        those columns will be combined into a ``MultiIndex``.  If a\n",
            "        subset of data is selected with ``usecols``, index_col\n",
            "        is based on the subset.\n",
            "    usecols : int, str, list-like, or callable default None\n",
            "        * If None, then parse all columns.\n",
            "        * If str, then indicates comma separated list of Excel column letters\n",
            "          and column ranges (e.g. \"A:E\" or \"A,C,E:F\"). Ranges are inclusive of\n",
            "          both sides.\n",
            "        * If list of int, then indicates list of column numbers to be parsed.\n",
            "        * If list of string, then indicates list of column names to be parsed.\n",
            "        * If callable, then evaluate each column name against it and parse the\n",
            "          column if the callable returns ``True``.\n",
            "    \n",
            "        Returns a subset of the columns according to behavior above.\n",
            "    squeeze : bool, default False\n",
            "        If the parsed data only contains one column then return a Series.\n",
            "    dtype : Type name or dict of column -> type, default None\n",
            "        Data type for data or columns. E.g. {'a': np.float64, 'b': np.int32}\n",
            "        Use `object` to preserve data as stored in Excel and not interpret dtype.\n",
            "        If converters are specified, they will be applied INSTEAD\n",
            "        of dtype conversion.\n",
            "    engine : str, default None\n",
            "        If io is not a buffer or path, this must be set to identify io.\n",
            "        Supported engines: \"xlrd\", \"openpyxl\", \"odf\", \"pyxlsb\".\n",
            "        Engine compatibility :\n",
            "    \n",
            "        - \"xlrd\" supports old-style Excel files (.xls).\n",
            "        - \"openpyxl\" supports newer Excel file formats.\n",
            "        - \"odf\" supports OpenDocument file formats (.odf, .ods, .odt).\n",
            "        - \"pyxlsb\" supports Binary Excel files.\n",
            "    \n",
            "        .. versionchanged:: 1.2.0\n",
            "            The engine `xlrd <https://xlrd.readthedocs.io/en/latest/>`_\n",
            "            now only supports old-style ``.xls`` files.\n",
            "            When ``engine=None``, the following logic will be\n",
            "            used to determine the engine:\n",
            "    \n",
            "           - If ``path_or_buffer`` is an OpenDocument format (.odf, .ods, .odt),\n",
            "             then `odf <https://pypi.org/project/odfpy/>`_ will be used.\n",
            "           - Otherwise if ``path_or_buffer`` is an xls format,\n",
            "             ``xlrd`` will be used.\n",
            "           - Otherwise if ``path_or_buffer`` is in xlsb format,\n",
            "             ``pyxlsb`` will be used.\n",
            "    \n",
            "             .. versionadded:: 1.3.0\n",
            "           - Otherwise ``openpyxl`` will be used.\n",
            "    \n",
            "             .. versionchanged:: 1.3.0\n",
            "    \n",
            "    converters : dict, default None\n",
            "        Dict of functions for converting values in certain columns. Keys can\n",
            "        either be integers or column labels, values are functions that take one\n",
            "        input argument, the Excel cell content, and return the transformed\n",
            "        content.\n",
            "    true_values : list, default None\n",
            "        Values to consider as True.\n",
            "    false_values : list, default None\n",
            "        Values to consider as False.\n",
            "    skiprows : list-like, int, or callable, optional\n",
            "        Line numbers to skip (0-indexed) or number of lines to skip (int) at the\n",
            "        start of the file. If callable, the callable function will be evaluated\n",
            "        against the row indices, returning True if the row should be skipped and\n",
            "        False otherwise. An example of a valid callable argument would be ``lambda\n",
            "        x: x in [0, 2]``.\n",
            "    nrows : int, default None\n",
            "        Number of rows to parse.\n",
            "    na_values : scalar, str, list-like, or dict, default None\n",
            "        Additional strings to recognize as NA/NaN. If dict passed, specific\n",
            "        per-column NA values. By default the following values are interpreted\n",
            "        as NaN: '', '#N/A', '#N/A N/A', '#NA', '-1.#IND', '-1.#QNAN', '-NaN', '-nan',\n",
            "        '1.#IND', '1.#QNAN', '<NA>', 'N/A', 'NA', 'NULL', 'NaN', 'n/a',\n",
            "        'nan', 'null'.\n",
            "    keep_default_na : bool, default True\n",
            "        Whether or not to include the default NaN values when parsing the data.\n",
            "        Depending on whether `na_values` is passed in, the behavior is as follows:\n",
            "    \n",
            "        * If `keep_default_na` is True, and `na_values` are specified, `na_values`\n",
            "          is appended to the default NaN values used for parsing.\n",
            "        * If `keep_default_na` is True, and `na_values` are not specified, only\n",
            "          the default NaN values are used for parsing.\n",
            "        * If `keep_default_na` is False, and `na_values` are specified, only\n",
            "          the NaN values specified `na_values` are used for parsing.\n",
            "        * If `keep_default_na` is False, and `na_values` are not specified, no\n",
            "          strings will be parsed as NaN.\n",
            "    \n",
            "        Note that if `na_filter` is passed in as False, the `keep_default_na` and\n",
            "        `na_values` parameters will be ignored.\n",
            "    na_filter : bool, default True\n",
            "        Detect missing value markers (empty strings and the value of na_values). In\n",
            "        data without any NAs, passing na_filter=False can improve the performance\n",
            "        of reading a large file.\n",
            "    verbose : bool, default False\n",
            "        Indicate number of NA values placed in non-numeric columns.\n",
            "    parse_dates : bool, list-like, or dict, default False\n",
            "        The behavior is as follows:\n",
            "    \n",
            "        * bool. If True -> try parsing the index.\n",
            "        * list of int or names. e.g. If [1, 2, 3] -> try parsing columns 1, 2, 3\n",
            "          each as a separate date column.\n",
            "        * list of lists. e.g.  If [[1, 3]] -> combine columns 1 and 3 and parse as\n",
            "          a single date column.\n",
            "        * dict, e.g. {'foo' : [1, 3]} -> parse columns 1, 3 as date and call\n",
            "          result 'foo'\n",
            "    \n",
            "        If a column or index contains an unparsable date, the entire column or\n",
            "        index will be returned unaltered as an object data type. If you don`t want to\n",
            "        parse some cells as date just change their type in Excel to \"Text\".\n",
            "        For non-standard datetime parsing, use ``pd.to_datetime`` after ``pd.read_excel``.\n",
            "    \n",
            "        Note: A fast-path exists for iso8601-formatted dates.\n",
            "    date_parser : function, optional\n",
            "        Function to use for converting a sequence of string columns to an array of\n",
            "        datetime instances. The default uses ``dateutil.parser.parser`` to do the\n",
            "        conversion. Pandas will try to call `date_parser` in three different ways,\n",
            "        advancing to the next if an exception occurs: 1) Pass one or more arrays\n",
            "        (as defined by `parse_dates`) as arguments; 2) concatenate (row-wise) the\n",
            "        string values from the columns defined by `parse_dates` into a single array\n",
            "        and pass that; and 3) call `date_parser` once for each row using one or\n",
            "        more strings (corresponding to the columns defined by `parse_dates`) as\n",
            "        arguments.\n",
            "    thousands : str, default None\n",
            "        Thousands separator for parsing string columns to numeric.  Note that\n",
            "        this parameter is only necessary for columns stored as TEXT in Excel,\n",
            "        any numeric columns will automatically be parsed, regardless of display\n",
            "        format.\n",
            "    comment : str, default None\n",
            "        Comments out remainder of line. Pass a character or characters to this\n",
            "        argument to indicate comments in the input file. Any data between the\n",
            "        comment string and the end of the current line is ignored.\n",
            "    skipfooter : int, default 0\n",
            "        Rows at the end to skip (0-indexed).\n",
            "    convert_float : bool, default True\n",
            "        Convert integral floats to int (i.e., 1.0 --> 1). If False, all numeric\n",
            "        data will be read in as floats: Excel stores all numbers as floats\n",
            "        internally.\n",
            "    \n",
            "        .. deprecated:: 1.3.0\n",
            "            convert_float will be removed in a future version\n",
            "    \n",
            "    mangle_dupe_cols : bool, default True\n",
            "        Duplicate columns will be specified as 'X', 'X.1', ...'X.N', rather than\n",
            "        'X'...'X'. Passing in False will cause data to be overwritten if there\n",
            "        are duplicate names in the columns.\n",
            "    storage_options : dict, optional\n",
            "        Extra options that make sense for a particular storage connection, e.g.\n",
            "        host, port, username, password, etc., if using a URL that will\n",
            "        be parsed by ``fsspec``, e.g., starting \"s3://\", \"gcs://\". An error\n",
            "        will be raised if providing this argument with a local path or\n",
            "        a file-like buffer. See the fsspec and backend storage implementation\n",
            "        docs for the set of allowed keys and values.\n",
            "    \n",
            "        .. versionadded:: 1.2.0\n",
            "    \n",
            "    Returns\n",
            "    -------\n",
            "    DataFrame or dict of DataFrames\n",
            "        DataFrame from the passed in Excel file. See notes in sheet_name\n",
            "        argument for more information on when a dict of DataFrames is returned.\n",
            "    \n",
            "    See Also\n",
            "    --------\n",
            "    DataFrame.to_excel : Write DataFrame to an Excel file.\n",
            "    DataFrame.to_csv : Write DataFrame to a comma-separated values (csv) file.\n",
            "    read_csv : Read a comma-separated values (csv) file into DataFrame.\n",
            "    read_fwf : Read a table of fixed-width formatted lines into DataFrame.\n",
            "    \n",
            "    Examples\n",
            "    --------\n",
            "    The file can be read using the file name as string or an open file object:\n",
            "    \n",
            "    >>> pd.read_excel('tmp.xlsx', index_col=0)  # doctest: +SKIP\n",
            "           Name  Value\n",
            "    0   string1      1\n",
            "    1   string2      2\n",
            "    2  #Comment      3\n",
            "    \n",
            "    >>> pd.read_excel(open('tmp.xlsx', 'rb'),\n",
            "    ...               sheet_name='Sheet3')  # doctest: +SKIP\n",
            "       Unnamed: 0      Name  Value\n",
            "    0           0   string1      1\n",
            "    1           1   string2      2\n",
            "    2           2  #Comment      3\n",
            "    \n",
            "    Index and header can be specified via the `index_col` and `header` arguments\n",
            "    \n",
            "    >>> pd.read_excel('tmp.xlsx', index_col=None, header=None)  # doctest: +SKIP\n",
            "         0         1      2\n",
            "    0  NaN      Name  Value\n",
            "    1  0.0   string1      1\n",
            "    2  1.0   string2      2\n",
            "    3  2.0  #Comment      3\n",
            "    \n",
            "    Column types are inferred but can be explicitly specified\n",
            "    \n",
            "    >>> pd.read_excel('tmp.xlsx', index_col=0,\n",
            "    ...               dtype={'Name': str, 'Value': float})  # doctest: +SKIP\n",
            "           Name  Value\n",
            "    0   string1    1.0\n",
            "    1   string2    2.0\n",
            "    2  #Comment    3.0\n",
            "    \n",
            "    True, False, and NA values, and thousands separators have defaults,\n",
            "    but can be explicitly specified, too. Supply the values you would like\n",
            "    as strings or lists of strings!\n",
            "    \n",
            "    >>> pd.read_excel('tmp.xlsx', index_col=0,\n",
            "    ...               na_values=['string1', 'string2'])  # doctest: +SKIP\n",
            "           Name  Value\n",
            "    0       NaN      1\n",
            "    1       NaN      2\n",
            "    2  #Comment      3\n",
            "    \n",
            "    Comment lines in the excel input file can be skipped using the `comment` kwarg\n",
            "    \n",
            "    >>> pd.read_excel('tmp.xlsx', index_col=0, comment='#')  # doctest: +SKIP\n",
            "          Name  Value\n",
            "    0  string1    1.0\n",
            "    1  string2    2.0\n",
            "    2     None    NaN\n",
            "\n"
          ]
        }
      ],
      "source": [
        "help(pd.read_excel)  #<-- Tab here"
      ]
    },
    {
      "cell_type": "markdown",
      "metadata": {
        "id": "9skFQdzlbCdF"
      },
      "source": [
        "The read_clipboard reads texts from a clipboard and passes it into a dataframe as a csv. The read_excel reads in a excel file and converts it to a dataframe.\n"
      ]
    },
    {
      "cell_type": "markdown",
      "metadata": {
        "id": "NNSXGOSVbCdF"
      },
      "source": [
        "## <font color=\"red\"> Exercise 2.1.2 </font>\n",
        "    \n",
        "Read in the `Artwork.csv` from [https://github.com/MuseumofModernArt/collection](https://github.com/MuseumofModernArt/collection) and display the head of the resulting dataframe.\n"
      ]
    },
    {
      "cell_type": "code",
      "execution_count": 12,
      "metadata": {
        "id": "cpR_MgaZbCdF",
        "outputId": "32da517d-a71f-4671-88e0-437180375fb0",
        "colab": {
          "base_uri": "https://localhost:8080/",
          "height": 664
        }
      },
      "outputs": [
        {
          "output_type": "execute_result",
          "data": {
            "text/plain": [
              "                                               Title  \\\n",
              "0  Ferdinandsbrücke Project, Vienna, Austria (Ele...   \n",
              "1  City of Music, National Superior Conservatory ...   \n",
              "2  Villa near Vienna Project, Outside Vienna, Aus...   \n",
              "3  The Manhattan Transcripts Project, New York, N...   \n",
              "4  Villa, project, outside Vienna, Austria, Exter...   \n",
              "\n",
              "                     Artist ConstituentID  \\\n",
              "0               Otto Wagner          6210   \n",
              "1  Christian de Portzamparc          7470   \n",
              "2                Emil Hoppe          7605   \n",
              "3           Bernard Tschumi          7056   \n",
              "4                Emil Hoppe          7605   \n",
              "\n",
              "                                   ArtistBio Nationality BeginDate EndDate  \\\n",
              "0                      (Austrian, 1841–1918)  (Austrian)    (1841)  (1918)   \n",
              "1                        (French, born 1944)    (French)    (1944)     (0)   \n",
              "2                      (Austrian, 1876–1957)  (Austrian)    (1876)  (1957)   \n",
              "3  (French and Swiss, born Switzerland 1944)          ()    (1944)     (0)   \n",
              "4                      (Austrian, 1876–1957)  (Austrian)    (1876)  (1957)   \n",
              "\n",
              "   Gender  Date                                             Medium  ...  \\\n",
              "0  (Male)  1896      Ink and cut-and-pasted painted pages on paper  ...   \n",
              "1  (Male)  1987                  Paint and colored pencil on print  ...   \n",
              "2  (Male)  1903  Graphite, pen, color pencil, ink, and gouache ...  ...   \n",
              "3  (Male)  1980  Photographic reproduction with colored synthet...  ...   \n",
              "4  (Male)  1903  Graphite, color pencil, ink, and gouache on tr...  ...   \n",
              "\n",
              "                                        ThumbnailURL Circumference (cm)  \\\n",
              "0  http://www.moma.org/media/W1siZiIsIjU5NDA1Il0s...                NaN   \n",
              "1  http://www.moma.org/media/W1siZiIsIjk3Il0sWyJw...                NaN   \n",
              "2  http://www.moma.org/media/W1siZiIsIjk4Il0sWyJw...                NaN   \n",
              "3  http://www.moma.org/media/W1siZiIsIjEyNCJdLFsi...                NaN   \n",
              "4  http://www.moma.org/media/W1siZiIsIjEyNiJdLFsi...                NaN   \n",
              "\n",
              "  Depth (cm) Diameter (cm) Height (cm) Length (cm) Weight (kg)  Width (cm)  \\\n",
              "0        NaN           NaN     48.6000         NaN         NaN    168.9000   \n",
              "1        NaN           NaN     40.6401         NaN         NaN     29.8451   \n",
              "2        NaN           NaN     34.3000         NaN         NaN     31.8000   \n",
              "3        NaN           NaN     50.8000         NaN         NaN     50.8000   \n",
              "4        NaN           NaN     38.4000         NaN         NaN     19.1000   \n",
              "\n",
              "  Seat Height (cm) Duration (sec.)  \n",
              "0              NaN             NaN  \n",
              "1              NaN             NaN  \n",
              "2              NaN             NaN  \n",
              "3              NaN             NaN  \n",
              "4              NaN             NaN  \n",
              "\n",
              "[5 rows x 29 columns]"
            ],
            "text/html": [
              "\n",
              "  <div id=\"df-432c9bb2-ea33-4eac-9e0e-90cdb74f29f5\">\n",
              "    <div class=\"colab-df-container\">\n",
              "      <div>\n",
              "<style scoped>\n",
              "    .dataframe tbody tr th:only-of-type {\n",
              "        vertical-align: middle;\n",
              "    }\n",
              "\n",
              "    .dataframe tbody tr th {\n",
              "        vertical-align: top;\n",
              "    }\n",
              "\n",
              "    .dataframe thead th {\n",
              "        text-align: right;\n",
              "    }\n",
              "</style>\n",
              "<table border=\"1\" class=\"dataframe\">\n",
              "  <thead>\n",
              "    <tr style=\"text-align: right;\">\n",
              "      <th></th>\n",
              "      <th>Title</th>\n",
              "      <th>Artist</th>\n",
              "      <th>ConstituentID</th>\n",
              "      <th>ArtistBio</th>\n",
              "      <th>Nationality</th>\n",
              "      <th>BeginDate</th>\n",
              "      <th>EndDate</th>\n",
              "      <th>Gender</th>\n",
              "      <th>Date</th>\n",
              "      <th>Medium</th>\n",
              "      <th>...</th>\n",
              "      <th>ThumbnailURL</th>\n",
              "      <th>Circumference (cm)</th>\n",
              "      <th>Depth (cm)</th>\n",
              "      <th>Diameter (cm)</th>\n",
              "      <th>Height (cm)</th>\n",
              "      <th>Length (cm)</th>\n",
              "      <th>Weight (kg)</th>\n",
              "      <th>Width (cm)</th>\n",
              "      <th>Seat Height (cm)</th>\n",
              "      <th>Duration (sec.)</th>\n",
              "    </tr>\n",
              "  </thead>\n",
              "  <tbody>\n",
              "    <tr>\n",
              "      <th>0</th>\n",
              "      <td>Ferdinandsbrücke Project, Vienna, Austria (Ele...</td>\n",
              "      <td>Otto Wagner</td>\n",
              "      <td>6210</td>\n",
              "      <td>(Austrian, 1841–1918)</td>\n",
              "      <td>(Austrian)</td>\n",
              "      <td>(1841)</td>\n",
              "      <td>(1918)</td>\n",
              "      <td>(Male)</td>\n",
              "      <td>1896</td>\n",
              "      <td>Ink and cut-and-pasted painted pages on paper</td>\n",
              "      <td>...</td>\n",
              "      <td>http://www.moma.org/media/W1siZiIsIjU5NDA1Il0s...</td>\n",
              "      <td>NaN</td>\n",
              "      <td>NaN</td>\n",
              "      <td>NaN</td>\n",
              "      <td>48.6000</td>\n",
              "      <td>NaN</td>\n",
              "      <td>NaN</td>\n",
              "      <td>168.9000</td>\n",
              "      <td>NaN</td>\n",
              "      <td>NaN</td>\n",
              "    </tr>\n",
              "    <tr>\n",
              "      <th>1</th>\n",
              "      <td>City of Music, National Superior Conservatory ...</td>\n",
              "      <td>Christian de Portzamparc</td>\n",
              "      <td>7470</td>\n",
              "      <td>(French, born 1944)</td>\n",
              "      <td>(French)</td>\n",
              "      <td>(1944)</td>\n",
              "      <td>(0)</td>\n",
              "      <td>(Male)</td>\n",
              "      <td>1987</td>\n",
              "      <td>Paint and colored pencil on print</td>\n",
              "      <td>...</td>\n",
              "      <td>http://www.moma.org/media/W1siZiIsIjk3Il0sWyJw...</td>\n",
              "      <td>NaN</td>\n",
              "      <td>NaN</td>\n",
              "      <td>NaN</td>\n",
              "      <td>40.6401</td>\n",
              "      <td>NaN</td>\n",
              "      <td>NaN</td>\n",
              "      <td>29.8451</td>\n",
              "      <td>NaN</td>\n",
              "      <td>NaN</td>\n",
              "    </tr>\n",
              "    <tr>\n",
              "      <th>2</th>\n",
              "      <td>Villa near Vienna Project, Outside Vienna, Aus...</td>\n",
              "      <td>Emil Hoppe</td>\n",
              "      <td>7605</td>\n",
              "      <td>(Austrian, 1876–1957)</td>\n",
              "      <td>(Austrian)</td>\n",
              "      <td>(1876)</td>\n",
              "      <td>(1957)</td>\n",
              "      <td>(Male)</td>\n",
              "      <td>1903</td>\n",
              "      <td>Graphite, pen, color pencil, ink, and gouache ...</td>\n",
              "      <td>...</td>\n",
              "      <td>http://www.moma.org/media/W1siZiIsIjk4Il0sWyJw...</td>\n",
              "      <td>NaN</td>\n",
              "      <td>NaN</td>\n",
              "      <td>NaN</td>\n",
              "      <td>34.3000</td>\n",
              "      <td>NaN</td>\n",
              "      <td>NaN</td>\n",
              "      <td>31.8000</td>\n",
              "      <td>NaN</td>\n",
              "      <td>NaN</td>\n",
              "    </tr>\n",
              "    <tr>\n",
              "      <th>3</th>\n",
              "      <td>The Manhattan Transcripts Project, New York, N...</td>\n",
              "      <td>Bernard Tschumi</td>\n",
              "      <td>7056</td>\n",
              "      <td>(French and Swiss, born Switzerland 1944)</td>\n",
              "      <td>()</td>\n",
              "      <td>(1944)</td>\n",
              "      <td>(0)</td>\n",
              "      <td>(Male)</td>\n",
              "      <td>1980</td>\n",
              "      <td>Photographic reproduction with colored synthet...</td>\n",
              "      <td>...</td>\n",
              "      <td>http://www.moma.org/media/W1siZiIsIjEyNCJdLFsi...</td>\n",
              "      <td>NaN</td>\n",
              "      <td>NaN</td>\n",
              "      <td>NaN</td>\n",
              "      <td>50.8000</td>\n",
              "      <td>NaN</td>\n",
              "      <td>NaN</td>\n",
              "      <td>50.8000</td>\n",
              "      <td>NaN</td>\n",
              "      <td>NaN</td>\n",
              "    </tr>\n",
              "    <tr>\n",
              "      <th>4</th>\n",
              "      <td>Villa, project, outside Vienna, Austria, Exter...</td>\n",
              "      <td>Emil Hoppe</td>\n",
              "      <td>7605</td>\n",
              "      <td>(Austrian, 1876–1957)</td>\n",
              "      <td>(Austrian)</td>\n",
              "      <td>(1876)</td>\n",
              "      <td>(1957)</td>\n",
              "      <td>(Male)</td>\n",
              "      <td>1903</td>\n",
              "      <td>Graphite, color pencil, ink, and gouache on tr...</td>\n",
              "      <td>...</td>\n",
              "      <td>http://www.moma.org/media/W1siZiIsIjEyNiJdLFsi...</td>\n",
              "      <td>NaN</td>\n",
              "      <td>NaN</td>\n",
              "      <td>NaN</td>\n",
              "      <td>38.4000</td>\n",
              "      <td>NaN</td>\n",
              "      <td>NaN</td>\n",
              "      <td>19.1000</td>\n",
              "      <td>NaN</td>\n",
              "      <td>NaN</td>\n",
              "    </tr>\n",
              "  </tbody>\n",
              "</table>\n",
              "<p>5 rows × 29 columns</p>\n",
              "</div>\n",
              "      <button class=\"colab-df-convert\" onclick=\"convertToInteractive('df-432c9bb2-ea33-4eac-9e0e-90cdb74f29f5')\"\n",
              "              title=\"Convert this dataframe to an interactive table.\"\n",
              "              style=\"display:none;\">\n",
              "        \n",
              "  <svg xmlns=\"http://www.w3.org/2000/svg\" height=\"24px\"viewBox=\"0 0 24 24\"\n",
              "       width=\"24px\">\n",
              "    <path d=\"M0 0h24v24H0V0z\" fill=\"none\"/>\n",
              "    <path d=\"M18.56 5.44l.94 2.06.94-2.06 2.06-.94-2.06-.94-.94-2.06-.94 2.06-2.06.94zm-11 1L8.5 8.5l.94-2.06 2.06-.94-2.06-.94L8.5 2.5l-.94 2.06-2.06.94zm10 10l.94 2.06.94-2.06 2.06-.94-2.06-.94-.94-2.06-.94 2.06-2.06.94z\"/><path d=\"M17.41 7.96l-1.37-1.37c-.4-.4-.92-.59-1.43-.59-.52 0-1.04.2-1.43.59L10.3 9.45l-7.72 7.72c-.78.78-.78 2.05 0 2.83L4 21.41c.39.39.9.59 1.41.59.51 0 1.02-.2 1.41-.59l7.78-7.78 2.81-2.81c.8-.78.8-2.07 0-2.86zM5.41 20L4 18.59l7.72-7.72 1.47 1.35L5.41 20z\"/>\n",
              "  </svg>\n",
              "      </button>\n",
              "      \n",
              "  <style>\n",
              "    .colab-df-container {\n",
              "      display:flex;\n",
              "      flex-wrap:wrap;\n",
              "      gap: 12px;\n",
              "    }\n",
              "\n",
              "    .colab-df-convert {\n",
              "      background-color: #E8F0FE;\n",
              "      border: none;\n",
              "      border-radius: 50%;\n",
              "      cursor: pointer;\n",
              "      display: none;\n",
              "      fill: #1967D2;\n",
              "      height: 32px;\n",
              "      padding: 0 0 0 0;\n",
              "      width: 32px;\n",
              "    }\n",
              "\n",
              "    .colab-df-convert:hover {\n",
              "      background-color: #E2EBFA;\n",
              "      box-shadow: 0px 1px 2px rgba(60, 64, 67, 0.3), 0px 1px 3px 1px rgba(60, 64, 67, 0.15);\n",
              "      fill: #174EA6;\n",
              "    }\n",
              "\n",
              "    [theme=dark] .colab-df-convert {\n",
              "      background-color: #3B4455;\n",
              "      fill: #D2E3FC;\n",
              "    }\n",
              "\n",
              "    [theme=dark] .colab-df-convert:hover {\n",
              "      background-color: #434B5C;\n",
              "      box-shadow: 0px 1px 3px 1px rgba(0, 0, 0, 0.15);\n",
              "      filter: drop-shadow(0px 1px 2px rgba(0, 0, 0, 0.3));\n",
              "      fill: #FFFFFF;\n",
              "    }\n",
              "  </style>\n",
              "\n",
              "      <script>\n",
              "        const buttonEl =\n",
              "          document.querySelector('#df-432c9bb2-ea33-4eac-9e0e-90cdb74f29f5 button.colab-df-convert');\n",
              "        buttonEl.style.display =\n",
              "          google.colab.kernel.accessAllowed ? 'block' : 'none';\n",
              "\n",
              "        async function convertToInteractive(key) {\n",
              "          const element = document.querySelector('#df-432c9bb2-ea33-4eac-9e0e-90cdb74f29f5');\n",
              "          const dataTable =\n",
              "            await google.colab.kernel.invokeFunction('convertToInteractive',\n",
              "                                                     [key], {});\n",
              "          if (!dataTable) return;\n",
              "\n",
              "          const docLinkHtml = 'Like what you see? Visit the ' +\n",
              "            '<a target=\"_blank\" href=https://colab.research.google.com/notebooks/data_table.ipynb>data table notebook</a>'\n",
              "            + ' to learn more about interactive tables.';\n",
              "          element.innerHTML = '';\n",
              "          dataTable['output_type'] = 'display_data';\n",
              "          await google.colab.output.renderOutput(dataTable, element);\n",
              "          const docLink = document.createElement('div');\n",
              "          docLink.innerHTML = docLinkHtml;\n",
              "          element.appendChild(docLink);\n",
              "        }\n",
              "      </script>\n",
              "    </div>\n",
              "  </div>\n",
              "  "
            ]
          },
          "metadata": {},
          "execution_count": 12
        }
      ],
      "source": [
        "# Your code here\n",
        "url = \"https://github.com/MuseumofModernArt/collection/raw/master/Artworks.csv\"\n",
        "Artwork = pd.read_csv(url)\n",
        "Artwork.head()\n"
      ]
    },
    {
      "cell_type": "markdown",
      "metadata": {
        "id": "5P5DNz79bCdG"
      },
      "source": [
        "## So what is a `DateFrame`\n",
        "\n",
        "* Like R, Pandas focuses on columns\n",
        "* Think `dict` of `(str, Series)` pairs \n",
        "* A series is a typed list-like structure"
      ]
    },
    {
      "cell_type": "code",
      "execution_count": 13,
      "metadata": {
        "scrolled": true,
        "id": "6YALYHEmbCdG"
      },
      "outputs": [],
      "source": [
        "# This is how I imagine a dataframe\n",
        "df = pd.DataFrame({\"Names\": [\"Iverson\", \"Malone\", \"Bergen\"],\n",
        "                   \"Python_mastery\": [10, 5, 1.0],\n",
        "                   \"years_at_wsu\": [4.5, 17.5, 5.5]})"
      ]
    },
    {
      "cell_type": "code",
      "execution_count": 14,
      "metadata": {
        "id": "kz1n5noVbCdG",
        "outputId": "5e30e5bb-4156-4308-ed41-8fad645434b7",
        "colab": {
          "base_uri": "https://localhost:8080/"
        }
      },
      "outputs": [
        {
          "output_type": "execute_result",
          "data": {
            "text/plain": [
              "pandas.core.frame.DataFrame"
            ]
          },
          "metadata": {},
          "execution_count": 14
        }
      ],
      "source": [
        "type(df)"
      ]
    },
    {
      "cell_type": "markdown",
      "metadata": {
        "id": "zNvxMmk4bCdH"
      },
      "source": [
        "## Columns are `Series` and hold one type of data"
      ]
    },
    {
      "cell_type": "code",
      "execution_count": null,
      "metadata": {
        "id": "VlMoxt_fbCdI",
        "outputId": "c5cf2527-8fe9-4fa6-9534-e43b701579ba"
      },
      "outputs": [
        {
          "data": {
            "text/plain": [
              "(pandas.core.series.Series, pandas.core.series.Series)"
            ]
          },
          "execution_count": 10,
          "metadata": {},
          "output_type": "execute_result"
        }
      ],
      "source": [
        "type(artists.BeginDate), type(artists.DisplayName)"
      ]
    },
    {
      "cell_type": "code",
      "execution_count": 15,
      "metadata": {
        "id": "Tw_70FKxbCdI",
        "outputId": "c8166591-815a-4561-bbf6-19c8719673fb",
        "colab": {
          "base_uri": "https://localhost:8080/"
        }
      },
      "outputs": [
        {
          "output_type": "execute_result",
          "data": {
            "text/plain": [
              "(dtype('int64'), dtype('O'))"
            ]
          },
          "metadata": {},
          "execution_count": 15
        }
      ],
      "source": [
        "artists.BeginDate.dtype, artists.DisplayName.dtype"
      ]
    },
    {
      "cell_type": "markdown",
      "metadata": {
        "id": "13gbBn3QbCdI"
      },
      "source": [
        "## Two ways to access a column\n",
        "\n",
        "* **Method 1:** like a dictionary\n",
        "    * `df[\"column_name\"]`\n",
        "* **Method 2:** like an object attribute\n",
        "    * `df.column_name`\n",
        "    * Only for proper names!"
      ]
    },
    {
      "cell_type": "code",
      "execution_count": 16,
      "metadata": {
        "id": "0EiKD314bCdI",
        "outputId": "75b20ae9-442a-4156-979a-0b52365e1c80",
        "colab": {
          "base_uri": "https://localhost:8080/"
        }
      },
      "outputs": [
        {
          "output_type": "execute_result",
          "data": {
            "text/plain": [
              "0    1930\n",
              "1    1936\n",
              "Name: BeginDate, dtype: int64"
            ]
          },
          "metadata": {},
          "execution_count": 16
        }
      ],
      "source": [
        "artists.BeginDate.head(2)"
      ]
    },
    {
      "cell_type": "code",
      "execution_count": 17,
      "metadata": {
        "scrolled": true,
        "id": "EfOLCKw3bCdJ",
        "outputId": "b528a1dc-4a43-4f6f-bb51-f20388aa2374",
        "colab": {
          "base_uri": "https://localhost:8080/"
        }
      },
      "outputs": [
        {
          "output_type": "execute_result",
          "data": {
            "text/plain": [
              "0    1930\n",
              "1    1936\n",
              "Name: BeginDate, dtype: int64"
            ]
          },
          "metadata": {},
          "execution_count": 17
        }
      ],
      "source": [
        "artists['BeginDate'].head(2)"
      ]
    },
    {
      "cell_type": "markdown",
      "metadata": {
        "id": "NqCZJvOCbCdK"
      },
      "source": [
        "## More on data types\n",
        "\n",
        "* See all data types with `df.dtypes`\n",
        "* You can set the `dtypes` when you read a dataframe\n",
        "* Read more about types: [Pandas docs](https://pandas.pydata.org/pandas-docs/stable/generated/pandas.DataFrame.dtypes.html)"
      ]
    },
    {
      "cell_type": "code",
      "execution_count": 18,
      "metadata": {
        "scrolled": true,
        "id": "WI_F9piNbCdK",
        "outputId": "da63a78b-f253-4548-8677-0094b5d37139",
        "colab": {
          "base_uri": "https://localhost:8080/"
        }
      },
      "outputs": [
        {
          "output_type": "execute_result",
          "data": {
            "text/plain": [
              "ConstituentID      int64\n",
              "DisplayName       object\n",
              "ArtistBio         object\n",
              "Nationality       object\n",
              "Gender            object\n",
              "BeginDate          int64\n",
              "EndDate            int64\n",
              "Wiki QID          object\n",
              "ULAN             float64\n",
              "dtype: object"
            ]
          },
          "metadata": {},
          "execution_count": 18
        }
      ],
      "source": [
        "artists.dtypes"
      ]
    },
    {
      "cell_type": "markdown",
      "metadata": {
        "id": "ZgWspEPYbCdL"
      },
      "source": [
        "## Setting `dtypes` with `read_csv`\n",
        "\n",
        "We can pass a `dict` of types to `dtype` keyword"
      ]
    },
    {
      "cell_type": "code",
      "execution_count": 20,
      "metadata": {
        "id": "xKUV0kGhbCdM",
        "outputId": "52f3644f-e0f2-475d-a41b-51297ab96044",
        "colab": {
          "base_uri": "https://localhost:8080/",
          "height": 206
        }
      },
      "outputs": [
        {
          "output_type": "execute_result",
          "data": {
            "text/plain": [
              "   ConstituentID      DisplayName            ArtistBio Nationality Gender  \\\n",
              "0              1   Robert Arneson  American, 1930–1992    American   Male   \n",
              "1              2   Doroteo Arnaiz   Spanish, born 1936     Spanish   Male   \n",
              "2              3      Bill Arnold  American, born 1941    American   Male   \n",
              "3              4  Charles Arnoldi  American, born 1946    American   Male   \n",
              "4              5      Per Arnoldi    Danish, born 1941      Danish   Male   \n",
              "\n",
              "   BeginDate  EndDate  Wiki QID       ULAN  \n",
              "0       1930     1992       NaN       <NA>  \n",
              "1       1936        0       NaN       <NA>  \n",
              "2       1941        0       NaN       <NA>  \n",
              "3       1946        0  Q1063584  500027998  \n",
              "4       1941        0       NaN       <NA>  "
            ],
            "text/html": [
              "\n",
              "  <div id=\"df-da95609a-28ef-4885-a364-e9c7ed1a0c73\">\n",
              "    <div class=\"colab-df-container\">\n",
              "      <div>\n",
              "<style scoped>\n",
              "    .dataframe tbody tr th:only-of-type {\n",
              "        vertical-align: middle;\n",
              "    }\n",
              "\n",
              "    .dataframe tbody tr th {\n",
              "        vertical-align: top;\n",
              "    }\n",
              "\n",
              "    .dataframe thead th {\n",
              "        text-align: right;\n",
              "    }\n",
              "</style>\n",
              "<table border=\"1\" class=\"dataframe\">\n",
              "  <thead>\n",
              "    <tr style=\"text-align: right;\">\n",
              "      <th></th>\n",
              "      <th>ConstituentID</th>\n",
              "      <th>DisplayName</th>\n",
              "      <th>ArtistBio</th>\n",
              "      <th>Nationality</th>\n",
              "      <th>Gender</th>\n",
              "      <th>BeginDate</th>\n",
              "      <th>EndDate</th>\n",
              "      <th>Wiki QID</th>\n",
              "      <th>ULAN</th>\n",
              "    </tr>\n",
              "  </thead>\n",
              "  <tbody>\n",
              "    <tr>\n",
              "      <th>0</th>\n",
              "      <td>1</td>\n",
              "      <td>Robert Arneson</td>\n",
              "      <td>American, 1930–1992</td>\n",
              "      <td>American</td>\n",
              "      <td>Male</td>\n",
              "      <td>1930</td>\n",
              "      <td>1992</td>\n",
              "      <td>NaN</td>\n",
              "      <td>&lt;NA&gt;</td>\n",
              "    </tr>\n",
              "    <tr>\n",
              "      <th>1</th>\n",
              "      <td>2</td>\n",
              "      <td>Doroteo Arnaiz</td>\n",
              "      <td>Spanish, born 1936</td>\n",
              "      <td>Spanish</td>\n",
              "      <td>Male</td>\n",
              "      <td>1936</td>\n",
              "      <td>0</td>\n",
              "      <td>NaN</td>\n",
              "      <td>&lt;NA&gt;</td>\n",
              "    </tr>\n",
              "    <tr>\n",
              "      <th>2</th>\n",
              "      <td>3</td>\n",
              "      <td>Bill Arnold</td>\n",
              "      <td>American, born 1941</td>\n",
              "      <td>American</td>\n",
              "      <td>Male</td>\n",
              "      <td>1941</td>\n",
              "      <td>0</td>\n",
              "      <td>NaN</td>\n",
              "      <td>&lt;NA&gt;</td>\n",
              "    </tr>\n",
              "    <tr>\n",
              "      <th>3</th>\n",
              "      <td>4</td>\n",
              "      <td>Charles Arnoldi</td>\n",
              "      <td>American, born 1946</td>\n",
              "      <td>American</td>\n",
              "      <td>Male</td>\n",
              "      <td>1946</td>\n",
              "      <td>0</td>\n",
              "      <td>Q1063584</td>\n",
              "      <td>500027998</td>\n",
              "    </tr>\n",
              "    <tr>\n",
              "      <th>4</th>\n",
              "      <td>5</td>\n",
              "      <td>Per Arnoldi</td>\n",
              "      <td>Danish, born 1941</td>\n",
              "      <td>Danish</td>\n",
              "      <td>Male</td>\n",
              "      <td>1941</td>\n",
              "      <td>0</td>\n",
              "      <td>NaN</td>\n",
              "      <td>&lt;NA&gt;</td>\n",
              "    </tr>\n",
              "  </tbody>\n",
              "</table>\n",
              "</div>\n",
              "      <button class=\"colab-df-convert\" onclick=\"convertToInteractive('df-da95609a-28ef-4885-a364-e9c7ed1a0c73')\"\n",
              "              title=\"Convert this dataframe to an interactive table.\"\n",
              "              style=\"display:none;\">\n",
              "        \n",
              "  <svg xmlns=\"http://www.w3.org/2000/svg\" height=\"24px\"viewBox=\"0 0 24 24\"\n",
              "       width=\"24px\">\n",
              "    <path d=\"M0 0h24v24H0V0z\" fill=\"none\"/>\n",
              "    <path d=\"M18.56 5.44l.94 2.06.94-2.06 2.06-.94-2.06-.94-.94-2.06-.94 2.06-2.06.94zm-11 1L8.5 8.5l.94-2.06 2.06-.94-2.06-.94L8.5 2.5l-.94 2.06-2.06.94zm10 10l.94 2.06.94-2.06 2.06-.94-2.06-.94-.94-2.06-.94 2.06-2.06.94z\"/><path d=\"M17.41 7.96l-1.37-1.37c-.4-.4-.92-.59-1.43-.59-.52 0-1.04.2-1.43.59L10.3 9.45l-7.72 7.72c-.78.78-.78 2.05 0 2.83L4 21.41c.39.39.9.59 1.41.59.51 0 1.02-.2 1.41-.59l7.78-7.78 2.81-2.81c.8-.78.8-2.07 0-2.86zM5.41 20L4 18.59l7.72-7.72 1.47 1.35L5.41 20z\"/>\n",
              "  </svg>\n",
              "      </button>\n",
              "      \n",
              "  <style>\n",
              "    .colab-df-container {\n",
              "      display:flex;\n",
              "      flex-wrap:wrap;\n",
              "      gap: 12px;\n",
              "    }\n",
              "\n",
              "    .colab-df-convert {\n",
              "      background-color: #E8F0FE;\n",
              "      border: none;\n",
              "      border-radius: 50%;\n",
              "      cursor: pointer;\n",
              "      display: none;\n",
              "      fill: #1967D2;\n",
              "      height: 32px;\n",
              "      padding: 0 0 0 0;\n",
              "      width: 32px;\n",
              "    }\n",
              "\n",
              "    .colab-df-convert:hover {\n",
              "      background-color: #E2EBFA;\n",
              "      box-shadow: 0px 1px 2px rgba(60, 64, 67, 0.3), 0px 1px 3px 1px rgba(60, 64, 67, 0.15);\n",
              "      fill: #174EA6;\n",
              "    }\n",
              "\n",
              "    [theme=dark] .colab-df-convert {\n",
              "      background-color: #3B4455;\n",
              "      fill: #D2E3FC;\n",
              "    }\n",
              "\n",
              "    [theme=dark] .colab-df-convert:hover {\n",
              "      background-color: #434B5C;\n",
              "      box-shadow: 0px 1px 3px 1px rgba(0, 0, 0, 0.15);\n",
              "      filter: drop-shadow(0px 1px 2px rgba(0, 0, 0, 0.3));\n",
              "      fill: #FFFFFF;\n",
              "    }\n",
              "  </style>\n",
              "\n",
              "      <script>\n",
              "        const buttonEl =\n",
              "          document.querySelector('#df-da95609a-28ef-4885-a364-e9c7ed1a0c73 button.colab-df-convert');\n",
              "        buttonEl.style.display =\n",
              "          google.colab.kernel.accessAllowed ? 'block' : 'none';\n",
              "\n",
              "        async function convertToInteractive(key) {\n",
              "          const element = document.querySelector('#df-da95609a-28ef-4885-a364-e9c7ed1a0c73');\n",
              "          const dataTable =\n",
              "            await google.colab.kernel.invokeFunction('convertToInteractive',\n",
              "                                                     [key], {});\n",
              "          if (!dataTable) return;\n",
              "\n",
              "          const docLinkHtml = 'Like what you see? Visit the ' +\n",
              "            '<a target=\"_blank\" href=https://colab.research.google.com/notebooks/data_table.ipynb>data table notebook</a>'\n",
              "            + ' to learn more about interactive tables.';\n",
              "          element.innerHTML = '';\n",
              "          dataTable['output_type'] = 'display_data';\n",
              "          await google.colab.output.renderOutput(dataTable, element);\n",
              "          const docLink = document.createElement('div');\n",
              "          docLink.innerHTML = docLinkHtml;\n",
              "          element.appendChild(docLink);\n",
              "        }\n",
              "      </script>\n",
              "    </div>\n",
              "  </div>\n",
              "  "
            ]
          },
          "metadata": {},
          "execution_count": 20
        }
      ],
      "source": [
        "import numpy as np\n",
        "artist_types = {'ConstituentID': np.int64,\n",
        "                'DisplayName': str,\n",
        "                'ArtistBio': str,\n",
        "                'Nationality': str,\n",
        "                'Gender':str,\n",
        "                'BeginDate': np.int64,\n",
        "                'EndDate': np.int64,\n",
        "                'Wiki QID': str,\n",
        "                'ULAN':pd.Int64Dtype()} # If you get an error ==> update pandas (see below)\n",
        "artists2 = pd.read_csv('https://github.com/MuseumofModernArt/collection/raw/master/Artists.csv', dtype = artist_types)\n",
        "artists2.head()"
      ]
    },
    {
      "cell_type": "markdown",
      "metadata": {
        "id": "pQoDc6cUbCdM"
      },
      "source": [
        "## What's up with `ULAN` ?\n",
        "\n",
        "* Currently, `numpy` $\\rightarrow$ no missing `int`s\n",
        "* Pandas correct this with the `pd.Int64Dtype()` type\n",
        "    * Only available in `pandas >= 0.24.0`"
      ]
    },
    {
      "cell_type": "code",
      "execution_count": 21,
      "metadata": {
        "id": "XGqjqd4rbCdN",
        "outputId": "b65894e5-9bb3-4049-ca19-40859e306cbb",
        "colab": {
          "base_uri": "https://localhost:8080/",
          "height": 35
        }
      },
      "outputs": [
        {
          "output_type": "execute_result",
          "data": {
            "text/plain": [
              "'1.3.5'"
            ],
            "application/vnd.google.colaboratory.intrinsic+json": {
              "type": "string"
            }
          },
          "metadata": {},
          "execution_count": 21
        }
      ],
      "source": [
        "pd.__version__"
      ]
    },
    {
      "cell_type": "markdown",
      "metadata": {
        "id": "e6V9SSHnbCdO"
      },
      "source": [
        "## An `Int` by any other name ...\n",
        "\n",
        "* `np.int64` $\\rightarrow$ no missing values\n",
        "* `pd.Int64Dtype()` $\\rightarrow$ allows `NaN`"
      ]
    },
    {
      "cell_type": "code",
      "execution_count": 22,
      "metadata": {
        "id": "G-ZBfeAobCdO",
        "outputId": "da565215-1039-4505-ff71-4ac41364c134",
        "colab": {
          "base_uri": "https://localhost:8080/"
        }
      },
      "outputs": [
        {
          "output_type": "execute_result",
          "data": {
            "text/plain": [
              "ConstituentID     int64\n",
              "DisplayName      object\n",
              "ArtistBio        object\n",
              "Nationality      object\n",
              "Gender           object\n",
              "BeginDate         int64\n",
              "EndDate           int64\n",
              "Wiki QID         object\n",
              "ULAN              Int64\n",
              "dtype: object"
            ]
          },
          "metadata": {},
          "execution_count": 22
        }
      ],
      "source": [
        "artists2.dtypes"
      ]
    },
    {
      "cell_type": "markdown",
      "metadata": {
        "id": "XnlT5cZrbCdP"
      },
      "source": [
        "## Preview of coming attractions\n",
        "\n",
        "* Now we can switch `BeginDate` and `EndDate` from `0` to `np.NaN`\n",
        "* We will do this in the next section"
      ]
    },
    {
      "cell_type": "markdown",
      "metadata": {
        "id": "rmAxp3uFbCdP"
      },
      "source": [
        "# Getting to know your data"
      ]
    },
    {
      "cell_type": "markdown",
      "metadata": {
        "id": "3OZ3B61rbCdP"
      },
      "source": [
        "## Basic inspection tools\n",
        "\n",
        "* `df.head()`        first five rows\n",
        "* `df.tail()`        last five rows\n",
        "* `df.sample(5)`     random sample of rows\n",
        "* `df.shape`         number of rows/columns in a tuple\n",
        "* `df.describe()`    calculates measures of central tendency\n",
        "* `df.info()`"
      ]
    },
    {
      "cell_type": "markdown",
      "metadata": {
        "id": "W7bYRIoDbCdP"
      },
      "source": [
        "## <font color=\"red\"> Exercise 1: Inspect the artwork from MoMA </font>"
      ]
    },
    {
      "cell_type": "markdown",
      "metadata": {
        "id": "2MpXiruJbCdP"
      },
      "source": [
        "#### Read the csv and inspect the `head`"
      ]
    },
    {
      "cell_type": "code",
      "execution_count": null,
      "metadata": {
        "scrolled": true,
        "id": "wWSfgwdjbCdP"
      },
      "outputs": [],
      "source": [
        "artwork.head()"
      ]
    },
    {
      "cell_type": "markdown",
      "metadata": {
        "id": "39hsPfUlbCdQ"
      },
      "source": [
        "**Task:** Write a few sentences describing an problems"
      ]
    },
    {
      "cell_type": "markdown",
      "metadata": {
        "id": "NRMO8JWsbCdQ"
      },
      "source": [
        "*Your thoughts here*"
      ]
    },
    {
      "cell_type": "markdown",
      "metadata": {
        "id": "x2KK_qnbbCdQ"
      },
      "source": [
        "#### Inspect the column names with the `columns` attribute"
      ]
    },
    {
      "cell_type": "code",
      "execution_count": null,
      "metadata": {
        "id": "lSVkhqHybCdQ",
        "outputId": "a7ec20b9-b97f-4a88-fa2b-a278c021f8b6"
      },
      "outputs": [
        {
          "data": {
            "text/plain": [
              "Index(['Title', 'Artist', 'ConstituentID', 'ArtistBio', 'Nationality',\n",
              "       'BeginDate', 'EndDate', 'Gender', 'Date', 'Medium', 'Dimensions',\n",
              "       'CreditLine', 'AccessionNumber', 'Classification', 'Department',\n",
              "       'DateAcquired', 'Cataloged', 'ObjectID', 'URL', 'ThumbnailURL',\n",
              "       'Circumference (cm)', 'Depth (cm)', 'Diameter (cm)', 'Height (cm)',\n",
              "       'Length (cm)', 'Weight (kg)', 'Width (cm)', 'Seat Height (cm)',\n",
              "       'Duration (sec.)'],\n",
              "      dtype='object')"
            ]
          },
          "execution_count": 17,
          "metadata": {},
          "output_type": "execute_result"
        }
      ],
      "source": [
        "artwork.columns"
      ]
    },
    {
      "cell_type": "markdown",
      "metadata": {
        "id": "7CLhlrIBbCdQ"
      },
      "source": [
        "**Question:** See any problems?"
      ]
    },
    {
      "cell_type": "markdown",
      "metadata": {
        "id": "ENPHwCQDbCdQ"
      },
      "source": [
        "*Your thoughts here*"
      ]
    },
    {
      "cell_type": "markdown",
      "metadata": {
        "id": "xGtYqXO7bCdQ"
      },
      "source": [
        "#### Inspect the tail"
      ]
    },
    {
      "cell_type": "code",
      "execution_count": null,
      "metadata": {
        "scrolled": true,
        "id": "8NgQH_cRbCdQ"
      },
      "outputs": [],
      "source": [
        "artwork.tail()"
      ]
    },
    {
      "cell_type": "markdown",
      "metadata": {
        "id": "0CWSfdNQbCdQ"
      },
      "source": [
        "#### Check out the `shape`"
      ]
    },
    {
      "cell_type": "code",
      "execution_count": null,
      "metadata": {
        "id": "PWCjKFi7bCdR"
      },
      "outputs": [],
      "source": [
        "artwork.shape"
      ]
    },
    {
      "cell_type": "markdown",
      "metadata": {
        "id": "El0DUlbFbCdR"
      },
      "source": [
        "**Question:** What do these number mean?"
      ]
    },
    {
      "cell_type": "markdown",
      "metadata": {
        "id": "aAW5DnVUbCdR"
      },
      "source": [
        "*Your thoughts here*"
      ]
    },
    {
      "cell_type": "markdown",
      "metadata": {
        "id": "TxfV4LoFbCdR"
      },
      "source": [
        "#### Use `describe` to compute statistics"
      ]
    },
    {
      "cell_type": "code",
      "execution_count": null,
      "metadata": {
        "id": "hJ0UYkp6bCdR"
      },
      "outputs": [],
      "source": [
        "artwork.describe()"
      ]
    },
    {
      "cell_type": "markdown",
      "metadata": {
        "id": "TotDy4w_bCdR"
      },
      "source": [
        "#### Use `info` to look at types and totals"
      ]
    },
    {
      "cell_type": "code",
      "execution_count": null,
      "metadata": {
        "id": "OOnagyY9bCdS"
      },
      "outputs": [],
      "source": [
        "artwork.info()"
      ]
    },
    {
      "cell_type": "markdown",
      "metadata": {
        "id": "AjqERf1XbCdS"
      },
      "source": [
        "**Question:** What did you learn from the last two cells?"
      ]
    },
    {
      "cell_type": "markdown",
      "metadata": {
        "id": "ulrTai7SbCdS"
      },
      "source": [
        "*Your thoughts here*"
      ]
    }
  ],
  "metadata": {
    "kernelspec": {
      "display_name": "Python 3 (ipykernel)",
      "language": "python",
      "name": "python3"
    },
    "language_info": {
      "codemirror_mode": {
        "name": "ipython",
        "version": 3
      },
      "file_extension": ".py",
      "mimetype": "text/x-python",
      "name": "python",
      "nbconvert_exporter": "python",
      "pygments_lexer": "ipython3",
      "version": "3.9.12"
    },
    "varInspector": {
      "cols": {
        "lenName": 16,
        "lenType": 16,
        "lenVar": 40
      },
      "kernels_config": {
        "python": {
          "delete_cmd_postfix": "",
          "delete_cmd_prefix": "del ",
          "library": "var_list.py",
          "varRefreshCmd": "print(var_dic_list())"
        },
        "r": {
          "delete_cmd_postfix": ") ",
          "delete_cmd_prefix": "rm(",
          "library": "var_list.r",
          "varRefreshCmd": "cat(var_dic_list()) "
        }
      },
      "types_to_exclude": [
        "module",
        "function",
        "builtin_function_or_method",
        "instance",
        "_Feature"
      ],
      "window_display": false
    },
    "colab": {
      "provenance": [],
      "include_colab_link": true
    }
  },
  "nbformat": 4,
  "nbformat_minor": 0
}