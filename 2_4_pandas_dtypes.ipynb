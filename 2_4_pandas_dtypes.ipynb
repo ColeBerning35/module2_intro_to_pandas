{
  "cells": [
    {
      "cell_type": "markdown",
      "metadata": {
        "id": "view-in-github",
        "colab_type": "text"
      },
      "source": [
        "<a href=\"https://colab.research.google.com/github/ColeBerning35/module2_intro_to_pandas/blob/main/2_4_pandas_dtypes.ipynb\" target=\"_parent\"><img src=\"https://colab.research.google.com/assets/colab-badge.svg\" alt=\"Open In Colab\"/></a>"
      ]
    },
    {
      "cell_type": "markdown",
      "metadata": {
        "id": "Stf81tDq-2I4"
      },
      "source": [
        "# `pandas dtypes` \n",
        "\n",
        "In [Section 1.1](./1_1_introduction_to_pandas.ipynb), we took our first look at the `pandas.DataFrame`.  In this section, we will take a closer look at `pandas` column types."
      ]
    },
    {
      "cell_type": "code",
      "source": [
        "!pip install dfply"
      ],
      "metadata": {
        "id": "g44atmKndLlJ",
        "outputId": "5daea618-0f63-4f0a-b0d6-d152d781ffc5",
        "colab": {
          "base_uri": "https://localhost:8080/"
        }
      },
      "execution_count": 2,
      "outputs": [
        {
          "output_type": "stream",
          "name": "stdout",
          "text": [
            "Looking in indexes: https://pypi.org/simple, https://us-python.pkg.dev/colab-wheels/public/simple/\n",
            "Collecting dfply\n",
            "  Downloading dfply-0.3.3-py3-none-any.whl (612 kB)\n",
            "\u001b[K     |████████████████████████████████| 612 kB 34.9 MB/s \n",
            "\u001b[?25hRequirement already satisfied: pandas in /usr/local/lib/python3.7/dist-packages (from dfply) (1.3.5)\n",
            "Requirement already satisfied: numpy in /usr/local/lib/python3.7/dist-packages (from dfply) (1.21.6)\n",
            "Requirement already satisfied: pytz>=2017.3 in /usr/local/lib/python3.7/dist-packages (from pandas->dfply) (2022.2.1)\n",
            "Requirement already satisfied: python-dateutil>=2.7.3 in /usr/local/lib/python3.7/dist-packages (from pandas->dfply) (2.8.2)\n",
            "Requirement already satisfied: six>=1.5 in /usr/local/lib/python3.7/dist-packages (from python-dateutil>=2.7.3->pandas->dfply) (1.15.0)\n",
            "Installing collected packages: dfply\n",
            "Successfully installed dfply-0.3.3\n"
          ]
        }
      ]
    },
    {
      "cell_type": "code",
      "execution_count": 3,
      "metadata": {
        "id": "knV6QpVr-2I7"
      },
      "outputs": [],
      "source": [
        "import pandas as pd\n",
        "from dfply import *"
      ]
    },
    {
      "cell_type": "markdown",
      "metadata": {
        "id": "d5NI1VDD-2I9"
      },
      "source": [
        "## Hiding stack traceback\n",
        "\n",
        "We hide the exception traceback for didactic reasons (code source: [see this post](https://stackoverflow.com/questions/46222753/how-do-i-suppress-tracebacks-in-jupyter)).  Don't run this cell if you want to see a full traceback."
      ]
    },
    {
      "cell_type": "code",
      "execution_count": 4,
      "metadata": {
        "id": "4Y7t0EvY-2JA"
      },
      "outputs": [],
      "source": [
        "import sys\n",
        "ipython = get_ipython()\n",
        "\n",
        "def hide_traceback(exc_tuple=None, filename=None, tb_offset=None,\n",
        "                   exception_only=False, running_compiled_code=False):\n",
        "    etype, value, tb = sys.exc_info()\n",
        "    return ipython._showtraceback(etype, value, ipython.InteractiveTB.get_exception_only(etype, value))\n",
        "\n",
        "ipython.showtraceback = hide_traceback"
      ]
    },
    {
      "cell_type": "markdown",
      "metadata": {
        "id": "OVP5Rpk7-2JD"
      },
      "source": [
        "## Outline\n",
        "\n",
        "* Three more `dtypes`\n",
        "    * `datetime`\n",
        "    * `Int64`\n",
        "    * `category`\n",
        "* Setting the `dtypes` at read time."
      ]
    },
    {
      "cell_type": "markdown",
      "metadata": {
        "id": "rJr9vQ_R-2JE"
      },
      "source": [
        "## Integers with missing values\n",
        "\n",
        "* Older `pandas` $\\rightarrow$ no missing `int`\n",
        "    * Use `float` instead\n",
        "* Latest version $\\rightarrow$ `Int` classes\n",
        "    * Notice the capital `I`"
      ]
    },
    {
      "cell_type": "markdown",
      "metadata": {
        "id": "5JB9Ml1e-2JG"
      },
      "source": [
        "## Example - Artist `BeginDate` and `EndDate`"
      ]
    },
    {
      "cell_type": "code",
      "execution_count": 5,
      "metadata": {
        "scrolled": true,
        "id": "LjxuAoUC-2JH",
        "outputId": "94fa45af-540e-4c2b-84f9-1cf515f82053",
        "colab": {
          "base_uri": "https://localhost:8080/",
          "height": 206
        }
      },
      "outputs": [
        {
          "output_type": "execute_result",
          "data": {
            "text/plain": [
              "   ConstituentID      DisplayName            ArtistBio Nationality Gender  \\\n",
              "0              1   Robert Arneson  American, 1930–1992    American   Male   \n",
              "1              2   Doroteo Arnaiz   Spanish, born 1936     Spanish   Male   \n",
              "2              3      Bill Arnold  American, born 1941    American   Male   \n",
              "3              4  Charles Arnoldi  American, born 1946    American   Male   \n",
              "4              5      Per Arnoldi    Danish, born 1941      Danish   Male   \n",
              "\n",
              "   BeginDate  EndDate  Wiki QID         ULAN  \n",
              "0       1930     1992       NaN          NaN  \n",
              "1       1936        0       NaN          NaN  \n",
              "2       1941        0       NaN          NaN  \n",
              "3       1946        0  Q1063584  500027998.0  \n",
              "4       1941        0       NaN          NaN  "
            ],
            "text/html": [
              "\n",
              "  <div id=\"df-56a180da-a19b-4039-ba9e-4321f2240189\">\n",
              "    <div class=\"colab-df-container\">\n",
              "      <div>\n",
              "<style scoped>\n",
              "    .dataframe tbody tr th:only-of-type {\n",
              "        vertical-align: middle;\n",
              "    }\n",
              "\n",
              "    .dataframe tbody tr th {\n",
              "        vertical-align: top;\n",
              "    }\n",
              "\n",
              "    .dataframe thead th {\n",
              "        text-align: right;\n",
              "    }\n",
              "</style>\n",
              "<table border=\"1\" class=\"dataframe\">\n",
              "  <thead>\n",
              "    <tr style=\"text-align: right;\">\n",
              "      <th></th>\n",
              "      <th>ConstituentID</th>\n",
              "      <th>DisplayName</th>\n",
              "      <th>ArtistBio</th>\n",
              "      <th>Nationality</th>\n",
              "      <th>Gender</th>\n",
              "      <th>BeginDate</th>\n",
              "      <th>EndDate</th>\n",
              "      <th>Wiki QID</th>\n",
              "      <th>ULAN</th>\n",
              "    </tr>\n",
              "  </thead>\n",
              "  <tbody>\n",
              "    <tr>\n",
              "      <th>0</th>\n",
              "      <td>1</td>\n",
              "      <td>Robert Arneson</td>\n",
              "      <td>American, 1930–1992</td>\n",
              "      <td>American</td>\n",
              "      <td>Male</td>\n",
              "      <td>1930</td>\n",
              "      <td>1992</td>\n",
              "      <td>NaN</td>\n",
              "      <td>NaN</td>\n",
              "    </tr>\n",
              "    <tr>\n",
              "      <th>1</th>\n",
              "      <td>2</td>\n",
              "      <td>Doroteo Arnaiz</td>\n",
              "      <td>Spanish, born 1936</td>\n",
              "      <td>Spanish</td>\n",
              "      <td>Male</td>\n",
              "      <td>1936</td>\n",
              "      <td>0</td>\n",
              "      <td>NaN</td>\n",
              "      <td>NaN</td>\n",
              "    </tr>\n",
              "    <tr>\n",
              "      <th>2</th>\n",
              "      <td>3</td>\n",
              "      <td>Bill Arnold</td>\n",
              "      <td>American, born 1941</td>\n",
              "      <td>American</td>\n",
              "      <td>Male</td>\n",
              "      <td>1941</td>\n",
              "      <td>0</td>\n",
              "      <td>NaN</td>\n",
              "      <td>NaN</td>\n",
              "    </tr>\n",
              "    <tr>\n",
              "      <th>3</th>\n",
              "      <td>4</td>\n",
              "      <td>Charles Arnoldi</td>\n",
              "      <td>American, born 1946</td>\n",
              "      <td>American</td>\n",
              "      <td>Male</td>\n",
              "      <td>1946</td>\n",
              "      <td>0</td>\n",
              "      <td>Q1063584</td>\n",
              "      <td>500027998.0</td>\n",
              "    </tr>\n",
              "    <tr>\n",
              "      <th>4</th>\n",
              "      <td>5</td>\n",
              "      <td>Per Arnoldi</td>\n",
              "      <td>Danish, born 1941</td>\n",
              "      <td>Danish</td>\n",
              "      <td>Male</td>\n",
              "      <td>1941</td>\n",
              "      <td>0</td>\n",
              "      <td>NaN</td>\n",
              "      <td>NaN</td>\n",
              "    </tr>\n",
              "  </tbody>\n",
              "</table>\n",
              "</div>\n",
              "      <button class=\"colab-df-convert\" onclick=\"convertToInteractive('df-56a180da-a19b-4039-ba9e-4321f2240189')\"\n",
              "              title=\"Convert this dataframe to an interactive table.\"\n",
              "              style=\"display:none;\">\n",
              "        \n",
              "  <svg xmlns=\"http://www.w3.org/2000/svg\" height=\"24px\"viewBox=\"0 0 24 24\"\n",
              "       width=\"24px\">\n",
              "    <path d=\"M0 0h24v24H0V0z\" fill=\"none\"/>\n",
              "    <path d=\"M18.56 5.44l.94 2.06.94-2.06 2.06-.94-2.06-.94-.94-2.06-.94 2.06-2.06.94zm-11 1L8.5 8.5l.94-2.06 2.06-.94-2.06-.94L8.5 2.5l-.94 2.06-2.06.94zm10 10l.94 2.06.94-2.06 2.06-.94-2.06-.94-.94-2.06-.94 2.06-2.06.94z\"/><path d=\"M17.41 7.96l-1.37-1.37c-.4-.4-.92-.59-1.43-.59-.52 0-1.04.2-1.43.59L10.3 9.45l-7.72 7.72c-.78.78-.78 2.05 0 2.83L4 21.41c.39.39.9.59 1.41.59.51 0 1.02-.2 1.41-.59l7.78-7.78 2.81-2.81c.8-.78.8-2.07 0-2.86zM5.41 20L4 18.59l7.72-7.72 1.47 1.35L5.41 20z\"/>\n",
              "  </svg>\n",
              "      </button>\n",
              "      \n",
              "  <style>\n",
              "    .colab-df-container {\n",
              "      display:flex;\n",
              "      flex-wrap:wrap;\n",
              "      gap: 12px;\n",
              "    }\n",
              "\n",
              "    .colab-df-convert {\n",
              "      background-color: #E8F0FE;\n",
              "      border: none;\n",
              "      border-radius: 50%;\n",
              "      cursor: pointer;\n",
              "      display: none;\n",
              "      fill: #1967D2;\n",
              "      height: 32px;\n",
              "      padding: 0 0 0 0;\n",
              "      width: 32px;\n",
              "    }\n",
              "\n",
              "    .colab-df-convert:hover {\n",
              "      background-color: #E2EBFA;\n",
              "      box-shadow: 0px 1px 2px rgba(60, 64, 67, 0.3), 0px 1px 3px 1px rgba(60, 64, 67, 0.15);\n",
              "      fill: #174EA6;\n",
              "    }\n",
              "\n",
              "    [theme=dark] .colab-df-convert {\n",
              "      background-color: #3B4455;\n",
              "      fill: #D2E3FC;\n",
              "    }\n",
              "\n",
              "    [theme=dark] .colab-df-convert:hover {\n",
              "      background-color: #434B5C;\n",
              "      box-shadow: 0px 1px 3px 1px rgba(0, 0, 0, 0.15);\n",
              "      filter: drop-shadow(0px 1px 2px rgba(0, 0, 0, 0.3));\n",
              "      fill: #FFFFFF;\n",
              "    }\n",
              "  </style>\n",
              "\n",
              "      <script>\n",
              "        const buttonEl =\n",
              "          document.querySelector('#df-56a180da-a19b-4039-ba9e-4321f2240189 button.colab-df-convert');\n",
              "        buttonEl.style.display =\n",
              "          google.colab.kernel.accessAllowed ? 'block' : 'none';\n",
              "\n",
              "        async function convertToInteractive(key) {\n",
              "          const element = document.querySelector('#df-56a180da-a19b-4039-ba9e-4321f2240189');\n",
              "          const dataTable =\n",
              "            await google.colab.kernel.invokeFunction('convertToInteractive',\n",
              "                                                     [key], {});\n",
              "          if (!dataTable) return;\n",
              "\n",
              "          const docLinkHtml = 'Like what you see? Visit the ' +\n",
              "            '<a target=\"_blank\" href=https://colab.research.google.com/notebooks/data_table.ipynb>data table notebook</a>'\n",
              "            + ' to learn more about interactive tables.';\n",
              "          element.innerHTML = '';\n",
              "          dataTable['output_type'] = 'display_data';\n",
              "          await google.colab.output.renderOutput(dataTable, element);\n",
              "          const docLink = document.createElement('div');\n",
              "          docLink.innerHTML = docLinkHtml;\n",
              "          element.appendChild(docLink);\n",
              "        }\n",
              "      </script>\n",
              "    </div>\n",
              "  </div>\n",
              "  "
            ]
          },
          "metadata": {},
          "execution_count": 5
        }
      ],
      "source": [
        "artist = pd.read_csv('https://github.com/ColeBerning35/module2_intro_to_pandas/raw/main/data/Artists.csv')\n",
        "artist.head()"
      ]
    },
    {
      "cell_type": "markdown",
      "metadata": {
        "id": "WjxoijVo-2JJ"
      },
      "source": [
        "## There are lots of `0`s in the `BeginDate` \n",
        "\n",
        "Do we really think the Museam of **Modern** Art has artists from 0AD?"
      ]
    },
    {
      "cell_type": "code",
      "execution_count": 6,
      "metadata": {
        "id": "kP5hN0Pg-2JK",
        "outputId": "e744b536-8a43-4f18-e051-b627b46ebc45",
        "colab": {
          "base_uri": "https://localhost:8080/",
          "height": 282
        }
      },
      "outputs": [
        {
          "output_type": "execute_result",
          "data": {
            "text/plain": [
              "<matplotlib.axes._subplots.AxesSubplot at 0x7f8fd7291f50>"
            ]
          },
          "metadata": {},
          "execution_count": 6
        },
        {
          "output_type": "display_data",
          "data": {
            "text/plain": [
              "<Figure size 432x288 with 1 Axes>"
            ],
            "image/png": "[encoded data removed]"
          },
          "metadata": {
            "needs_background": "light"
          }
        }
      ],
      "source": [
        "import matplotlib.pylab as plt\n",
        "%matplotlib inline\n",
        "artist.BeginDate.hist(bins=50)"
      ]
    },
    {
      "cell_type": "markdown",
      "metadata": {
        "id": "awF7GN3R-2JL"
      },
      "source": [
        "## Same problem with `EndDate`, but even more so"
      ]
    },
    {
      "cell_type": "code",
      "execution_count": 7,
      "metadata": {
        "id": "7pb1vf2D-2JL",
        "outputId": "cf45e05e-8cba-4876-f2cb-a796ba92940e",
        "colab": {
          "base_uri": "https://localhost:8080/",
          "height": 282
        }
      },
      "outputs": [
        {
          "output_type": "execute_result",
          "data": {
            "text/plain": [
              "<matplotlib.axes._subplots.AxesSubplot at 0x7f8fc9e9f850>"
            ]
          },
          "metadata": {},
          "execution_count": 7
        },
        {
          "output_type": "display_data",
          "data": {
            "text/plain": [
              "<Figure size 432x288 with 1 Axes>"
            ],
            "image/png": "[encoded data removed]"
          },
          "metadata": {
            "needs_background": "light"
          }
        }
      ],
      "source": [
        "artist.EndDate.hist(bins=50)"
      ]
    },
    {
      "cell_type": "markdown",
      "metadata": {
        "id": "HLvPbdOE-2JL"
      },
      "source": [
        "## Using `apply` to remove the `0`s"
      ]
    },
    {
      "cell_type": "code",
      "execution_count": 8,
      "metadata": {
        "scrolled": true,
        "id": "38RjBzYH-2JM",
        "outputId": "c5cd844f-f281-4c78-d0b2-f9dcbe688b9a",
        "colab": {
          "base_uri": "https://localhost:8080/"
        }
      },
      "outputs": [
        {
          "output_type": "execute_result",
          "data": {
            "text/plain": [
              "0    1930.0\n",
              "1    1936.0\n",
              "2    1941.0\n",
              "3    1946.0\n",
              "4    1941.0\n",
              "Name: BeginDate, dtype: float64"
            ]
          },
          "metadata": {},
          "execution_count": 8
        }
      ],
      "source": [
        "transformed_BD = artist.BeginDate.apply(lambda val: np.nan if val == 0 else val)\n",
        "transformed_BD.head()"
      ]
    },
    {
      "cell_type": "markdown",
      "metadata": {
        "id": "Kd7gs60d-2JM"
      },
      "source": [
        "## What's up with the `float dtype`?\n",
        "\n",
        "Good question, let's find out."
      ]
    },
    {
      "cell_type": "markdown",
      "metadata": {
        "id": "4jvDS2iS-2JM"
      },
      "source": [
        "## Converting transformed `BeginDate` - attempt 1\n",
        "\n",
        "Let's try to convert the `BeginDate` to `int`"
      ]
    },
    {
      "cell_type": "code",
      "execution_count": 9,
      "metadata": {
        "id": "3Cg7fidO-2JN",
        "outputId": "98685eab-3cb6-4fea-8548-d1fdef980ace",
        "colab": {
          "base_uri": "https://localhost:8080/",
          "height": 79
        }
      },
      "outputs": [
        {
          "output_type": "error",
          "ename": "IntCastingNaNError",
          "evalue": "ignored",
          "traceback": [
            "\u001b[0;31mIntCastingNaNError\u001b[0m\u001b[0;31m:\u001b[0m Cannot convert non-finite values (NA or inf) to integer\n"
          ]
        }
      ],
      "source": [
        "transformed_BD.astype('int')"
      ]
    },
    {
      "cell_type": "markdown",
      "metadata": {
        "id": "KW2AGLfO-2JN"
      },
      "source": [
        "## `pandas`, `int` and `np.nan` don't mix\n",
        "\n",
        "* `pandas` `int` columns **cannot** have missing\n",
        "* `pd.__version__ == 0.24.1` fixes this\n",
        "    * Use `Int64` for integers with missing values\n",
        "    * Note the capital `I`\n",
        "* Update with `!pip install --upgrade pandas`"
      ]
    },
    {
      "cell_type": "code",
      "execution_count": 10,
      "metadata": {
        "id": "_mikeBZ8-2JN"
      },
      "outputs": [],
      "source": [
        "assert pd.__version__.startswith('1') or pd.__version__.startswith('0.24'), \"Please upgrade your pandas and restart jupyter\"\n",
        "#!pip install --upgrade pandas"
      ]
    },
    {
      "cell_type": "markdown",
      "metadata": {
        "id": "9cSqcVLE-2JN"
      },
      "source": [
        "## Converting `BeginDate` to `Int64`\n",
        "\n",
        "Hmm, that returned a `float` column.  Let's try to force `Int64`"
      ]
    },
    {
      "cell_type": "code",
      "execution_count": 11,
      "metadata": {
        "scrolled": true,
        "id": "oKc39TqY-2JO",
        "outputId": "25e82b06-520b-40e8-c5cd-3e151333fbb2",
        "colab": {
          "base_uri": "https://localhost:8080/"
        }
      },
      "outputs": [
        {
          "output_type": "execute_result",
          "data": {
            "text/plain": [
              "0     1930\n",
              "1     1936\n",
              "2     1941\n",
              "3     1946\n",
              "4     1941\n",
              "5     1925\n",
              "6     1941\n",
              "7     1923\n",
              "8     1918\n",
              "9     1886\n",
              "10    1936\n",
              "11    1911\n",
              "12    1907\n",
              "13    1900\n",
              "14    <NA>\n",
              "Name: BeginDate, dtype: Int64"
            ]
          },
          "metadata": {},
          "execution_count": 11
        }
      ],
      "source": [
        "transformed_BD.astype('Int64').head(15) # There we go!"
      ]
    },
    {
      "cell_type": "markdown",
      "metadata": {
        "id": "bRrtsKIT-2JO"
      },
      "source": [
        "## Downloading the 538 Uber FOIA data\n",
        "\n",
        "The [Uber dataset from 538](https://github.com/fivethirtyeight/uber-tlc-foil-response) is too large to include in this module's repository.  If you haven't already downloaded the Uber data, execute the following."
      ]
    },
    {
      "cell_type": "code",
      "execution_count": 12,
      "metadata": {
        "id": "fcu_mD0i-2JO",
        "outputId": "0cb05f74-4a8b-47ab-bdb1-8765f7e7253c",
        "colab": {
          "base_uri": "https://localhost:8080/"
        }
      },
      "outputs": [
        {
          "output_type": "stream",
          "name": "stdout",
          "text": [
            "Cloning into './data/uber'...\n",
            "remote: Enumerating objects: 58, done.\u001b[K\n",
            "remote: Total 58 (delta 0), reused 0 (delta 0), pack-reused 58\u001b[K\n",
            "Unpacking objects: 100% (58/58), done.\n",
            "Checking out files: 100% (26/26), done.\n"
          ]
        }
      ],
      "source": [
        "!git clone https://github.com/fivethirtyeight/uber-tlc-foil-response ./data/uber"
      ]
    },
    {
      "cell_type": "markdown",
      "metadata": {
        "id": "L1qxWlsK-2JO"
      },
      "source": [
        "## Example 2 - Uber rides\n",
        "\n",
        "**Source:** [FiveThirtyEight Uber data](https://github.com/fivethirtyeight/uber-tlc-foil-response)\n",
        "\n",
        "**Note:** The actual data is pretty large, which we will deal with in the next section.  For now, we will load a subset (first 1000 rows)."
      ]
    },
    {
      "cell_type": "code",
      "execution_count": 13,
      "metadata": {
        "id": "Iu3uYqRS-2JP",
        "outputId": "0a22d78a-d41e-4a14-eafe-85cc0a71d5e2",
        "colab": {
          "base_uri": "https://localhost:8080/",
          "height": 206
        }
      },
      "outputs": [
        {
          "output_type": "execute_result",
          "data": {
            "text/plain": [
              "          Date/Time      Lat      Lon    Base\n",
              "0  4/1/2014 0:11:00  40.7690 -73.9549  B02512\n",
              "1  4/1/2014 0:17:00  40.7267 -74.0345  B02512\n",
              "2  4/1/2014 0:21:00  40.7316 -73.9873  B02512\n",
              "3  4/1/2014 0:28:00  40.7588 -73.9776  B02512\n",
              "4  4/1/2014 0:33:00  40.7594 -73.9722  B02512"
            ],
            "text/html": [
              "\n",
              "  <div id=\"df-7617fff7-2a59-4a7d-ae6e-dbcf1f9eab61\">\n",
              "    <div class=\"colab-df-container\">\n",
              "      <div>\n",
              "<style scoped>\n",
              "    .dataframe tbody tr th:only-of-type {\n",
              "        vertical-align: middle;\n",
              "    }\n",
              "\n",
              "    .dataframe tbody tr th {\n",
              "        vertical-align: top;\n",
              "    }\n",
              "\n",
              "    .dataframe thead th {\n",
              "        text-align: right;\n",
              "    }\n",
              "</style>\n",
              "<table border=\"1\" class=\"dataframe\">\n",
              "  <thead>\n",
              "    <tr style=\"text-align: right;\">\n",
              "      <th></th>\n",
              "      <th>Date/Time</th>\n",
              "      <th>Lat</th>\n",
              "      <th>Lon</th>\n",
              "      <th>Base</th>\n",
              "    </tr>\n",
              "  </thead>\n",
              "  <tbody>\n",
              "    <tr>\n",
              "      <th>0</th>\n",
              "      <td>4/1/2014 0:11:00</td>\n",
              "      <td>40.7690</td>\n",
              "      <td>-73.9549</td>\n",
              "      <td>B02512</td>\n",
              "    </tr>\n",
              "    <tr>\n",
              "      <th>1</th>\n",
              "      <td>4/1/2014 0:17:00</td>\n",
              "      <td>40.7267</td>\n",
              "      <td>-74.0345</td>\n",
              "      <td>B02512</td>\n",
              "    </tr>\n",
              "    <tr>\n",
              "      <th>2</th>\n",
              "      <td>4/1/2014 0:21:00</td>\n",
              "      <td>40.7316</td>\n",
              "      <td>-73.9873</td>\n",
              "      <td>B02512</td>\n",
              "    </tr>\n",
              "    <tr>\n",
              "      <th>3</th>\n",
              "      <td>4/1/2014 0:28:00</td>\n",
              "      <td>40.7588</td>\n",
              "      <td>-73.9776</td>\n",
              "      <td>B02512</td>\n",
              "    </tr>\n",
              "    <tr>\n",
              "      <th>4</th>\n",
              "      <td>4/1/2014 0:33:00</td>\n",
              "      <td>40.7594</td>\n",
              "      <td>-73.9722</td>\n",
              "      <td>B02512</td>\n",
              "    </tr>\n",
              "  </tbody>\n",
              "</table>\n",
              "</div>\n",
              "      <button class=\"colab-df-convert\" onclick=\"convertToInteractive('df-7617fff7-2a59-4a7d-ae6e-dbcf1f9eab61')\"\n",
              "              title=\"Convert this dataframe to an interactive table.\"\n",
              "              style=\"display:none;\">\n",
              "        \n",
              "  <svg xmlns=\"http://www.w3.org/2000/svg\" height=\"24px\"viewBox=\"0 0 24 24\"\n",
              "       width=\"24px\">\n",
              "    <path d=\"M0 0h24v24H0V0z\" fill=\"none\"/>\n",
              "    <path d=\"M18.56 5.44l.94 2.06.94-2.06 2.06-.94-2.06-.94-.94-2.06-.94 2.06-2.06.94zm-11 1L8.5 8.5l.94-2.06 2.06-.94-2.06-.94L8.5 2.5l-.94 2.06-2.06.94zm10 10l.94 2.06.94-2.06 2.06-.94-2.06-.94-.94-2.06-.94 2.06-2.06.94z\"/><path d=\"M17.41 7.96l-1.37-1.37c-.4-.4-.92-.59-1.43-.59-.52 0-1.04.2-1.43.59L10.3 9.45l-7.72 7.72c-.78.78-.78 2.05 0 2.83L4 21.41c.39.39.9.59 1.41.59.51 0 1.02-.2 1.41-.59l7.78-7.78 2.81-2.81c.8-.78.8-2.07 0-2.86zM5.41 20L4 18.59l7.72-7.72 1.47 1.35L5.41 20z\"/>\n",
              "  </svg>\n",
              "      </button>\n",
              "      \n",
              "  <style>\n",
              "    .colab-df-container {\n",
              "      display:flex;\n",
              "      flex-wrap:wrap;\n",
              "      gap: 12px;\n",
              "    }\n",
              "\n",
              "    .colab-df-convert {\n",
              "      background-color: #E8F0FE;\n",
              "      border: none;\n",
              "      border-radius: 50%;\n",
              "      cursor: pointer;\n",
              "      display: none;\n",
              "      fill: #1967D2;\n",
              "      height: 32px;\n",
              "      padding: 0 0 0 0;\n",
              "      width: 32px;\n",
              "    }\n",
              "\n",
              "    .colab-df-convert:hover {\n",
              "      background-color: #E2EBFA;\n",
              "      box-shadow: 0px 1px 2px rgba(60, 64, 67, 0.3), 0px 1px 3px 1px rgba(60, 64, 67, 0.15);\n",
              "      fill: #174EA6;\n",
              "    }\n",
              "\n",
              "    [theme=dark] .colab-df-convert {\n",
              "      background-color: #3B4455;\n",
              "      fill: #D2E3FC;\n",
              "    }\n",
              "\n",
              "    [theme=dark] .colab-df-convert:hover {\n",
              "      background-color: #434B5C;\n",
              "      box-shadow: 0px 1px 3px 1px rgba(0, 0, 0, 0.15);\n",
              "      filter: drop-shadow(0px 1px 2px rgba(0, 0, 0, 0.3));\n",
              "      fill: #FFFFFF;\n",
              "    }\n",
              "  </style>\n",
              "\n",
              "      <script>\n",
              "        const buttonEl =\n",
              "          document.querySelector('#df-7617fff7-2a59-4a7d-ae6e-dbcf1f9eab61 button.colab-df-convert');\n",
              "        buttonEl.style.display =\n",
              "          google.colab.kernel.accessAllowed ? 'block' : 'none';\n",
              "\n",
              "        async function convertToInteractive(key) {\n",
              "          const element = document.querySelector('#df-7617fff7-2a59-4a7d-ae6e-dbcf1f9eab61');\n",
              "          const dataTable =\n",
              "            await google.colab.kernel.invokeFunction('convertToInteractive',\n",
              "                                                     [key], {});\n",
              "          if (!dataTable) return;\n",
              "\n",
              "          const docLinkHtml = 'Like what you see? Visit the ' +\n",
              "            '<a target=\"_blank\" href=https://colab.research.google.com/notebooks/data_table.ipynb>data table notebook</a>'\n",
              "            + ' to learn more about interactive tables.';\n",
              "          element.innerHTML = '';\n",
              "          dataTable['output_type'] = 'display_data';\n",
              "          await google.colab.output.renderOutput(dataTable, element);\n",
              "          const docLink = document.createElement('div');\n",
              "          docLink.innerHTML = docLinkHtml;\n",
              "          element.appendChild(docLink);\n",
              "        }\n",
              "      </script>\n",
              "    </div>\n",
              "  </div>\n",
              "  "
            ]
          },
          "metadata": {},
          "execution_count": 13
        }
      ],
      "source": [
        "uber_april_raw = pd.read_csv(\"./data/uber/uber-trip-data/uber-raw-data-apr14.csv\")\n",
        "uber_april_raw.head()"
      ]
    },
    {
      "cell_type": "markdown",
      "metadata": {
        "id": "6Rhhge6t-2JQ"
      },
      "source": [
        "## <font color=\"red\"> Exercise 1</font>\n",
        "\n",
        "Fix the names.  Be sure to rename the `\"Date/Time\"` `'date'` and name the resulting data frame `uber_april_renamed`."
      ]
    },
    {
      "cell_type": "code",
      "execution_count": 20,
      "metadata": {
        "id": "03rC71rW-2JR"
      },
      "outputs": [],
      "source": [
        "# Your code here\n",
        "uber_april_rename = uber_april_raw.rename(columns={'Date/Time':'date'})"
      ]
    },
    {
      "cell_type": "markdown",
      "metadata": {
        "id": "qRC86I1m-2JR"
      },
      "source": [
        "## <font color=\"red\"> Exercise 2</font>\n",
        "\n",
        "**Tasks:**\n",
        "\n",
        "1. Inspect the `dtypes`\n",
        "2. Suggest a good type for the `date` column"
      ]
    },
    {
      "cell_type": "code",
      "execution_count": 21,
      "metadata": {
        "id": "exSu6W07-2JS",
        "outputId": "b87781e4-a69f-4f39-bf12-6499c2699f9a",
        "colab": {
          "base_uri": "https://localhost:8080/"
        }
      },
      "outputs": [
        {
          "output_type": "execute_result",
          "data": {
            "text/plain": [
              "date     object\n",
              "Lat     float64\n",
              "Lon     float64\n",
              "Base     object\n",
              "dtype: object"
            ]
          },
          "metadata": {},
          "execution_count": 21
        }
      ],
      "source": [
        "# Your code here\n",
        "uber_april_rename.dtypes"
      ]
    },
    {
      "cell_type": "markdown",
      "metadata": {
        "id": "F-Cmz_3o-2JT"
      },
      "source": [
        "I would change the date column to a date/time type so the computer knows that it is a date"
      ]
    },
    {
      "cell_type": "markdown",
      "metadata": {
        "id": "wocrQdr3-2JT"
      },
      "source": [
        "## Changing to date type with  `pd.to_datetime`"
      ]
    },
    {
      "cell_type": "code",
      "execution_count": 22,
      "metadata": {
        "id": "iLZMGfAA-2JT",
        "outputId": "b94149a0-151c-4cf0-f1a0-2fc6cc594566",
        "colab": {
          "base_uri": "https://localhost:8080/"
        }
      },
      "outputs": [
        {
          "output_type": "execute_result",
          "data": {
            "text/plain": [
              "0   2014-04-01 00:11:00\n",
              "1   2014-04-01 00:17:00\n",
              "2   2014-04-01 00:21:00\n",
              "3   2014-04-01 00:28:00\n",
              "4   2014-04-01 00:33:00\n",
              "Name: date, dtype: datetime64[ns]"
            ]
          },
          "metadata": {},
          "execution_count": 22
        }
      ],
      "source": [
        "pd.to_datetime(uber_april_rename.date.head())"
      ]
    },
    {
      "cell_type": "markdown",
      "metadata": {
        "id": "BNhsT6Rr-2JU"
      },
      "source": [
        "## Making a `dfply` compatible column function.\n",
        "\n",
        "Suppose you have a function you want to use inside `mutate` (i.e. a **column function**).  To make this function compatable with `dfply.Intention`s, you should \n",
        "\n",
        "1. Wrap the `pandas` call inside a function.\n",
        "2. Decorate with `@make_symbolic`"
      ]
    },
    {
      "cell_type": "code",
      "execution_count": 23,
      "metadata": {
        "id": "ZiOo7RYu-2JU"
      },
      "outputs": [],
      "source": [
        "@make_symbolic\n",
        "def to_datetime(series, infer_datetime_format=True):\n",
        "    return pd.to_datetime(series, infer_datetime_format=infer_datetime_format)"
      ]
    },
    {
      "cell_type": "markdown",
      "metadata": {
        "id": "yF9gyKx--2JU"
      },
      "source": [
        "## Converting to dates with `dfply`\n",
        "\n",
        "Note that above function is available in `more_dfply.to_datetime` is a `dfply` compatible version of `pd.to_datetime`."
      ]
    },
    {
      "cell_type": "code",
      "execution_count": 24,
      "metadata": {
        "scrolled": false,
        "id": "IwIulzxY-2JV",
        "outputId": "8caa0724-b80d-4cc0-a2ea-aa20fd167fdd",
        "colab": {
          "base_uri": "https://localhost:8080/"
        }
      },
      "outputs": [
        {
          "output_type": "stream",
          "name": "stdout",
          "text": [
            "Looking in indexes: https://pypi.org/simple, https://us-python.pkg.dev/colab-wheels/public/simple/\n",
            "Collecting more_dfply\n",
            "  Downloading more_dfply-0.2.10-py3-none-any.whl (5.8 kB)\n",
            "Collecting composable<0.3.0,>=0.2.5\n",
            "  Downloading composable-0.2.5-py3-none-any.whl (7.3 kB)\n",
            "Requirement already satisfied: dfply<0.4.0,>=0.3.3 in /usr/local/lib/python3.7/dist-packages (from more_dfply) (0.3.3)\n",
            "Collecting python-forge<19.0,>=18.6\n",
            "  Downloading python_forge-18.6.0-py35-none-any.whl (31 kB)\n",
            "Collecting toolz<0.12.0,>=0.11.1\n",
            "  Downloading toolz-0.11.2-py3-none-any.whl (55 kB)\n",
            "\u001b[K     |████████████████████████████████| 55 kB 4.6 MB/s \n",
            "\u001b[?25hRequirement already satisfied: pandas in /usr/local/lib/python3.7/dist-packages (from dfply<0.4.0,>=0.3.3->more_dfply) (1.3.5)\n",
            "Requirement already satisfied: numpy in /usr/local/lib/python3.7/dist-packages (from dfply<0.4.0,>=0.3.3->more_dfply) (1.21.6)\n",
            "Requirement already satisfied: python-dateutil>=2.7.3 in /usr/local/lib/python3.7/dist-packages (from pandas->dfply<0.4.0,>=0.3.3->more_dfply) (2.8.2)\n",
            "Requirement already satisfied: pytz>=2017.3 in /usr/local/lib/python3.7/dist-packages (from pandas->dfply<0.4.0,>=0.3.3->more_dfply) (2022.2.1)\n",
            "Requirement already satisfied: six>=1.5 in /usr/local/lib/python3.7/dist-packages (from python-dateutil>=2.7.3->pandas->dfply<0.4.0,>=0.3.3->more_dfply) (1.15.0)\n",
            "Installing collected packages: toolz, python-forge, composable, more-dfply\n",
            "  Attempting uninstall: toolz\n",
            "    Found existing installation: toolz 0.12.0\n",
            "    Uninstalling toolz-0.12.0:\n",
            "      Successfully uninstalled toolz-0.12.0\n",
            "Successfully installed composable-0.2.5 more-dfply-0.2.10 python-forge-18.6.0 toolz-0.11.2\n"
          ]
        }
      ],
      "source": [
        "!pip install more_dfply"
      ]
    },
    {
      "cell_type": "code",
      "execution_count": 25,
      "metadata": {
        "id": "M_FLpgpH-2JV",
        "outputId": "3a08302e-e1d2-4171-ca58-2f0ddde98c96",
        "colab": {
          "base_uri": "https://localhost:8080/"
        }
      },
      "outputs": [
        {
          "output_type": "execute_result",
          "data": {
            "text/plain": [
              "date    datetime64[ns]\n",
              "Lat            float64\n",
              "Lon            float64\n",
              "Base            object\n",
              "dtype: object"
            ]
          },
          "metadata": {},
          "execution_count": 25
        }
      ],
      "source": [
        "from more_dfply import to_datetime\n",
        "uber_april = (uber_april_rename >>\n",
        "                mutate(date = to_datetime(X.date)))\n",
        "uber_april.dtypes"
      ]
    },
    {
      "cell_type": "markdown",
      "metadata": {
        "id": "3Cu6ds2l-2JW"
      },
      "source": [
        "## Why convert to `datetime`?\n",
        "\n",
        "This series type provides many useful date methods and attributes.  For example, we get many **dateparts methods** in the `dt` attribute."
      ]
    },
    {
      "cell_type": "code",
      "execution_count": 26,
      "metadata": {
        "id": "mKAD6mdr-2JW",
        "outputId": "4edf3b4f-04fd-4055-c71d-64e501d2fb3c",
        "colab": {
          "base_uri": "https://localhost:8080/",
          "height": 206
        }
      },
      "outputs": [
        {
          "output_type": "execute_result",
          "data": {
            "text/plain": [
              "                 date      Lat      Lon    Base  weekday\n",
              "0 2014-04-01 00:11:00  40.7690 -73.9549  B02512  Tuesday\n",
              "1 2014-04-01 00:17:00  40.7267 -74.0345  B02512  Tuesday\n",
              "2 2014-04-01 00:21:00  40.7316 -73.9873  B02512  Tuesday\n",
              "3 2014-04-01 00:28:00  40.7588 -73.9776  B02512  Tuesday\n",
              "4 2014-04-01 00:33:00  40.7594 -73.9722  B02512  Tuesday"
            ],
            "text/html": [
              "\n",
              "  <div id=\"df-4e5a7d96-9c37-4fe3-a9ac-f97252fb56cb\">\n",
              "    <div class=\"colab-df-container\">\n",
              "      <div>\n",
              "<style scoped>\n",
              "    .dataframe tbody tr th:only-of-type {\n",
              "        vertical-align: middle;\n",
              "    }\n",
              "\n",
              "    .dataframe tbody tr th {\n",
              "        vertical-align: top;\n",
              "    }\n",
              "\n",
              "    .dataframe thead th {\n",
              "        text-align: right;\n",
              "    }\n",
              "</style>\n",
              "<table border=\"1\" class=\"dataframe\">\n",
              "  <thead>\n",
              "    <tr style=\"text-align: right;\">\n",
              "      <th></th>\n",
              "      <th>date</th>\n",
              "      <th>Lat</th>\n",
              "      <th>Lon</th>\n",
              "      <th>Base</th>\n",
              "      <th>weekday</th>\n",
              "    </tr>\n",
              "  </thead>\n",
              "  <tbody>\n",
              "    <tr>\n",
              "      <th>0</th>\n",
              "      <td>2014-04-01 00:11:00</td>\n",
              "      <td>40.7690</td>\n",
              "      <td>-73.9549</td>\n",
              "      <td>B02512</td>\n",
              "      <td>Tuesday</td>\n",
              "    </tr>\n",
              "    <tr>\n",
              "      <th>1</th>\n",
              "      <td>2014-04-01 00:17:00</td>\n",
              "      <td>40.7267</td>\n",
              "      <td>-74.0345</td>\n",
              "      <td>B02512</td>\n",
              "      <td>Tuesday</td>\n",
              "    </tr>\n",
              "    <tr>\n",
              "      <th>2</th>\n",
              "      <td>2014-04-01 00:21:00</td>\n",
              "      <td>40.7316</td>\n",
              "      <td>-73.9873</td>\n",
              "      <td>B02512</td>\n",
              "      <td>Tuesday</td>\n",
              "    </tr>\n",
              "    <tr>\n",
              "      <th>3</th>\n",
              "      <td>2014-04-01 00:28:00</td>\n",
              "      <td>40.7588</td>\n",
              "      <td>-73.9776</td>\n",
              "      <td>B02512</td>\n",
              "      <td>Tuesday</td>\n",
              "    </tr>\n",
              "    <tr>\n",
              "      <th>4</th>\n",
              "      <td>2014-04-01 00:33:00</td>\n",
              "      <td>40.7594</td>\n",
              "      <td>-73.9722</td>\n",
              "      <td>B02512</td>\n",
              "      <td>Tuesday</td>\n",
              "    </tr>\n",
              "  </tbody>\n",
              "</table>\n",
              "</div>\n",
              "      <button class=\"colab-df-convert\" onclick=\"convertToInteractive('df-4e5a7d96-9c37-4fe3-a9ac-f97252fb56cb')\"\n",
              "              title=\"Convert this dataframe to an interactive table.\"\n",
              "              style=\"display:none;\">\n",
              "        \n",
              "  <svg xmlns=\"http://www.w3.org/2000/svg\" height=\"24px\"viewBox=\"0 0 24 24\"\n",
              "       width=\"24px\">\n",
              "    <path d=\"M0 0h24v24H0V0z\" fill=\"none\"/>\n",
              "    <path d=\"M18.56 5.44l.94 2.06.94-2.06 2.06-.94-2.06-.94-.94-2.06-.94 2.06-2.06.94zm-11 1L8.5 8.5l.94-2.06 2.06-.94-2.06-.94L8.5 2.5l-.94 2.06-2.06.94zm10 10l.94 2.06.94-2.06 2.06-.94-2.06-.94-.94-2.06-.94 2.06-2.06.94z\"/><path d=\"M17.41 7.96l-1.37-1.37c-.4-.4-.92-.59-1.43-.59-.52 0-1.04.2-1.43.59L10.3 9.45l-7.72 7.72c-.78.78-.78 2.05 0 2.83L4 21.41c.39.39.9.59 1.41.59.51 0 1.02-.2 1.41-.59l7.78-7.78 2.81-2.81c.8-.78.8-2.07 0-2.86zM5.41 20L4 18.59l7.72-7.72 1.47 1.35L5.41 20z\"/>\n",
              "  </svg>\n",
              "      </button>\n",
              "      \n",
              "  <style>\n",
              "    .colab-df-container {\n",
              "      display:flex;\n",
              "      flex-wrap:wrap;\n",
              "      gap: 12px;\n",
              "    }\n",
              "\n",
              "    .colab-df-convert {\n",
              "      background-color: #E8F0FE;\n",
              "      border: none;\n",
              "      border-radius: 50%;\n",
              "      cursor: pointer;\n",
              "      display: none;\n",
              "      fill: #1967D2;\n",
              "      height: 32px;\n",
              "      padding: 0 0 0 0;\n",
              "      width: 32px;\n",
              "    }\n",
              "\n",
              "    .colab-df-convert:hover {\n",
              "      background-color: #E2EBFA;\n",
              "      box-shadow: 0px 1px 2px rgba(60, 64, 67, 0.3), 0px 1px 3px 1px rgba(60, 64, 67, 0.15);\n",
              "      fill: #174EA6;\n",
              "    }\n",
              "\n",
              "    [theme=dark] .colab-df-convert {\n",
              "      background-color: #3B4455;\n",
              "      fill: #D2E3FC;\n",
              "    }\n",
              "\n",
              "    [theme=dark] .colab-df-convert:hover {\n",
              "      background-color: #434B5C;\n",
              "      box-shadow: 0px 1px 3px 1px rgba(0, 0, 0, 0.15);\n",
              "      filter: drop-shadow(0px 1px 2px rgba(0, 0, 0, 0.3));\n",
              "      fill: #FFFFFF;\n",
              "    }\n",
              "  </style>\n",
              "\n",
              "      <script>\n",
              "        const buttonEl =\n",
              "          document.querySelector('#df-4e5a7d96-9c37-4fe3-a9ac-f97252fb56cb button.colab-df-convert');\n",
              "        buttonEl.style.display =\n",
              "          google.colab.kernel.accessAllowed ? 'block' : 'none';\n",
              "\n",
              "        async function convertToInteractive(key) {\n",
              "          const element = document.querySelector('#df-4e5a7d96-9c37-4fe3-a9ac-f97252fb56cb');\n",
              "          const dataTable =\n",
              "            await google.colab.kernel.invokeFunction('convertToInteractive',\n",
              "                                                     [key], {});\n",
              "          if (!dataTable) return;\n",
              "\n",
              "          const docLinkHtml = 'Like what you see? Visit the ' +\n",
              "            '<a target=\"_blank\" href=https://colab.research.google.com/notebooks/data_table.ipynb>data table notebook</a>'\n",
              "            + ' to learn more about interactive tables.';\n",
              "          element.innerHTML = '';\n",
              "          dataTable['output_type'] = 'display_data';\n",
              "          await google.colab.output.renderOutput(dataTable, element);\n",
              "          const docLink = document.createElement('div');\n",
              "          docLink.innerHTML = docLinkHtml;\n",
              "          element.appendChild(docLink);\n",
              "        }\n",
              "      </script>\n",
              "    </div>\n",
              "  </div>\n",
              "  "
            ]
          },
          "metadata": {},
          "execution_count": 26
        }
      ],
      "source": [
        "uber_april_weekday = (uber_april  >>\n",
        "                        mutate(weekday = X.date.dt.day_name()))\n",
        "uber_april_weekday.head()"
      ]
    },
    {
      "cell_type": "markdown",
      "metadata": {
        "id": "dYQwHIbJ-2JW"
      },
      "source": [
        "## <font color=\"red\"> Exercise 3</font>\n",
        "\n",
        "**Tasks:**\n",
        "\n",
        "1. Use `dir` to inspect the dateparts found in `dt`\n",
        "2. Add a few more datepart columns.\n",
        "3. Name the resulting dataframe `uber_april_datepart`"
      ]
    },
    {
      "cell_type": "code",
      "execution_count": 36,
      "metadata": {
        "id": "deBeSX4D-2JX",
        "outputId": "a1c949d6-6a91-421e-df81-7a476ab38f27",
        "colab": {
          "base_uri": "https://localhost:8080/",
          "height": 206
        }
      },
      "outputs": [
        {
          "output_type": "execute_result",
          "data": {
            "text/plain": [
              "                 date      Lat      Lon    Base  weekday  month\n",
              "0 2014-04-01 00:11:00  40.7690 -73.9549  B02512  Tuesday  April\n",
              "1 2014-04-01 00:17:00  40.7267 -74.0345  B02512  Tuesday  April\n",
              "2 2014-04-01 00:21:00  40.7316 -73.9873  B02512  Tuesday  April\n",
              "3 2014-04-01 00:28:00  40.7588 -73.9776  B02512  Tuesday  April\n",
              "4 2014-04-01 00:33:00  40.7594 -73.9722  B02512  Tuesday  April"
            ],
            "text/html": [
              "\n",
              "  <div id=\"df-62745960-3d94-4f7b-9889-e7a4956347fc\">\n",
              "    <div class=\"colab-df-container\">\n",
              "      <div>\n",
              "<style scoped>\n",
              "    .dataframe tbody tr th:only-of-type {\n",
              "        vertical-align: middle;\n",
              "    }\n",
              "\n",
              "    .dataframe tbody tr th {\n",
              "        vertical-align: top;\n",
              "    }\n",
              "\n",
              "    .dataframe thead th {\n",
              "        text-align: right;\n",
              "    }\n",
              "</style>\n",
              "<table border=\"1\" class=\"dataframe\">\n",
              "  <thead>\n",
              "    <tr style=\"text-align: right;\">\n",
              "      <th></th>\n",
              "      <th>date</th>\n",
              "      <th>Lat</th>\n",
              "      <th>Lon</th>\n",
              "      <th>Base</th>\n",
              "      <th>weekday</th>\n",
              "      <th>month</th>\n",
              "    </tr>\n",
              "  </thead>\n",
              "  <tbody>\n",
              "    <tr>\n",
              "      <th>0</th>\n",
              "      <td>2014-04-01 00:11:00</td>\n",
              "      <td>40.7690</td>\n",
              "      <td>-73.9549</td>\n",
              "      <td>B02512</td>\n",
              "      <td>Tuesday</td>\n",
              "      <td>April</td>\n",
              "    </tr>\n",
              "    <tr>\n",
              "      <th>1</th>\n",
              "      <td>2014-04-01 00:17:00</td>\n",
              "      <td>40.7267</td>\n",
              "      <td>-74.0345</td>\n",
              "      <td>B02512</td>\n",
              "      <td>Tuesday</td>\n",
              "      <td>April</td>\n",
              "    </tr>\n",
              "    <tr>\n",
              "      <th>2</th>\n",
              "      <td>2014-04-01 00:21:00</td>\n",
              "      <td>40.7316</td>\n",
              "      <td>-73.9873</td>\n",
              "      <td>B02512</td>\n",
              "      <td>Tuesday</td>\n",
              "      <td>April</td>\n",
              "    </tr>\n",
              "    <tr>\n",
              "      <th>3</th>\n",
              "      <td>2014-04-01 00:28:00</td>\n",
              "      <td>40.7588</td>\n",
              "      <td>-73.9776</td>\n",
              "      <td>B02512</td>\n",
              "      <td>Tuesday</td>\n",
              "      <td>April</td>\n",
              "    </tr>\n",
              "    <tr>\n",
              "      <th>4</th>\n",
              "      <td>2014-04-01 00:33:00</td>\n",
              "      <td>40.7594</td>\n",
              "      <td>-73.9722</td>\n",
              "      <td>B02512</td>\n",
              "      <td>Tuesday</td>\n",
              "      <td>April</td>\n",
              "    </tr>\n",
              "  </tbody>\n",
              "</table>\n",
              "</div>\n",
              "      <button class=\"colab-df-convert\" onclick=\"convertToInteractive('df-62745960-3d94-4f7b-9889-e7a4956347fc')\"\n",
              "              title=\"Convert this dataframe to an interactive table.\"\n",
              "              style=\"display:none;\">\n",
              "        \n",
              "  <svg xmlns=\"http://www.w3.org/2000/svg\" height=\"24px\"viewBox=\"0 0 24 24\"\n",
              "       width=\"24px\">\n",
              "    <path d=\"M0 0h24v24H0V0z\" fill=\"none\"/>\n",
              "    <path d=\"M18.56 5.44l.94 2.06.94-2.06 2.06-.94-2.06-.94-.94-2.06-.94 2.06-2.06.94zm-11 1L8.5 8.5l.94-2.06 2.06-.94-2.06-.94L8.5 2.5l-.94 2.06-2.06.94zm10 10l.94 2.06.94-2.06 2.06-.94-2.06-.94-.94-2.06-.94 2.06-2.06.94z\"/><path d=\"M17.41 7.96l-1.37-1.37c-.4-.4-.92-.59-1.43-.59-.52 0-1.04.2-1.43.59L10.3 9.45l-7.72 7.72c-.78.78-.78 2.05 0 2.83L4 21.41c.39.39.9.59 1.41.59.51 0 1.02-.2 1.41-.59l7.78-7.78 2.81-2.81c.8-.78.8-2.07 0-2.86zM5.41 20L4 18.59l7.72-7.72 1.47 1.35L5.41 20z\"/>\n",
              "  </svg>\n",
              "      </button>\n",
              "      \n",
              "  <style>\n",
              "    .colab-df-container {\n",
              "      display:flex;\n",
              "      flex-wrap:wrap;\n",
              "      gap: 12px;\n",
              "    }\n",
              "\n",
              "    .colab-df-convert {\n",
              "      background-color: #E8F0FE;\n",
              "      border: none;\n",
              "      border-radius: 50%;\n",
              "      cursor: pointer;\n",
              "      display: none;\n",
              "      fill: #1967D2;\n",
              "      height: 32px;\n",
              "      padding: 0 0 0 0;\n",
              "      width: 32px;\n",
              "    }\n",
              "\n",
              "    .colab-df-convert:hover {\n",
              "      background-color: #E2EBFA;\n",
              "      box-shadow: 0px 1px 2px rgba(60, 64, 67, 0.3), 0px 1px 3px 1px rgba(60, 64, 67, 0.15);\n",
              "      fill: #174EA6;\n",
              "    }\n",
              "\n",
              "    [theme=dark] .colab-df-convert {\n",
              "      background-color: #3B4455;\n",
              "      fill: #D2E3FC;\n",
              "    }\n",
              "\n",
              "    [theme=dark] .colab-df-convert:hover {\n",
              "      background-color: #434B5C;\n",
              "      box-shadow: 0px 1px 3px 1px rgba(0, 0, 0, 0.15);\n",
              "      filter: drop-shadow(0px 1px 2px rgba(0, 0, 0, 0.3));\n",
              "      fill: #FFFFFF;\n",
              "    }\n",
              "  </style>\n",
              "\n",
              "      <script>\n",
              "        const buttonEl =\n",
              "          document.querySelector('#df-62745960-3d94-4f7b-9889-e7a4956347fc button.colab-df-convert');\n",
              "        buttonEl.style.display =\n",
              "          google.colab.kernel.accessAllowed ? 'block' : 'none';\n",
              "\n",
              "        async function convertToInteractive(key) {\n",
              "          const element = document.querySelector('#df-62745960-3d94-4f7b-9889-e7a4956347fc');\n",
              "          const dataTable =\n",
              "            await google.colab.kernel.invokeFunction('convertToInteractive',\n",
              "                                                     [key], {});\n",
              "          if (!dataTable) return;\n",
              "\n",
              "          const docLinkHtml = 'Like what you see? Visit the ' +\n",
              "            '<a target=\"_blank\" href=https://colab.research.google.com/notebooks/data_table.ipynb>data table notebook</a>'\n",
              "            + ' to learn more about interactive tables.';\n",
              "          element.innerHTML = '';\n",
              "          dataTable['output_type'] = 'display_data';\n",
              "          await google.colab.output.renderOutput(dataTable, element);\n",
              "          const docLink = document.createElement('div');\n",
              "          docLink.innerHTML = docLinkHtml;\n",
              "          element.appendChild(docLink);\n",
              "        }\n",
              "      </script>\n",
              "    </div>\n",
              "  </div>\n",
              "  "
            ]
          },
          "metadata": {},
          "execution_count": 36
        }
      ],
      "source": [
        "# Your code here\n",
        "uber_april_datepart = (uber_april  >>\n",
        "                        mutate(weekday = X.date.dt.day_name()) >>\n",
        "                        mutate(month = X.date.dt.month_name())\n",
        "                        )\n",
        "uber_april_datepart.head()"
      ]
    },
    {
      "cell_type": "markdown",
      "metadata": {
        "id": "qzuIfoch-2JX"
      },
      "source": [
        "> *Your answer here*"
      ]
    },
    {
      "cell_type": "markdown",
      "metadata": {
        "id": "HvamuN16-2JX"
      },
      "source": [
        "## Specifying date columns while reading\n",
        "\n",
        "Pass a list of date columns to `parse_dates`"
      ]
    },
    {
      "cell_type": "code",
      "execution_count": 37,
      "metadata": {
        "scrolled": true,
        "id": "72tYSvEB-2JX",
        "outputId": "77e3f5ca-7454-4576-e45c-662c4d1c85db",
        "colab": {
          "base_uri": "https://localhost:8080/"
        }
      },
      "outputs": [
        {
          "output_type": "execute_result",
          "data": {
            "text/plain": [
              "Date/Time    datetime64[ns]\n",
              "Lat                 float64\n",
              "Lon                 float64\n",
              "Base                 object\n",
              "dtype: object"
            ]
          },
          "metadata": {},
          "execution_count": 37
        }
      ],
      "source": [
        "from toolz import first\n",
        "uber_april_with_datetime = pd.read_csv(\"./data/uber/uber-trip-data/uber-raw-data-apr14.csv\", \n",
        "                                       parse_dates=['Date/Time'])\n",
        "\n",
        "uber_april_with_datetime.dtypes"
      ]
    },
    {
      "cell_type": "markdown",
      "metadata": {
        "id": "FR4t-tw--2JX"
      },
      "source": [
        "## Explicit date parsing\n",
        "\n",
        "* Create a parser function\n",
        "* Pass to `date_parser`\n",
        "* Use if `pandas` fails to parse\n",
        "* More information about format codes [here](https://docs.python.org/2/library/datetime.html#strftime-strptime-behavior)"
      ]
    },
    {
      "cell_type": "code",
      "execution_count": 38,
      "metadata": {
        "scrolled": true,
        "id": "iwOSYKPq-2JY",
        "outputId": "ae6844d4-824b-432f-ba0b-b48b6230deff",
        "colab": {
          "base_uri": "https://localhost:8080/",
          "height": 148
        }
      },
      "outputs": [
        {
          "output_type": "stream",
          "name": "stderr",
          "text": [
            "/usr/local/lib/python3.7/dist-packages/pandas/io/parsers/base_parser.py:1055: FutureWarning: \n",
            "        Use pd.to_datetime instead.\n",
            "\n",
            "  return generic_parser(date_parser, *date_cols)\n"
          ]
        },
        {
          "output_type": "error",
          "ename": "ValueError",
          "evalue": "ignored",
          "traceback": [
            "\u001b[0;31mValueError\u001b[0m\u001b[0;31m:\u001b[0m time data 4/1/2014 0:11:00 doesn't match format specified\n"
          ]
        }
      ],
      "source": [
        "dateparse = lambda x: pd.to_datetime(x, format = \"%Y-%m-%d %H:%M:%S\")\n",
        "uber_april_parsered = pd.read_csv('./data/uber/uber-trip-data/uber-raw-data-apr14.csv', \n",
        "                              parse_dates=['Date/Time'],\n",
        "                              date_parser=dateparse)\n",
        "uber_april_parsered.head()"
      ]
    },
    {
      "cell_type": "markdown",
      "metadata": {
        "id": "exxEn6tK-2JY"
      },
      "source": [
        "## Categorical dtype\n",
        "\n",
        "* Similar to `R`s factor\n",
        "* Allows for nominal or ordinal categories"
      ]
    },
    {
      "cell_type": "code",
      "execution_count": 39,
      "metadata": {
        "scrolled": false,
        "id": "9q7sIfwn-2JY",
        "outputId": "dde8219b-5c10-4695-fa85-5dc2a59bef66",
        "colab": {
          "base_uri": "https://localhost:8080/"
        }
      },
      "outputs": [
        {
          "output_type": "execute_result",
          "data": {
            "text/plain": [
              "date       datetime64[ns]\n",
              "Lat               float64\n",
              "Lon               float64\n",
              "Base               object\n",
              "weekday          category\n",
              "month              object\n",
              "dtype: object"
            ]
          },
          "metadata": {},
          "execution_count": 39
        }
      ],
      "source": [
        "uber_april_weekday_cat = (uber_april_weekday >>\n",
        "                            mutate(weekday = X.weekday.astype('category')))\n",
        "uber_april_weekday_cat.dtypes"
      ]
    },
    {
      "cell_type": "markdown",
      "metadata": {
        "id": "6iIbIe1W-2JY"
      },
      "source": [
        "## Let's plot the weekdays with `seaborn.catplot`"
      ]
    },
    {
      "cell_type": "code",
      "execution_count": 40,
      "metadata": {
        "id": "CZoFahHs-2JY"
      },
      "outputs": [],
      "source": [
        "import pandas as pd\n",
        "import matplotlib.pyplot as plt\n",
        "import seaborn as sns"
      ]
    },
    {
      "cell_type": "code",
      "execution_count": 41,
      "metadata": {
        "id": "KipkeOWW-2JY",
        "outputId": "ebcf5f3b-ffc1-485c-efa8-8e3adec5894c",
        "colab": {
          "base_uri": "https://localhost:8080/",
          "height": 433
        }
      },
      "outputs": [
        {
          "output_type": "display_data",
          "data": {
            "text/plain": [
              "<Figure size 360x360 with 1 Axes>"
            ],
            "image/png": "[encoded data removed]"
          },
          "metadata": {
            "needs_background": "light"
          }
        }
      ],
      "source": [
        "weekday_plot = sns.catplot( x=\"weekday\", \n",
        "                            kind=\"count\", \n",
        "                            palette=\"ch:.25\", \n",
        "                            data=uber_april_weekday_cat)\n",
        "# set title and rotate the long x labels\n",
        "_ = weekday_plot.ax.set_title(\"Uber rides by day of the week\")\n",
        "_ = weekday_plot.ax.set_xticklabels(weekday_plot.ax.get_xticklabels(),rotation=90)"
      ]
    },
    {
      "cell_type": "markdown",
      "metadata": {
        "id": "toEbao9P-2JZ"
      },
      "source": [
        "## Nominal by default\n",
        "\n",
        "* Setting `'category'` makes this nominal\n",
        "* Weekdays are actually ordinal\n",
        "* Notice the alphabetical order in the plot."
      ]
    },
    {
      "cell_type": "markdown",
      "metadata": {
        "id": "1LM953JT-2JZ"
      },
      "source": [
        "## Making the data ordinal\n",
        "\n",
        "1. Make a new category class with `CategoricalDtype`\n",
        "2. Use `astype` with your new dtype class"
      ]
    },
    {
      "cell_type": "markdown",
      "metadata": {
        "id": "m5_XHf-h-2JZ"
      },
      "source": [
        "#### Making an order weekday category"
      ]
    },
    {
      "cell_type": "code",
      "execution_count": 42,
      "metadata": {
        "scrolled": true,
        "id": "3Wd1DEoO-2JZ",
        "outputId": "5b41b2e8-8430-41cc-f2cd-fe656f8b5ce9",
        "colab": {
          "base_uri": "https://localhost:8080/"
        }
      },
      "outputs": [
        {
          "output_type": "execute_result",
          "data": {
            "text/plain": [
              "['Monday', 'Tuesday', 'Wednesday', 'Thursday', 'Friday', 'Saturday', 'Sunday']"
            ]
          },
          "metadata": {},
          "execution_count": 42
        }
      ],
      "source": [
        "from calendar import day_name\n",
        "list(day_name)"
      ]
    },
    {
      "cell_type": "code",
      "execution_count": 43,
      "metadata": {
        "id": "7_0qAaEX-2JZ",
        "outputId": "3874c0bf-6adc-4754-fcff-edf38d50ec3b",
        "colab": {
          "base_uri": "https://localhost:8080/"
        }
      },
      "outputs": [
        {
          "output_type": "execute_result",
          "data": {
            "text/plain": [
              "CategoricalDtype(categories=['Monday', 'Tuesday', 'Wednesday', 'Thursday', 'Friday',\n",
              "                  'Saturday', 'Sunday'],\n",
              ", ordered=True)"
            ]
          },
          "metadata": {},
          "execution_count": 43
        }
      ],
      "source": [
        "weekday_categories = pd.CategoricalDtype(categories=list(day_name),\n",
        "                                     ordered=True)\n",
        "weekday_categories"
      ]
    },
    {
      "cell_type": "markdown",
      "metadata": {
        "id": "uxWZliu3-2Ja"
      },
      "source": [
        "#### Changing to our custom type"
      ]
    },
    {
      "cell_type": "code",
      "execution_count": 44,
      "metadata": {
        "scrolled": false,
        "id": "h_JmjmuQ-2Ja",
        "outputId": "ba38afda-622a-4fc6-a0b9-e1e92ff38b7a",
        "colab": {
          "base_uri": "https://localhost:8080/"
        }
      },
      "outputs": [
        {
          "output_type": "execute_result",
          "data": {
            "text/plain": [
              "date       datetime64[ns]\n",
              "Lat               float64\n",
              "Lon               float64\n",
              "Base               object\n",
              "weekday          category\n",
              "month              object\n",
              "dtype: object"
            ]
          },
          "metadata": {},
          "execution_count": 44
        }
      ],
      "source": [
        "uber_april_weekday_ord = (uber_april_weekday >>\n",
        "                            mutate(weekday = X.weekday.astype(weekday_categories)))\n",
        "uber_april_weekday_ord.dtypes"
      ]
    },
    {
      "cell_type": "markdown",
      "metadata": {
        "id": "W0hqxZoX-2Ja"
      },
      "source": [
        "## Plot the ordinal weekdays with `seaborn.catplot`"
      ]
    },
    {
      "cell_type": "code",
      "execution_count": 45,
      "metadata": {
        "id": "IuHp7v2X-2Ja",
        "outputId": "9205f698-463e-4bcb-aa2c-e9fcf45ebf46",
        "colab": {
          "base_uri": "https://localhost:8080/",
          "height": 433
        }
      },
      "outputs": [
        {
          "output_type": "display_data",
          "data": {
            "text/plain": [
              "<Figure size 360x360 with 1 Axes>"
            ],
            "image/png": "[encoded data removed]"
          },
          "metadata": {
            "needs_background": "light"
          }
        }
      ],
      "source": [
        "import seaborn as sns\n",
        "ordered_plot = sns.catplot( x=\"weekday\", \n",
        "                            kind=\"count\", \n",
        "                            palette=\"ch:.25\", \n",
        "                            data=uber_april_weekday_ord)\n",
        "# rotate the long x labels\n",
        "_ = ordered_plot.ax.set_title(\"Uber rides by day of the week\")\n",
        "_ = ordered_plot.ax.set_xticklabels(ordered_plot.ax.get_xticklabels(),rotation=90)"
      ]
    },
    {
      "cell_type": "markdown",
      "metadata": {
        "id": "Q0x51kom-2Ja"
      },
      "source": [
        "## <font color=\"red\"> Exercise 4</font>\n",
        "\n",
        "Sometimes there is an advantage to treating calendar years as ordinal data.  Perform the following steps on the `Artist` data loaded above.\n",
        "\n",
        "**Tasks:**\n",
        "\n",
        "1. Remove the `0` from `BeginDate` and switch the type to `Int64`.\n",
        "2. Filter out the rows that are missing `BeginDate`\n",
        "3. Determine the minimum and maximum values of the filtered `BeginDate`s\n",
        "4. Create a new ordinal category class for this date range.\n",
        "5. Use `sns.catplot` to plot the distribution of the dates."
      ]
    },
    {
      "cell_type": "code",
      "source": [
        "artist.head()"
      ],
      "metadata": {
        "id": "Nj8O8qm6kiM1",
        "outputId": "c901bf6a-3fb5-4961-b81a-44e7a1f3f2ff",
        "colab": {
          "base_uri": "https://localhost:8080/",
          "height": 206
        }
      },
      "execution_count": 46,
      "outputs": [
        {
          "output_type": "execute_result",
          "data": {
            "text/plain": [
              "   ConstituentID      DisplayName            ArtistBio Nationality Gender  \\\n",
              "0              1   Robert Arneson  American, 1930–1992    American   Male   \n",
              "1              2   Doroteo Arnaiz   Spanish, born 1936     Spanish   Male   \n",
              "2              3      Bill Arnold  American, born 1941    American   Male   \n",
              "3              4  Charles Arnoldi  American, born 1946    American   Male   \n",
              "4              5      Per Arnoldi    Danish, born 1941      Danish   Male   \n",
              "\n",
              "   BeginDate  EndDate  Wiki QID         ULAN  \n",
              "0       1930     1992       NaN          NaN  \n",
              "1       1936        0       NaN          NaN  \n",
              "2       1941        0       NaN          NaN  \n",
              "3       1946        0  Q1063584  500027998.0  \n",
              "4       1941        0       NaN          NaN  "
            ],
            "text/html": [
              "\n",
              "  <div id=\"df-041280ab-2227-429c-8ccb-6b5fce49d856\">\n",
              "    <div class=\"colab-df-container\">\n",
              "      <div>\n",
              "<style scoped>\n",
              "    .dataframe tbody tr th:only-of-type {\n",
              "        vertical-align: middle;\n",
              "    }\n",
              "\n",
              "    .dataframe tbody tr th {\n",
              "        vertical-align: top;\n",
              "    }\n",
              "\n",
              "    .dataframe thead th {\n",
              "        text-align: right;\n",
              "    }\n",
              "</style>\n",
              "<table border=\"1\" class=\"dataframe\">\n",
              "  <thead>\n",
              "    <tr style=\"text-align: right;\">\n",
              "      <th></th>\n",
              "      <th>ConstituentID</th>\n",
              "      <th>DisplayName</th>\n",
              "      <th>ArtistBio</th>\n",
              "      <th>Nationality</th>\n",
              "      <th>Gender</th>\n",
              "      <th>BeginDate</th>\n",
              "      <th>EndDate</th>\n",
              "      <th>Wiki QID</th>\n",
              "      <th>ULAN</th>\n",
              "    </tr>\n",
              "  </thead>\n",
              "  <tbody>\n",
              "    <tr>\n",
              "      <th>0</th>\n",
              "      <td>1</td>\n",
              "      <td>Robert Arneson</td>\n",
              "      <td>American, 1930–1992</td>\n",
              "      <td>American</td>\n",
              "      <td>Male</td>\n",
              "      <td>1930</td>\n",
              "      <td>1992</td>\n",
              "      <td>NaN</td>\n",
              "      <td>NaN</td>\n",
              "    </tr>\n",
              "    <tr>\n",
              "      <th>1</th>\n",
              "      <td>2</td>\n",
              "      <td>Doroteo Arnaiz</td>\n",
              "      <td>Spanish, born 1936</td>\n",
              "      <td>Spanish</td>\n",
              "      <td>Male</td>\n",
              "      <td>1936</td>\n",
              "      <td>0</td>\n",
              "      <td>NaN</td>\n",
              "      <td>NaN</td>\n",
              "    </tr>\n",
              "    <tr>\n",
              "      <th>2</th>\n",
              "      <td>3</td>\n",
              "      <td>Bill Arnold</td>\n",
              "      <td>American, born 1941</td>\n",
              "      <td>American</td>\n",
              "      <td>Male</td>\n",
              "      <td>1941</td>\n",
              "      <td>0</td>\n",
              "      <td>NaN</td>\n",
              "      <td>NaN</td>\n",
              "    </tr>\n",
              "    <tr>\n",
              "      <th>3</th>\n",
              "      <td>4</td>\n",
              "      <td>Charles Arnoldi</td>\n",
              "      <td>American, born 1946</td>\n",
              "      <td>American</td>\n",
              "      <td>Male</td>\n",
              "      <td>1946</td>\n",
              "      <td>0</td>\n",
              "      <td>Q1063584</td>\n",
              "      <td>500027998.0</td>\n",
              "    </tr>\n",
              "    <tr>\n",
              "      <th>4</th>\n",
              "      <td>5</td>\n",
              "      <td>Per Arnoldi</td>\n",
              "      <td>Danish, born 1941</td>\n",
              "      <td>Danish</td>\n",
              "      <td>Male</td>\n",
              "      <td>1941</td>\n",
              "      <td>0</td>\n",
              "      <td>NaN</td>\n",
              "      <td>NaN</td>\n",
              "    </tr>\n",
              "  </tbody>\n",
              "</table>\n",
              "</div>\n",
              "      <button class=\"colab-df-convert\" onclick=\"convertToInteractive('df-041280ab-2227-429c-8ccb-6b5fce49d856')\"\n",
              "              title=\"Convert this dataframe to an interactive table.\"\n",
              "              style=\"display:none;\">\n",
              "        \n",
              "  <svg xmlns=\"http://www.w3.org/2000/svg\" height=\"24px\"viewBox=\"0 0 24 24\"\n",
              "       width=\"24px\">\n",
              "    <path d=\"M0 0h24v24H0V0z\" fill=\"none\"/>\n",
              "    <path d=\"M18.56 5.44l.94 2.06.94-2.06 2.06-.94-2.06-.94-.94-2.06-.94 2.06-2.06.94zm-11 1L8.5 8.5l.94-2.06 2.06-.94-2.06-.94L8.5 2.5l-.94 2.06-2.06.94zm10 10l.94 2.06.94-2.06 2.06-.94-2.06-.94-.94-2.06-.94 2.06-2.06.94z\"/><path d=\"M17.41 7.96l-1.37-1.37c-.4-.4-.92-.59-1.43-.59-.52 0-1.04.2-1.43.59L10.3 9.45l-7.72 7.72c-.78.78-.78 2.05 0 2.83L4 21.41c.39.39.9.59 1.41.59.51 0 1.02-.2 1.41-.59l7.78-7.78 2.81-2.81c.8-.78.8-2.07 0-2.86zM5.41 20L4 18.59l7.72-7.72 1.47 1.35L5.41 20z\"/>\n",
              "  </svg>\n",
              "      </button>\n",
              "      \n",
              "  <style>\n",
              "    .colab-df-container {\n",
              "      display:flex;\n",
              "      flex-wrap:wrap;\n",
              "      gap: 12px;\n",
              "    }\n",
              "\n",
              "    .colab-df-convert {\n",
              "      background-color: #E8F0FE;\n",
              "      border: none;\n",
              "      border-radius: 50%;\n",
              "      cursor: pointer;\n",
              "      display: none;\n",
              "      fill: #1967D2;\n",
              "      height: 32px;\n",
              "      padding: 0 0 0 0;\n",
              "      width: 32px;\n",
              "    }\n",
              "\n",
              "    .colab-df-convert:hover {\n",
              "      background-color: #E2EBFA;\n",
              "      box-shadow: 0px 1px 2px rgba(60, 64, 67, 0.3), 0px 1px 3px 1px rgba(60, 64, 67, 0.15);\n",
              "      fill: #174EA6;\n",
              "    }\n",
              "\n",
              "    [theme=dark] .colab-df-convert {\n",
              "      background-color: #3B4455;\n",
              "      fill: #D2E3FC;\n",
              "    }\n",
              "\n",
              "    [theme=dark] .colab-df-convert:hover {\n",
              "      background-color: #434B5C;\n",
              "      box-shadow: 0px 1px 3px 1px rgba(0, 0, 0, 0.15);\n",
              "      filter: drop-shadow(0px 1px 2px rgba(0, 0, 0, 0.3));\n",
              "      fill: #FFFFFF;\n",
              "    }\n",
              "  </style>\n",
              "\n",
              "      <script>\n",
              "        const buttonEl =\n",
              "          document.querySelector('#df-041280ab-2227-429c-8ccb-6b5fce49d856 button.colab-df-convert');\n",
              "        buttonEl.style.display =\n",
              "          google.colab.kernel.accessAllowed ? 'block' : 'none';\n",
              "\n",
              "        async function convertToInteractive(key) {\n",
              "          const element = document.querySelector('#df-041280ab-2227-429c-8ccb-6b5fce49d856');\n",
              "          const dataTable =\n",
              "            await google.colab.kernel.invokeFunction('convertToInteractive',\n",
              "                                                     [key], {});\n",
              "          if (!dataTable) return;\n",
              "\n",
              "          const docLinkHtml = 'Like what you see? Visit the ' +\n",
              "            '<a target=\"_blank\" href=https://colab.research.google.com/notebooks/data_table.ipynb>data table notebook</a>'\n",
              "            + ' to learn more about interactive tables.';\n",
              "          element.innerHTML = '';\n",
              "          dataTable['output_type'] = 'display_data';\n",
              "          await google.colab.output.renderOutput(dataTable, element);\n",
              "          const docLink = document.createElement('div');\n",
              "          docLink.innerHTML = docLinkHtml;\n",
              "          element.appendChild(docLink);\n",
              "        }\n",
              "      </script>\n",
              "    </div>\n",
              "  </div>\n",
              "  "
            ]
          },
          "metadata": {},
          "execution_count": 46
        }
      ]
    },
    {
      "cell_type": "code",
      "source": [
        "artist.dtypes"
      ],
      "metadata": {
        "id": "YCXkBP7NlRZl",
        "outputId": "86323524-8d10-4d29-dcfd-611e52fa2519",
        "colab": {
          "base_uri": "https://localhost:8080/"
        }
      },
      "execution_count": 52,
      "outputs": [
        {
          "output_type": "execute_result",
          "data": {
            "text/plain": [
              "ConstituentID      int64\n",
              "DisplayName       object\n",
              "ArtistBio         object\n",
              "Nationality       object\n",
              "Gender            object\n",
              "BeginDate          int64\n",
              "EndDate            int64\n",
              "Wiki QID          object\n",
              "ULAN             float64\n",
              "dtype: object"
            ]
          },
          "metadata": {},
          "execution_count": 52
        }
      ]
    },
    {
      "cell_type": "code",
      "execution_count": 65,
      "metadata": {
        "id": "GOSgx6bC-2Jb",
        "outputId": "13c4efca-8ba5-4782-823d-2c689238122f",
        "colab": {
          "base_uri": "https://localhost:8080/"
        }
      },
      "outputs": [
        {
          "output_type": "execute_result",
          "data": {
            "text/plain": [
              "0    1930.0\n",
              "1    1936.0\n",
              "2    1941.0\n",
              "3    1946.0\n",
              "4    1941.0\n",
              "Name: BeginDate, dtype: float64"
            ]
          },
          "metadata": {},
          "execution_count": 65
        }
      ],
      "source": [
        "# Your code here\n",
        "artist2 = artist.BeginDate.apply(lambda val: np.nan if val == 0 else val)\n",
        "artist2.head()"
      ]
    },
    {
      "cell_type": "code",
      "source": [
        "artist2 = artist2.astype('Int64').dropna().head(15) # There we go!"
      ],
      "metadata": {
        "id": "BlAbFj-vnlNP"
      },
      "execution_count": 76,
      "outputs": []
    },
    {
      "cell_type": "code",
      "source": [
        "artist2.min()"
      ],
      "metadata": {
        "id": "3FxEIpOTpIUU",
        "outputId": "8a98de0d-0ed7-4a3d-b693-550fe9198062",
        "colab": {
          "base_uri": "https://localhost:8080/"
        }
      },
      "execution_count": 77,
      "outputs": [
        {
          "output_type": "execute_result",
          "data": {
            "text/plain": [
              "1886"
            ]
          },
          "metadata": {},
          "execution_count": 77
        }
      ]
    },
    {
      "cell_type": "code",
      "source": [
        "artist2.max()"
      ],
      "metadata": {
        "id": "60IIvgGqpLHn",
        "outputId": "bbc9de22-a124-45dd-b703-678a00bff68c",
        "colab": {
          "base_uri": "https://localhost:8080/"
        }
      },
      "execution_count": 78,
      "outputs": [
        {
          "output_type": "execute_result",
          "data": {
            "text/plain": [
              "1946"
            ]
          },
          "metadata": {},
          "execution_count": 78
        }
      ]
    },
    {
      "cell_type": "code",
      "source": [
        "artist2.head()"
      ],
      "metadata": {
        "id": "Lp72snh_vzio",
        "outputId": "2379375b-f522-45d2-e4a2-73271ef0245d",
        "colab": {
          "base_uri": "https://localhost:8080/"
        }
      },
      "execution_count": 107,
      "outputs": [
        {
          "output_type": "execute_result",
          "data": {
            "text/plain": [
              "0    1930\n",
              "1    1936\n",
              "2    1941\n",
              "3    1946\n",
              "4    1941\n",
              "Name: BeginDate, dtype: Int64"
            ]
          },
          "metadata": {},
          "execution_count": 107
        }
      ]
    },
    {
      "cell_type": "code",
      "source": [
        "yearas_categories = pd.CategoricalDtype(categories=list(['1886','1887','1888','1889','1890','1891','1892','1893','1894','1895','1896','1897','1898'\n",
        "                                                        ,'1899','1900','1901','1902','1903','1904','1905','1906','1907','1908','1909','1910','1911'\n",
        "                                                        ,'1912','1913','1914','1915','1916','1917','1918','1919','1920','1921','1922','1923','19024'\n",
        "                                                        ,'1925','1926','1927','1928','1929','1930','1931','1932','1933','1934','1935','1936','1937'\n",
        "                                                        ,'1938','1939','1940','1941','1942','1943','1944','1945','1946']), ordered=True)\n",
        "yearas_categories"
      ],
      "metadata": {
        "id": "2kHFpaFhrxc8",
        "outputId": "307e63d5-c55b-4ac2-e6d6-3673520d7968",
        "colab": {
          "base_uri": "https://localhost:8080/"
        }
      },
      "execution_count": 90,
      "outputs": [
        {
          "output_type": "execute_result",
          "data": {
            "text/plain": [
              "CategoricalDtype(categories=['1886', '1887', '1888', '1889', '1890', '1891', '1892',\n",
              "                  '1893', '1894', '1895', '1896', '1897', '1898', '1899',\n",
              "                  '1900', '1901', '1902', '1903', '1904', '1905', '1906',\n",
              "                  '1907', '1908', '1909', '1910', '1911', '1912', '1913',\n",
              "                  '1914', '1915', '1916', '1917', '1918', '1919', '1920',\n",
              "                  '1921', '1922', '1923', '19024', '1925', '1926', '1927',\n",
              "                  '1928', '1929', '1930', '1931', '1932', '1933', '1934',\n",
              "                  '1935', '1936', '1937', '1938', '1939', '1940', '1941',\n",
              "                  '1942', '1943', '1944', '1945', '1946'],\n",
              ", ordered=True)"
            ]
          },
          "metadata": {},
          "execution_count": 90
        }
      ]
    },
    {
      "cell_type": "code",
      "source": [
        "artist_final = artist.BeginDate.astype('category')"
      ],
      "metadata": {
        "id": "xQ1f_c2-th6R"
      },
      "execution_count": 118,
      "outputs": []
    },
    {
      "cell_type": "code",
      "source": [
        "artist_final2 = artist2.BeginDate.astype('category')"
      ],
      "metadata": {
        "id": "tBt1sPD_yOhY",
        "outputId": "bf8215c7-4f2b-43b2-a538-f98039b86d7a",
        "colab": {
          "base_uri": "https://localhost:8080/",
          "height": 79
        }
      },
      "execution_count": 121,
      "outputs": [
        {
          "output_type": "error",
          "ename": "AttributeError",
          "evalue": "ignored",
          "traceback": [
            "\u001b[0;31mAttributeError\u001b[0m\u001b[0;31m:\u001b[0m 'Series' object has no attribute 'BeginDate'\n"
          ]
        }
      ]
    },
    {
      "cell_type": "code",
      "source": [
        "artist_final.head()"
      ],
      "metadata": {
        "id": "Pmveua6DvAQS",
        "outputId": "7db50859-8d50-4534-89d6-83000b11dcf3",
        "colab": {
          "base_uri": "https://localhost:8080/"
        }
      },
      "execution_count": 119,
      "outputs": [
        {
          "output_type": "execute_result",
          "data": {
            "text/plain": [
              "0    1930\n",
              "1    1936\n",
              "2    1941\n",
              "3    1946\n",
              "4    1941\n",
              "Name: BeginDate, dtype: category\n",
              "Categories (236, int64): [0, 1181, 1730, 1731, ..., 2014, 2015, 2016, 2017]"
            ]
          },
          "metadata": {},
          "execution_count": 119
        }
      ]
    },
    {
      "cell_type": "code",
      "source": [
        "import seaborn as sns\n",
        "g = sns.catplot(x='category', y=\"count\", data=artist_final)"
      ],
      "metadata": {
        "id": "82ICUMKCpcg4",
        "outputId": "487bd2cb-4a5f-4e08-8645-652f51e40e5d",
        "colab": {
          "base_uri": "https://localhost:8080/",
          "height": 79
        }
      },
      "execution_count": 120,
      "outputs": [
        {
          "output_type": "error",
          "ename": "ValueError",
          "evalue": "ignored",
          "traceback": [
            "\u001b[0;31mValueError\u001b[0m\u001b[0;31m:\u001b[0m Could not interpret input 'category'\n"
          ]
        }
      ]
    },
    {
      "cell_type": "markdown",
      "metadata": {
        "id": "65_0iNSD-2Jb"
      },
      "source": [
        "> *Your answer here*"
      ]
    }
  ],
  "metadata": {
    "celltoolbar": "Slideshow",
    "kernelspec": {
      "display_name": "Python 3 (ipykernel)",
      "language": "python",
      "name": "python3"
    },
    "language_info": {
      "codemirror_mode": {
        "name": "ipython",
        "version": 3
      },
      "file_extension": ".py",
      "mimetype": "text/x-python",
      "name": "python",
      "nbconvert_exporter": "python",
      "pygments_lexer": "ipython3",
      "version": "3.9.12"
    },
    "varInspector": {
      "cols": {
        "lenName": 16,
        "lenType": 16,
        "lenVar": 40
      },
      "kernels_config": {
        "python": {
          "delete_cmd_postfix": "",
          "delete_cmd_prefix": "del ",
          "library": "var_list.py",
          "varRefreshCmd": "print(var_dic_list())"
        },
        "r": {
          "delete_cmd_postfix": ") ",
          "delete_cmd_prefix": "rm(",
          "library": "var_list.r",
          "varRefreshCmd": "cat(var_dic_list()) "
        }
      },
      "types_to_exclude": [
        "module",
        "function",
        "builtin_function_or_method",
        "instance",
        "_Feature"
      ],
      "window_display": false
    },
    "colab": {
      "provenance": [],
      "include_colab_link": true
    }
  },
  "nbformat": 4,
  "nbformat_minor": 0
}